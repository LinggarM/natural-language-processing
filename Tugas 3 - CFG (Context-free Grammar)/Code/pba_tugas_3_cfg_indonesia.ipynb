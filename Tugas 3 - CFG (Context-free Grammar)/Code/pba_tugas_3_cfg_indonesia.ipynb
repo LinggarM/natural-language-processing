{
  "nbformat": 4,
  "nbformat_minor": 0,
  "metadata": {
    "colab": {
      "name": "pba_tugas 3_cfg indonesia.ipynb",
      "provenance": []
    },
    "kernelspec": {
      "name": "python3",
      "display_name": "Python 3"
    },
    "language_info": {
      "name": "python"
    }
  },
  "cells": [
    {
      "cell_type": "code",
      "metadata": {
        "id": "3__gpYCBfFOP"
      },
      "source": [
        "#Import Library yang akan Digunakan\n",
        "import nltk\n",
        "from nltk import Tree\n",
        "import re\n",
        "from collections import Counter\n",
        "from nltk.grammar import CFG, Nonterminal\n",
        "from nltk.parse.chart import BottomUpChartParser\n",
        "from nltk.parse.generate import generate, demo_grammar"
      ],
      "execution_count": 1,
      "outputs": []
    },
    {
      "cell_type": "code",
      "metadata": {
        "colab": {
          "base_uri": "https://localhost:8080/"
        },
        "id": "49rmIOMVet_6",
        "outputId": "e1ab276a-33b5-4129-c7f7-8c787ce86684"
      },
      "source": [
        "#Membuat CFG (Context-Free Grammar) Bahasa Indonesia\n",
        "cfg_grammar = \"\"\"\n",
        "  S -> Sub P | Sub P O | Sub P K | Sub P O K\n",
        "  Sub -> KB | KG | KB KG | KB KTun\n",
        "  P -> KK\n",
        "  O -> KB | KG | KB KG\n",
        "  K -> KD KW | KD KT\n",
        "\n",
        "  KB -> 'anjing' | 'kucing' | 'pohon'  | 'bola' | 'susu' | 'emas' | 'cincin'\n",
        "  KG -> 'aku' | 'kamu' | 'dia' | 'ayah' | 'ibu' | 'adik' | 'kakak' | 'paman' | 'bibi' | 'kakek' | 'nenek'\n",
        "  KTun -> 'itu' | 'ini'\n",
        "  KK -> 'berenang' | 'menangis' | 'bermain' | 'memanjat' | 'meminum' | 'menjaga'\n",
        "  KD -> 'di' | 'dari' | 'ke' | 'pada'\n",
        "  KW -> KWS H\n",
        "  KWS -> 'siang' | 'pagi' | 'sore'\n",
        "  H -> 'hari'\n",
        "  KT -> 'warung' | 'kolam' | 'lapangan' | 'kantor' | 'kampus'\n",
        "\"\"\"\n",
        "grammar = CFG.fromstring(cfg_grammar)\n",
        "print(grammar)"
      ],
      "execution_count": 2,
      "outputs": [
        {
          "output_type": "stream",
          "text": [
            "Grammar with 54 productions (start state = S)\n",
            "    S -> Sub P\n",
            "    S -> Sub P O\n",
            "    S -> Sub P K\n",
            "    S -> Sub P O K\n",
            "    Sub -> KB\n",
            "    Sub -> KG\n",
            "    Sub -> KB KG\n",
            "    Sub -> KB KTun\n",
            "    P -> KK\n",
            "    O -> KB\n",
            "    O -> KG\n",
            "    O -> KB KG\n",
            "    K -> KD KW\n",
            "    K -> KD KT\n",
            "    KB -> 'anjing'\n",
            "    KB -> 'kucing'\n",
            "    KB -> 'pohon'\n",
            "    KB -> 'bola'\n",
            "    KB -> 'susu'\n",
            "    KB -> 'emas'\n",
            "    KB -> 'cincin'\n",
            "    KG -> 'aku'\n",
            "    KG -> 'kamu'\n",
            "    KG -> 'dia'\n",
            "    KG -> 'ayah'\n",
            "    KG -> 'ibu'\n",
            "    KG -> 'adik'\n",
            "    KG -> 'kakak'\n",
            "    KG -> 'paman'\n",
            "    KG -> 'bibi'\n",
            "    KG -> 'kakek'\n",
            "    KG -> 'nenek'\n",
            "    KTun -> 'itu'\n",
            "    KTun -> 'ini'\n",
            "    KK -> 'berenang'\n",
            "    KK -> 'menangis'\n",
            "    KK -> 'bermain'\n",
            "    KK -> 'memanjat'\n",
            "    KK -> 'meminum'\n",
            "    KK -> 'menjaga'\n",
            "    KD -> 'di'\n",
            "    KD -> 'dari'\n",
            "    KD -> 'ke'\n",
            "    KD -> 'pada'\n",
            "    KW -> KWS H\n",
            "    KWS -> 'siang'\n",
            "    KWS -> 'pagi'\n",
            "    KWS -> 'sore'\n",
            "    H -> 'hari'\n",
            "    KT -> 'warung'\n",
            "    KT -> 'kolam'\n",
            "    KT -> 'lapangan'\n",
            "    KT -> 'kantor'\n",
            "    KT -> 'kampus'\n"
          ],
          "name": "stdout"
        }
      ]
    },
    {
      "cell_type": "code",
      "metadata": {
        "colab": {
          "base_uri": "https://localhost:8080/"
        },
        "id": "xtmbFbmufKKq",
        "outputId": "689a2894-2af4-470c-c1a7-03fe6177f994"
      },
      "source": [
        "#Melakukan Generate Kalimat Sebanyak 50 Kalimat\n",
        "N = 50\n",
        "print(\"Generate %d kalimat dari grammar:\" % (N,))\n",
        "for n, sent in enumerate(generate(grammar, n=N), 1):\n",
        "    print(\"%3d. %s\" % (n, \" \".join(sent)))"
      ],
      "execution_count": 3,
      "outputs": [
        {
          "output_type": "stream",
          "text": [
            "Generate 50 kalimat dari grammar:\n",
            "  1. anjing berenang\n",
            "  2. anjing menangis\n",
            "  3. anjing bermain\n",
            "  4. anjing memanjat\n",
            "  5. anjing meminum\n",
            "  6. anjing menjaga\n",
            "  7. kucing berenang\n",
            "  8. kucing menangis\n",
            "  9. kucing bermain\n",
            " 10. kucing memanjat\n",
            " 11. kucing meminum\n",
            " 12. kucing menjaga\n",
            " 13. pohon berenang\n",
            " 14. pohon menangis\n",
            " 15. pohon bermain\n",
            " 16. pohon memanjat\n",
            " 17. pohon meminum\n",
            " 18. pohon menjaga\n",
            " 19. bola berenang\n",
            " 20. bola menangis\n",
            " 21. bola bermain\n",
            " 22. bola memanjat\n",
            " 23. bola meminum\n",
            " 24. bola menjaga\n",
            " 25. susu berenang\n",
            " 26. susu menangis\n",
            " 27. susu bermain\n",
            " 28. susu memanjat\n",
            " 29. susu meminum\n",
            " 30. susu menjaga\n",
            " 31. emas berenang\n",
            " 32. emas menangis\n",
            " 33. emas bermain\n",
            " 34. emas memanjat\n",
            " 35. emas meminum\n",
            " 36. emas menjaga\n",
            " 37. cincin berenang\n",
            " 38. cincin menangis\n",
            " 39. cincin bermain\n",
            " 40. cincin memanjat\n",
            " 41. cincin meminum\n",
            " 42. cincin menjaga\n",
            " 43. aku berenang\n",
            " 44. aku menangis\n",
            " 45. aku bermain\n",
            " 46. aku memanjat\n",
            " 47. aku meminum\n",
            " 48. aku menjaga\n",
            " 49. kamu berenang\n",
            " 50. kamu menangis\n"
          ],
          "name": "stdout"
        }
      ]
    },
    {
      "cell_type": "code",
      "metadata": {
        "colab": {
          "base_uri": "https://localhost:8080/"
        },
        "id": "AuoTxxcKljtQ",
        "outputId": "206a16aa-1cad-4057-955f-1f3c0a65744d"
      },
      "source": [
        "#Menampilkan Derivation dari Dua Contoh Kalimat\n",
        "#Kalimat 1 = “anjing itu berenang di kolam”\n",
        "#Kalimat 2 = “kakak bermain bola pada pagi hari”\n",
        "\n",
        "kalimat = \"anjing itu berenang di kolam\"\n",
        "parser = BottomUpChartParser(grammar)\n",
        "kalimat_split = kalimat.split()\n",
        "kalimat_parsed = list(parser.parse(kalimat_split))\n",
        "print(kalimat_parsed[0].pretty_print())\n",
        "\n",
        "kalimat = \"kakak bermain bola pada pagi hari\"\n",
        "parser = BottomUpChartParser(grammar)\n",
        "kalimat_split = kalimat.split()\n",
        "kalimat_parsed = list(parser.parse(kalimat_split))\n",
        "print(kalimat_parsed[0].pretty_print())"
      ],
      "execution_count": 11,
      "outputs": [
        {
          "output_type": "stream",
          "text": [
            "                   S                  \n",
            "         __________|__________         \n",
            "       Sub         P          K       \n",
            "   _____|___       |       ___|____    \n",
            "  KB       KTun    KK     KD       KT \n",
            "  |         |      |      |        |   \n",
            "anjing     itu  berenang  di     kolam\n",
            "\n",
            "None\n",
            "               S                     \n",
            "   ____________|_________             \n",
            "  |      |     |         K           \n",
            "  |      |     |     ____|____        \n",
            " Sub     P     O    |         KW     \n",
            "  |      |     |    |     ____|___    \n",
            "  KG     KK    KB   KD  KWS       H  \n",
            "  |      |     |    |    |        |   \n",
            "kakak bermain bola pada pagi     hari\n",
            "\n",
            "None\n"
          ],
          "name": "stdout"
        }
      ]
    },
    {
      "cell_type": "code",
      "metadata": {
        "colab": {
          "base_uri": "https://localhost:8080/"
        },
        "id": "a5Rbbepgf4sd",
        "outputId": "3d8d303f-a057-4388-ee01-fd35564f3108"
      },
      "source": [
        "from google.colab import drive\n",
        "drive.mount('/content/drive')"
      ],
      "execution_count": 28,
      "outputs": [
        {
          "output_type": "stream",
          "text": [
            "Drive already mounted at /content/drive; to attempt to forcibly remount, call drive.mount(\"/content/drive\", force_remount=True).\n"
          ],
          "name": "stdout"
        }
      ]
    },
    {
      "cell_type": "code",
      "metadata": {
        "id": "1KoJ5hrJf6za"
      },
      "source": [
        "import os\n",
        "os.chdir(\"/content/drive/\")\n",
        "\n",
        "N = 10000000\n",
        "output = open('/content/drive/My Drive/Upload/Akademik/Tugas 3 PBA/output.txt','w')\n",
        "for n, sent in enumerate(generate(grammar, n=N), 1):\n",
        "    output.write(\"%3d. %s\\n\" % (n, \" \".join(sent)))\n",
        "output.close()"
      ],
      "execution_count": 29,
      "outputs": []
    }
  ]
}