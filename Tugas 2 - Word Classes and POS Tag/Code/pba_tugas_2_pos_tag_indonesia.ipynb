{
  "nbformat": 4,
  "nbformat_minor": 0,
  "metadata": {
    "colab": {
      "name": "pba_tugas 2_pos tag indonesia.ipynb",
      "provenance": []
    },
    "kernelspec": {
      "name": "python3",
      "display_name": "Python 3"
    }
  },
  "cells": [
    {
      "cell_type": "code",
      "metadata": {
        "colab": {
          "base_uri": "https://localhost:8080/"
        },
        "id": "TT1_skmpSRLs",
        "outputId": "93e68d9e-09db-4b27-e4f4-1b48b963ce7e"
      },
      "source": [
        "#mounting Google Drive\n",
        "from google.colab import drive\n",
        "drive.mount('/content/drive')"
      ],
      "execution_count": 2,
      "outputs": [
        {
          "output_type": "stream",
          "text": [
            "Mounted at /content/drive\n"
          ],
          "name": "stdout"
        }
      ]
    },
    {
      "cell_type": "code",
      "metadata": {
        "id": "u07TstbJUrmr"
      },
      "source": [
        "#read file\n",
        "txt_berita_1 = open('/content/drive/MyDrive/Upload/Akademik/Tugas 2 PBA/Cetak Assist, Asnawi Mangkualam Masuk Best 11 K League 2.txt', 'r').read()\n",
        "txt_berita_2 = open('/content/drive/MyDrive/Upload/Akademik/Tugas 2 PBA/Egy Maulana Vikri Sumbang Assist dan Gol untuk Lechia Gdansk II Sebelum Menghadap Shin Tae-yong.txt', 'r').read()"
      ],
      "execution_count": 9,
      "outputs": []
    },
    {
      "cell_type": "code",
      "metadata": {
        "colab": {
          "base_uri": "https://localhost:8080/"
        },
        "id": "gCJO8EquU9Lz",
        "outputId": "dc9b7f81-ce33-45c6-bd13-63ed111ce352"
      },
      "source": [
        "print(txt_berita_1)"
      ],
      "execution_count": 9,
      "outputs": [
        {
          "output_type": "stream",
          "text": [
            "Jakarta, CNN Indonesia -- Asnawi Mangkualam masuk dalam daftar Best 11 K League 2 pekan kedelapan setelah membuat assist kemenangan Ansan Greeners atas Daejeon Citizens, Sabtu (24/4).\n",
            "\n",
            "Mantan pemain PSM Makassar itu dipilih masuk dalam tim terbaik oleh Federasi Sepak bola Profesional Korea pada 27 April.\n",
            "\n",
            "Ini merupakan kali pertama Asnawi masuk dalam tim terbaik setelah empat kali memperkuat Ansan di laga K League 2.\n",
            "\n",
            "Dalam pertandingan akhir pekan lalu tersebut, Asnawi tampil cukup militan. Ketika menjadi penyerang sayap kanan pada babak pertama, Asnawi beberapa kali mengirim umpan ke kotak penalti. Selain itu Asnawi juga cukup aktif membantu pertahanan.\n",
            "\n",
            "Sempat gagal mencetak gol ketika mendapat peluang yang sangat terbuka di menit-menit akhir babak pertama, Asnawi yang menjadi bek kanan pada babak kedua kemudian membuat assist pada 10 menit akhir pertandingan.\n",
            "\n",
            "Umpan Asnawi yang dituntaskan Shim Jae Min menjadi gol kemenangan Ansan atas Daejeon. Sebelumnya Ansan tidak pernah menang atas Daejeon sejak pertengahan 2019.\n",
            "\n",
            "Ansan sempat menempati peringkat kedua setelah kemenangan atas Daejeon, namun kini klub berjuluk Green Wolf itu merosot ke peringkat keempat menyusul tiga poin yang didapat Jeonnam Dragons dan FC Anyang.\n",
            "\n",
            "Pada pekan mendatang, Ansan akan berhadapan dengan Seoul E-Land yang menempati peringkat kelima.\n",
            "\n",
            "Asnawi pun berpeluang kembali dimainkan, namun di sisi lain pemain 21 tahun itu juga termasuk dalam pemain yang dipanggil ke dalam pemusatan latihan Timnas Indonesia jelang Kualifikasi Piala Dunia 2022.\n",
            "\n",
            "Pelatnas akan dimulai pada 1 Mei hingga 10 Mei di Jakarta, setelah itu pelatih Shin Tae Yong akan membawa anak asuhnya berlatih di Uni Emirat Arab sebelum menghadapi tiga laga sisa Kualifikasi Piala Dunia pada Juni.\n",
            "\n",
            "Beberapa pekan lalu Shin Tae Yong sudah bertemu dengan perwakilan Ansan termasuk membicarakan perihal pemanggilan Asnawi ke Timnas Indonesia.\n"
          ],
          "name": "stdout"
        }
      ]
    },
    {
      "cell_type": "code",
      "metadata": {
        "colab": {
          "base_uri": "https://localhost:8080/"
        },
        "id": "pv78fljNU_vS",
        "outputId": "2d4727c1-bc02-4d79-bbf9-4069aca6705c"
      },
      "source": [
        "print(txt_berita_2)"
      ],
      "execution_count": 10,
      "outputs": [
        {
          "output_type": "stream",
          "text": [
            "BOLASPORT.COM - Pemain muda Indonesia, Egy Maulana Vikri menyumbang assist dan gol saat membela Lechia Gdansk II melawan Powisle Dzierzgon, Minggu (2/5/2021).\n",
            "\n",
            "Setelah hanya berada di bench kala Lechia Gdansk menang atas Wisla Plock dalam lanjutan Ekstraklasa Jumat (30/4/2021), Egy Maulana Vikri membela tim cadangan Lechia Gdansk pada Minggu sore waktu setempat.\n",
            "\n",
            "Laga antara Lechia Gdansk II Vs Powisle Dziergon merupakan laga pekan ke-19 di IV Liga (kasta kelima).\n",
            "\n",
            "Menurut laporan dari Lechia.net, laga ini sangat penting dalam penentuan grup championship dan degradasi.\n",
            "\n",
            "Egy Maulana Vikri tampil sejak awal dan menggunakan nomor punggung 10 pada laga ini, seperti laporan dari jurnalis lokal, @KieroRyba.\n",
            "\n",
            "Pemain asal Medan tersebut menyumbang assist untuk gol pertama Lechia Gdansk yang tercipta pada menit ke-7.\n",
            "\n",
            "Umpan Egy berhasil dikonversikan jadi gol oleh striker Lechia, Mykola Musolitin.\n",
            "\n",
            "Jakub Kaluzinski menggandakan keunggulan Lechia Gdansk pada menit ke-18.\n",
            "\n",
            "Powisle sempat memperkecil keunggulan 5 menit berselang, membuat skor jadi 1-2.\n",
            "\n",
            "Namun Lechia Gdansk II berhasil menjauh lagi lewat gol sang kapten, Karol Landowski pada menit ke-24.\n",
            "\n",
            "Tiga menit berselang, Landowski gantian memberikan umpan kepada Mateusz Sadlo untuk mencetak gol yang membuat skor jadi 4-1.\n",
            "\n",
            "Pada menit ke-36, Egy Maulana Vikri turut menyumbang gol.\n",
            "\n",
            "Namun tak sampai semenit kemudian, tim lawan juga mampu mencetak gol.\n",
            "\n",
            "Skor 5-2 untuk keunggulan Lechia Gdansk II menutup babak pertama.\n",
            "\n",
            "Di babak kedua, Lechia Gdansk tetap menampilkan permainan menyerang.\n",
            "\n",
            "Egy Maulana Vikri mencetak gol keduanya di laga ini pada menit ke-50 sekaligus menutup pesta gol Lechia Gdansk II.\n",
            "\n",
            "Sedangkan Powisle mampu mencetak gol ketiga pada menit ke-65.\n",
            "\n",
            "Laga berakhir, Lechia Gdansk menang dengan skor telak 6-3 atas Powisle Dziergon.\n",
            "\n",
            "Kemungkinan besar laga melawan Powisle Dziergon merupakan laga terakhir Egy Maulana Vikri untuk Lechia Gdansk sebelum ia menghadap Shin Tae-yong.\n",
            "\n",
            "Nama Egy Maulana Vikri masuk ke daftar 34 pemain yang dipanggil pemusatan latihan (TC) Timnas Indonesia per 1 Mei 2021.\n",
            "\n",
            "Direktur Teknik PSSI, Indra Sjafri memastikan sang pemain bakal datang ke Jakarta untuk TC pada 5 Mei 2021.\n",
            "\n",
            "\"Macam-macam. Jadi Egy itu tanggal 5 Mei, kalau Syahrian Abimanyu 15 Mei. Saya tidak hapal,\" ujar Indra Sjafri saat ditemui di kantor Kemenpora, Senayan, Jakarta Pusat, Selasa (27/4/2021).\n",
            "\n",
            "\"Untuk yang di Eropa itu karena kompetisi lebih cepat selesai, anak-anak juga lebih cepat bisa bergabung. Tanggal 31 Mei itu periode FIFA Matchday, jadi kompetisi sudah selesai. Mereka bisa cepat datang,\" tambahnya.\n",
            "\n",
            "Para pemain timnas Indonesia menjalani TC di Jakarta lalu kemudian akan berangkat ke UEA pada 10 Mei mendatang.\n",
            "\n",
            "Selain Egy, ada beberapa pemain timnas Indonesia yang berkarier di luar negeri akan langsung bergabung di UEA.\n",
            "\n",
            "\"Pemain dari luar negeri tidak semuanya datang ke Jakarta. Masih ada pertandingan untuk klub mereka. Saya hanya bicara tadi Egy ke Jakarta tanggal 5 Mei,\" kata Indra Sjafri.\n",
            "\n",
            "\"Kalau Abimanyu langsung ke Dubai, Yanto Basna dan Ryuji Utomo juga sudah di sini. Elkan Baggott langsung ke Dubai,\" tambahnya.\n",
            "\n",
            "Timnas Indonesia dijadwalkan akan menjalani tiga laga sisa Kualifikasi Piala Dunia 2022, yakni melawan Thailand pada 3 Juni, Vietnam pada 7 Juni dan Uni Emirat Arab pada 11 Juni.\n",
            "\n",
            "Tetapi pasukan Garuda akan menjalani laga ujicoba melawan Afghanistan (25 Mei) dan Oman (29 Mei) terlebih dulu.\n"
          ],
          "name": "stdout"
        }
      ]
    },
    {
      "cell_type": "code",
      "metadata": {
        "id": "en9bUDg3P6Pm",
        "colab": {
          "base_uri": "https://localhost:8080/"
        },
        "outputId": "8a4cdca6-4de3-40c1-d3b7-f0359f51b779"
      },
      "source": [
        "!pip install flair"
      ],
      "execution_count": 1,
      "outputs": [
        {
          "output_type": "stream",
          "text": [
            "Collecting flair\n",
            "\u001b[?25l  Downloading https://files.pythonhosted.org/packages/f0/3a/1b46a0220d6176b22bcb9336619d1731301bc2c75fa926a9ef953e6e4d58/flair-0.8.0.post1-py3-none-any.whl (284kB)\n",
            "\r\u001b[K     |█▏                              | 10kB 12.5MB/s eta 0:00:01\r\u001b[K     |██▎                             | 20kB 18.0MB/s eta 0:00:01\r\u001b[K     |███▌                            | 30kB 18.0MB/s eta 0:00:01\r\u001b[K     |████▋                           | 40kB 12.2MB/s eta 0:00:01\r\u001b[K     |█████▊                          | 51kB 9.0MB/s eta 0:00:01\r\u001b[K     |███████                         | 61kB 9.2MB/s eta 0:00:01\r\u001b[K     |████████                        | 71kB 8.4MB/s eta 0:00:01\r\u001b[K     |█████████▏                      | 81kB 9.1MB/s eta 0:00:01\r\u001b[K     |██████████▍                     | 92kB 9.3MB/s eta 0:00:01\r\u001b[K     |███████████▌                    | 102kB 9.4MB/s eta 0:00:01\r\u001b[K     |████████████▋                   | 112kB 9.4MB/s eta 0:00:01\r\u001b[K     |█████████████▉                  | 122kB 9.4MB/s eta 0:00:01\r\u001b[K     |███████████████                 | 133kB 9.4MB/s eta 0:00:01\r\u001b[K     |████████████████                | 143kB 9.4MB/s eta 0:00:01\r\u001b[K     |█████████████████▎              | 153kB 9.4MB/s eta 0:00:01\r\u001b[K     |██████████████████▍             | 163kB 9.4MB/s eta 0:00:01\r\u001b[K     |███████████████████▋            | 174kB 9.4MB/s eta 0:00:01\r\u001b[K     |████████████████████▊           | 184kB 9.4MB/s eta 0:00:01\r\u001b[K     |█████████████████████▉          | 194kB 9.4MB/s eta 0:00:01\r\u001b[K     |███████████████████████         | 204kB 9.4MB/s eta 0:00:01\r\u001b[K     |████████████████████████▏       | 215kB 9.4MB/s eta 0:00:01\r\u001b[K     |█████████████████████████▎      | 225kB 9.4MB/s eta 0:00:01\r\u001b[K     |██████████████████████████▌     | 235kB 9.4MB/s eta 0:00:01\r\u001b[K     |███████████████████████████▋    | 245kB 9.4MB/s eta 0:00:01\r\u001b[K     |████████████████████████████▊   | 256kB 9.4MB/s eta 0:00:01\r\u001b[K     |██████████████████████████████  | 266kB 9.4MB/s eta 0:00:01\r\u001b[K     |███████████████████████████████ | 276kB 9.4MB/s eta 0:00:01\r\u001b[K     |████████████████████████████████| 286kB 9.4MB/s \n",
            "\u001b[?25hCollecting bpemb>=0.3.2\n",
            "  Downloading https://files.pythonhosted.org/packages/f2/6f/9191b85109772636a8f8accb122900c34db26c091d2793218aa94954524c/bpemb-0.3.3-py3-none-any.whl\n",
            "Collecting sqlitedict>=1.6.0\n",
            "  Downloading https://files.pythonhosted.org/packages/5c/2d/b1d99e9ad157dd7de9cd0d36a8a5876b13b55e4b75f7498bc96035fb4e96/sqlitedict-1.7.0.tar.gz\n",
            "Collecting gdown==3.12.2\n",
            "  Downloading https://files.pythonhosted.org/packages/50/21/92c3cfe56f5c0647145c4b0083d0733dd4890a057eb100a8eeddf949ffe9/gdown-3.12.2.tar.gz\n",
            "  Installing build dependencies ... \u001b[?25l\u001b[?25hdone\n",
            "  Getting requirements to build wheel ... \u001b[?25l\u001b[?25hdone\n",
            "    Preparing wheel metadata ... \u001b[?25l\u001b[?25hdone\n",
            "Collecting deprecated>=1.2.4\n",
            "  Downloading https://files.pythonhosted.org/packages/fb/73/994edfcba74443146c84b91921fcc269374354118d4f452fb0c54c1cbb12/Deprecated-1.2.12-py2.py3-none-any.whl\n",
            "Collecting segtok>=1.5.7\n",
            "  Downloading https://files.pythonhosted.org/packages/41/08/582dab5f4b1d5ca23bc6927b4bb977c8ff7f3a87a3b98844ef833e2f5623/segtok-1.5.10.tar.gz\n",
            "Collecting konoha<5.0.0,>=4.0.0\n",
            "  Downloading https://files.pythonhosted.org/packages/02/be/4dd30d56a0a19619deb9bf41ba8202709fa83b1b301b876572cd6dc38117/konoha-4.6.4-py3-none-any.whl\n",
            "Requirement already satisfied: python-dateutil>=2.6.1 in /usr/local/lib/python3.7/dist-packages (from flair) (2.8.1)\n",
            "Requirement already satisfied: hyperopt>=0.1.1 in /usr/local/lib/python3.7/dist-packages (from flair) (0.1.2)\n",
            "Collecting transformers>=4.0.0\n",
            "\u001b[?25l  Downloading https://files.pythonhosted.org/packages/d8/b2/57495b5309f09fa501866e225c84532d1fd89536ea62406b2181933fb418/transformers-4.5.1-py3-none-any.whl (2.1MB)\n",
            "\u001b[K     |████████████████████████████████| 2.1MB 13.6MB/s \n",
            "\u001b[?25hCollecting torch<=1.7.1,>=1.5.0\n",
            "\u001b[?25l  Downloading https://files.pythonhosted.org/packages/90/5d/095ddddc91c8a769a68c791c019c5793f9c4456a688ddd235d6670924ecb/torch-1.7.1-cp37-cp37m-manylinux1_x86_64.whl (776.8MB)\n",
            "\u001b[K     |████████████████████████████████| 776.8MB 21kB/s \n",
            "\u001b[?25hCollecting langdetect\n",
            "\u001b[?25l  Downloading https://files.pythonhosted.org/packages/56/a3/8407c1e62d5980188b4acc45ef3d94b933d14a2ebc9ef3505f22cf772570/langdetect-1.0.8.tar.gz (981kB)\n",
            "\u001b[K     |████████████████████████████████| 983kB 39.3MB/s \n",
            "\u001b[?25hCollecting huggingface-hub\n",
            "  Downloading https://files.pythonhosted.org/packages/a1/88/7b1e45720ecf59c6c6737ff332f41c955963090a18e72acbcbeac6b25e86/huggingface_hub-0.0.8-py3-none-any.whl\n",
            "Requirement already satisfied: regex in /usr/local/lib/python3.7/dist-packages (from flair) (2019.12.20)\n",
            "Requirement already satisfied: gensim<=3.8.3,>=3.4.0 in /usr/local/lib/python3.7/dist-packages (from flair) (3.6.0)\n",
            "Requirement already satisfied: matplotlib>=2.2.3 in /usr/local/lib/python3.7/dist-packages (from flair) (3.2.2)\n",
            "Requirement already satisfied: tabulate in /usr/local/lib/python3.7/dist-packages (from flair) (0.8.9)\n",
            "Requirement already satisfied: numpy<1.20.0 in /usr/local/lib/python3.7/dist-packages (from flair) (1.19.5)\n",
            "Collecting ftfy\n",
            "\u001b[?25l  Downloading https://files.pythonhosted.org/packages/ce/b5/5da463f9c7823e0e575e9908d004e2af4b36efa8d02d3d6dad57094fcb11/ftfy-6.0.1.tar.gz (63kB)\n",
            "\u001b[K     |████████████████████████████████| 71kB 8.1MB/s \n",
            "\u001b[?25hRequirement already satisfied: scikit-learn>=0.21.3 in /usr/local/lib/python3.7/dist-packages (from flair) (0.22.2.post1)\n",
            "Requirement already satisfied: lxml in /usr/local/lib/python3.7/dist-packages (from flair) (4.2.6)\n",
            "Collecting sentencepiece==0.1.95\n",
            "\u001b[?25l  Downloading https://files.pythonhosted.org/packages/f5/99/e0808cb947ba10f575839c43e8fafc9cc44e4a7a2c8f79c60db48220a577/sentencepiece-0.1.95-cp37-cp37m-manylinux2014_x86_64.whl (1.2MB)\n",
            "\u001b[K     |████████████████████████████████| 1.2MB 45.7MB/s \n",
            "\u001b[?25hRequirement already satisfied: tqdm>=4.26.0 in /usr/local/lib/python3.7/dist-packages (from flair) (4.41.1)\n",
            "Collecting janome\n",
            "\u001b[?25l  Downloading https://files.pythonhosted.org/packages/a8/63/98858cbead27df7536c7e300c169da0999e9704d02220dc6700b804eeff0/Janome-0.4.1-py2.py3-none-any.whl (19.7MB)\n",
            "\u001b[K     |████████████████████████████████| 19.7MB 1.2MB/s \n",
            "\u001b[?25hCollecting mpld3==0.3\n",
            "\u001b[?25l  Downloading https://files.pythonhosted.org/packages/91/95/a52d3a83d0a29ba0d6898f6727e9858fe7a43f6c2ce81a5fe7e05f0f4912/mpld3-0.3.tar.gz (788kB)\n",
            "\u001b[K     |████████████████████████████████| 798kB 48.9MB/s \n",
            "\u001b[?25hRequirement already satisfied: requests in /usr/local/lib/python3.7/dist-packages (from bpemb>=0.3.2->flair) (2.23.0)\n",
            "Requirement already satisfied: filelock in /usr/local/lib/python3.7/dist-packages (from gdown==3.12.2->flair) (3.0.12)\n",
            "Requirement already satisfied: six in /usr/local/lib/python3.7/dist-packages (from gdown==3.12.2->flair) (1.15.0)\n",
            "Requirement already satisfied: wrapt<2,>=1.10 in /usr/local/lib/python3.7/dist-packages (from deprecated>=1.2.4->flair) (1.12.1)\n",
            "Requirement already satisfied: importlib-metadata<4.0.0,>=3.7.0 in /usr/local/lib/python3.7/dist-packages (from konoha<5.0.0,>=4.0.0->flair) (3.10.1)\n",
            "Collecting overrides<4.0.0,>=3.0.0\n",
            "  Downloading https://files.pythonhosted.org/packages/ff/b1/10f69c00947518e6676bbd43e739733048de64b8dd998e9c2d5a71f44c5d/overrides-3.1.0.tar.gz\n",
            "Requirement already satisfied: scipy in /usr/local/lib/python3.7/dist-packages (from hyperopt>=0.1.1->flair) (1.4.1)\n",
            "Requirement already satisfied: pymongo in /usr/local/lib/python3.7/dist-packages (from hyperopt>=0.1.1->flair) (3.11.3)\n",
            "Requirement already satisfied: future in /usr/local/lib/python3.7/dist-packages (from hyperopt>=0.1.1->flair) (0.16.0)\n",
            "Requirement already satisfied: networkx in /usr/local/lib/python3.7/dist-packages (from hyperopt>=0.1.1->flair) (2.5.1)\n",
            "Collecting sacremoses\n",
            "\u001b[?25l  Downloading https://files.pythonhosted.org/packages/75/ee/67241dc87f266093c533a2d4d3d69438e57d7a90abb216fa076e7d475d4a/sacremoses-0.0.45-py3-none-any.whl (895kB)\n",
            "\u001b[K     |████████████████████████████████| 901kB 44.3MB/s \n",
            "\u001b[?25hCollecting tokenizers<0.11,>=0.10.1\n",
            "\u001b[?25l  Downloading https://files.pythonhosted.org/packages/ae/04/5b870f26a858552025a62f1649c20d29d2672c02ff3c3fb4c688ca46467a/tokenizers-0.10.2-cp37-cp37m-manylinux2010_x86_64.whl (3.3MB)\n",
            "\u001b[K     |████████████████████████████████| 3.3MB 41.2MB/s \n",
            "\u001b[?25hRequirement already satisfied: packaging in /usr/local/lib/python3.7/dist-packages (from transformers>=4.0.0->flair) (20.9)\n",
            "Requirement already satisfied: typing-extensions in /usr/local/lib/python3.7/dist-packages (from torch<=1.7.1,>=1.5.0->flair) (3.7.4.3)\n",
            "Requirement already satisfied: smart-open>=1.2.1 in /usr/local/lib/python3.7/dist-packages (from gensim<=3.8.3,>=3.4.0->flair) (5.0.0)\n",
            "Requirement already satisfied: pyparsing!=2.0.4,!=2.1.2,!=2.1.6,>=2.0.1 in /usr/local/lib/python3.7/dist-packages (from matplotlib>=2.2.3->flair) (2.4.7)\n",
            "Requirement already satisfied: kiwisolver>=1.0.1 in /usr/local/lib/python3.7/dist-packages (from matplotlib>=2.2.3->flair) (1.3.1)\n",
            "Requirement already satisfied: cycler>=0.10 in /usr/local/lib/python3.7/dist-packages (from matplotlib>=2.2.3->flair) (0.10.0)\n",
            "Requirement already satisfied: wcwidth in /usr/local/lib/python3.7/dist-packages (from ftfy->flair) (0.2.5)\n",
            "Requirement already satisfied: joblib>=0.11 in /usr/local/lib/python3.7/dist-packages (from scikit-learn>=0.21.3->flair) (1.0.1)\n",
            "Requirement already satisfied: idna<3,>=2.5 in /usr/local/lib/python3.7/dist-packages (from requests->bpemb>=0.3.2->flair) (2.10)\n",
            "Requirement already satisfied: certifi>=2017.4.17 in /usr/local/lib/python3.7/dist-packages (from requests->bpemb>=0.3.2->flair) (2020.12.5)\n",
            "Requirement already satisfied: chardet<4,>=3.0.2 in /usr/local/lib/python3.7/dist-packages (from requests->bpemb>=0.3.2->flair) (3.0.4)\n",
            "Requirement already satisfied: urllib3!=1.25.0,!=1.25.1,<1.26,>=1.21.1 in /usr/local/lib/python3.7/dist-packages (from requests->bpemb>=0.3.2->flair) (1.24.3)\n",
            "Requirement already satisfied: zipp>=0.5 in /usr/local/lib/python3.7/dist-packages (from importlib-metadata<4.0.0,>=3.7.0->konoha<5.0.0,>=4.0.0->flair) (3.4.1)\n",
            "Requirement already satisfied: decorator<5,>=4.3 in /usr/local/lib/python3.7/dist-packages (from networkx->hyperopt>=0.1.1->flair) (4.4.2)\n",
            "Requirement already satisfied: click in /usr/local/lib/python3.7/dist-packages (from sacremoses->transformers>=4.0.0->flair) (7.1.2)\n",
            "Building wheels for collected packages: gdown\n",
            "  Building wheel for gdown (PEP 517) ... \u001b[?25l\u001b[?25hdone\n",
            "  Created wheel for gdown: filename=gdown-3.12.2-cp37-none-any.whl size=9693 sha256=d9d95f36fcd094c5bc2f993d870c778ce1c08d93877b1f416eed895fe9e2ab9b\n",
            "  Stored in directory: /root/.cache/pip/wheels/81/d0/d7/d9983facc6f2775411803e0e2d30ebf98efbf2fc6e57701e09\n",
            "Successfully built gdown\n",
            "Building wheels for collected packages: sqlitedict, segtok, langdetect, ftfy, mpld3, overrides\n",
            "  Building wheel for sqlitedict (setup.py) ... \u001b[?25l\u001b[?25hdone\n",
            "  Created wheel for sqlitedict: filename=sqlitedict-1.7.0-cp37-none-any.whl size=14376 sha256=04191cedc151eeafbacf22eaae8a64c687bf114382e94a300f232b9444f7c0d3\n",
            "  Stored in directory: /root/.cache/pip/wheels/cf/c6/4f/2c64a43f041415eb8b8740bd80e15e92f0d46c5e464d8e4b9b\n",
            "  Building wheel for segtok (setup.py) ... \u001b[?25l\u001b[?25hdone\n",
            "  Created wheel for segtok: filename=segtok-1.5.10-cp37-none-any.whl size=25019 sha256=948493e7705110d9459ed98c1388c4c051baaac82f75c3a0de2368c7fdb58374\n",
            "  Stored in directory: /root/.cache/pip/wheels/b4/39/f6/9ca1c5cabde964d728023b5751c3a206a5c8cc40252321fb6b\n",
            "  Building wheel for langdetect (setup.py) ... \u001b[?25l\u001b[?25hdone\n",
            "  Created wheel for langdetect: filename=langdetect-1.0.8-cp37-none-any.whl size=993193 sha256=5a7d930434dc4d734eee6cf25f10af8e20a3585aa90433f8b2f92bfe92bf8368\n",
            "  Stored in directory: /root/.cache/pip/wheels/8d/b3/aa/6d99de9f3841d7d3d40a60ea06e6d669e8e5012e6c8b947a57\n",
            "  Building wheel for ftfy (setup.py) ... \u001b[?25l\u001b[?25hdone\n",
            "  Created wheel for ftfy: filename=ftfy-6.0.1-cp37-none-any.whl size=41573 sha256=c5fc2b5c9528e76d0248c614fa8ab8f06651ff85278b70d785aa2579283f6a83\n",
            "  Stored in directory: /root/.cache/pip/wheels/ae/73/c7/9056e14b04919e5c262fe80b54133b1a88d73683d05d7ac65c\n",
            "  Building wheel for mpld3 (setup.py) ... \u001b[?25l\u001b[?25hdone\n",
            "  Created wheel for mpld3: filename=mpld3-0.3-cp37-none-any.whl size=116679 sha256=744660d5481cc065e26f6b5aee83289ad7b84249156dd1089e02381a1ddac471\n",
            "  Stored in directory: /root/.cache/pip/wheels/c0/47/fb/8a64f89aecfe0059830479308ad42d62e898a3e3cefdf6ba28\n",
            "  Building wheel for overrides (setup.py) ... \u001b[?25l\u001b[?25hdone\n",
            "  Created wheel for overrides: filename=overrides-3.1.0-cp37-none-any.whl size=10174 sha256=15f60e822d0b28737cd63f5e48d810f2ee52e36498b2632cb7ddaee5bd775a19\n",
            "  Stored in directory: /root/.cache/pip/wheels/5c/24/13/6ef8600e6f147c95e595f1289a86a3cc82ed65df57582c65a9\n",
            "Successfully built sqlitedict segtok langdetect ftfy mpld3 overrides\n",
            "\u001b[31mERROR: torchvision 0.9.1+cu101 has requirement torch==1.8.1, but you'll have torch 1.7.1 which is incompatible.\u001b[0m\n",
            "\u001b[31mERROR: torchtext 0.9.1 has requirement torch==1.8.1, but you'll have torch 1.7.1 which is incompatible.\u001b[0m\n",
            "\u001b[31mERROR: konoha 4.6.4 has requirement requests<3.0.0,>=2.25.1, but you'll have requests 2.23.0 which is incompatible.\u001b[0m\n",
            "Installing collected packages: sentencepiece, bpemb, sqlitedict, gdown, deprecated, segtok, overrides, konoha, sacremoses, tokenizers, transformers, torch, langdetect, huggingface-hub, ftfy, janome, mpld3, flair\n",
            "  Found existing installation: gdown 3.6.4\n",
            "    Uninstalling gdown-3.6.4:\n",
            "      Successfully uninstalled gdown-3.6.4\n",
            "  Found existing installation: torch 1.8.1+cu101\n",
            "    Uninstalling torch-1.8.1+cu101:\n",
            "      Successfully uninstalled torch-1.8.1+cu101\n",
            "Successfully installed bpemb-0.3.3 deprecated-1.2.12 flair-0.8.0.post1 ftfy-6.0.1 gdown-3.12.2 huggingface-hub-0.0.8 janome-0.4.1 konoha-4.6.4 langdetect-1.0.8 mpld3-0.3 overrides-3.1.0 sacremoses-0.0.45 segtok-1.5.10 sentencepiece-0.1.95 sqlitedict-1.7.0 tokenizers-0.10.2 torch-1.7.1 transformers-4.5.1\n"
          ],
          "name": "stdout"
        }
      ]
    },
    {
      "cell_type": "code",
      "metadata": {
        "id": "Byjn8iEai1gu"
      },
      "source": [
        "from flair.data_fetcher import NLPTaskDataFetcher, NLPTask\n",
        "from flair.embeddings import TokenEmbeddings, WordEmbeddings, StackedEmbeddings, BertEmbeddings\n",
        "from typing import List"
      ],
      "execution_count": 2,
      "outputs": []
    },
    {
      "cell_type": "code",
      "metadata": {
        "id": "-N8O7y3ezxH2",
        "colab": {
          "base_uri": "https://localhost:8080/"
        },
        "outputId": "c0a1a954-88d7-4f02-9249-36719cf80467"
      },
      "source": [
        "# 1. get the corpus\n",
        "corpus = NLPTaskDataFetcher.load_corpus(NLPTask.UD_INDONESIAN)\n",
        "\n",
        "# 2. what tag do we want to predict?\n",
        "tag_type = 'upos'\n",
        "\n",
        "# 3. make the tag dictionary from the corpus\n",
        "tag_dictionary = corpus.make_tag_dictionary(tag_type=tag_type)\n",
        "print(tag_dictionary.idx2item)\n",
        "\n",
        "# 4. initialize embeddings\n",
        "embedding_types: List[TokenEmbeddings] = [\n",
        "    WordEmbeddings('id-crawl'),\n",
        "    WordEmbeddings('id'),\n",
        "    #WordEmbeddings('glove'),\n",
        "    #BertEmbeddings('bert-base-multilingual-cased')\n",
        "]\n",
        "\n",
        "embeddings: StackedEmbeddings = StackedEmbeddings(embeddings=embedding_types)\n",
        "\n",
        "# 5. initialize sequence tagger\n",
        "from flair.models import SequenceTagger\n",
        "tagger: SequenceTagger = SequenceTagger(hidden_size=256,\n",
        "                                        embeddings=embeddings,\n",
        "                                        tag_dictionary=tag_dictionary,\n",
        "                                        tag_type=tag_type,\n",
        "                                        use_crf=True)\n",
        "\n",
        "from flair.trainers import ModelTrainer\n",
        "\n",
        "trainer: ModelTrainer = ModelTrainer(tagger, corpus)\n",
        "\n",
        "# 7. start training\n",
        "trainer.train('resources/taggers/example-universal-pos',\n",
        "              learning_rate=0.1,\n",
        "              mini_batch_size=32,\n",
        "              max_epochs=10)"
      ],
      "execution_count": 3,
      "outputs": [
        {
          "output_type": "stream",
          "text": [
            "/usr/local/lib/python3.7/dist-packages/ipykernel_launcher.py:2: DeprecationWarning: Call to deprecated function (or staticmethod) load_corpus. (Use 'flair.datasets' instead.) -- Deprecated since version 0.4.1.\n",
            "  \n"
          ],
          "name": "stderr"
        },
        {
          "output_type": "stream",
          "text": [
            "2021-05-03 21:32:27,358 https://raw.githubusercontent.com/UniversalDependencies/UD_Indonesian-GSD/master/id_gsd-ud-dev.conllu not found in cache, downloading to /tmp/tmp75zw3clq\n"
          ],
          "name": "stdout"
        },
        {
          "output_type": "stream",
          "text": [
            "979367B [00:00, 41892864.40B/s]          "
          ],
          "name": "stderr"
        },
        {
          "output_type": "stream",
          "text": [
            "2021-05-03 21:32:27,425 copying /tmp/tmp75zw3clq to cache at /root/.flair/datasets/ud_indonesian/id_gsd-ud-dev.conllu\n",
            "2021-05-03 21:32:27,430 removing temp file /tmp/tmp75zw3clq\n"
          ],
          "name": "stdout"
        },
        {
          "output_type": "stream",
          "text": [
            "\n"
          ],
          "name": "stderr"
        },
        {
          "output_type": "stream",
          "text": [
            "2021-05-03 21:32:27,912 https://raw.githubusercontent.com/UniversalDependencies/UD_Indonesian-GSD/master/id_gsd-ud-test.conllu not found in cache, downloading to /tmp/tmph4qfwdzk\n"
          ],
          "name": "stdout"
        },
        {
          "output_type": "stream",
          "text": [
            "916721B [00:00, 37799163.97B/s]          "
          ],
          "name": "stderr"
        },
        {
          "output_type": "stream",
          "text": [
            "2021-05-03 21:32:27,980 copying /tmp/tmph4qfwdzk to cache at /root/.flair/datasets/ud_indonesian/id_gsd-ud-test.conllu\n",
            "2021-05-03 21:32:27,984 removing temp file /tmp/tmph4qfwdzk\n"
          ],
          "name": "stdout"
        },
        {
          "output_type": "stream",
          "text": [
            "\n"
          ],
          "name": "stderr"
        },
        {
          "output_type": "stream",
          "text": [
            "2021-05-03 21:32:28,662 https://raw.githubusercontent.com/UniversalDependencies/UD_Indonesian-GSD/master/id_gsd-ud-train.conllu not found in cache, downloading to /tmp/tmpqat664tf\n"
          ],
          "name": "stdout"
        },
        {
          "output_type": "stream",
          "text": [
            "7591261B [00:00, 80798996.05B/s]          "
          ],
          "name": "stderr"
        },
        {
          "output_type": "stream",
          "text": [
            "2021-05-03 21:32:28,800 copying /tmp/tmpqat664tf to cache at /root/.flair/datasets/ud_indonesian/id_gsd-ud-train.conllu\n",
            "2021-05-03 21:32:28,819 removing temp file /tmp/tmpqat664tf\n"
          ],
          "name": "stdout"
        },
        {
          "output_type": "stream",
          "text": [
            "\n"
          ],
          "name": "stderr"
        },
        {
          "output_type": "stream",
          "text": [
            "2021-05-03 21:32:28,919 Reading data from /root/.flair/datasets/ud_indonesian\n",
            "2021-05-03 21:32:28,922 Train: /root/.flair/datasets/ud_indonesian/id_gsd-ud-train.conllu\n",
            "2021-05-03 21:32:28,924 Dev: /root/.flair/datasets/ud_indonesian/id_gsd-ud-dev.conllu\n",
            "2021-05-03 21:32:28,926 Test: /root/.flair/datasets/ud_indonesian/id_gsd-ud-test.conllu\n",
            "[b'<unk>', b'O', b'PROPN', b'AUX', b'DET', b'NOUN', b'PRON', b'VERB', b'ADP', b'PUNCT', b'ADV', b'CCONJ', b'SCONJ', b'NUM', b'ADJ', b'PART', b'SYM', b'X', b'<START>', b'<STOP>']\n",
            "2021-05-03 21:32:34,067 https://flair.informatik.hu-berlin.de/resources/embeddings/token/id-crawl-fasttext-300d-1M.vectors.npy not found in cache, downloading to /tmp/tmpwekax9xb\n"
          ],
          "name": "stdout"
        },
        {
          "output_type": "stream",
          "text": [
            "100%|██████████| 1199998928/1199998928 [01:03<00:00, 18802312.83B/s]"
          ],
          "name": "stderr"
        },
        {
          "output_type": "stream",
          "text": [
            "2021-05-03 21:33:38,380 copying /tmp/tmpwekax9xb to cache at /root/.flair/embeddings/id-crawl-fasttext-300d-1M.vectors.npy\n"
          ],
          "name": "stdout"
        },
        {
          "output_type": "stream",
          "text": [
            "\n"
          ],
          "name": "stderr"
        },
        {
          "output_type": "stream",
          "text": [
            "2021-05-03 21:33:42,461 removing temp file /tmp/tmpwekax9xb\n",
            "2021-05-03 21:33:43,249 https://flair.informatik.hu-berlin.de/resources/embeddings/token/id-crawl-fasttext-300d-1M not found in cache, downloading to /tmp/tmpz_ysjyy9\n"
          ],
          "name": "stdout"
        },
        {
          "output_type": "stream",
          "text": [
            "100%|██████████| 39636845/39636845 [00:03<00:00, 10498579.67B/s]"
          ],
          "name": "stderr"
        },
        {
          "output_type": "stream",
          "text": [
            "2021-05-03 21:33:47,506 copying /tmp/tmpz_ysjyy9 to cache at /root/.flair/embeddings/id-crawl-fasttext-300d-1M\n"
          ],
          "name": "stdout"
        },
        {
          "output_type": "stream",
          "text": [
            "\n"
          ],
          "name": "stderr"
        },
        {
          "output_type": "stream",
          "text": [
            "2021-05-03 21:33:47,556 removing temp file /tmp/tmpz_ysjyy9\n",
            "2021-05-03 21:33:53,091 https://flair.informatik.hu-berlin.de/resources/embeddings/token/id-wiki-fasttext-300d-1M.vectors.npy not found in cache, downloading to /tmp/tmpd2j_xaii\n"
          ],
          "name": "stdout"
        },
        {
          "output_type": "stream",
          "text": [
            "100%|██████████| 360822128/360822128 [00:20<00:00, 17430611.48B/s]"
          ],
          "name": "stderr"
        },
        {
          "output_type": "stream",
          "text": [
            "2021-05-03 21:34:14,262 copying /tmp/tmpd2j_xaii to cache at /root/.flair/embeddings/id-wiki-fasttext-300d-1M.vectors.npy\n"
          ],
          "name": "stdout"
        },
        {
          "output_type": "stream",
          "text": [
            "\n"
          ],
          "name": "stderr"
        },
        {
          "output_type": "stream",
          "text": [
            "2021-05-03 21:34:14,920 removing temp file /tmp/tmpd2j_xaii\n",
            "2021-05-03 21:34:15,605 https://flair.informatik.hu-berlin.de/resources/embeddings/token/id-wiki-fasttext-300d-1M not found in cache, downloading to /tmp/tmpxxz5df8w\n"
          ],
          "name": "stdout"
        },
        {
          "output_type": "stream",
          "text": [
            "100%|██████████| 11638719/11638719 [00:01<00:00, 6862200.06B/s]"
          ],
          "name": "stderr"
        },
        {
          "output_type": "stream",
          "text": [
            "2021-05-03 21:34:17,771 copying /tmp/tmpxxz5df8w to cache at /root/.flair/embeddings/id-wiki-fasttext-300d-1M\n",
            "2021-05-03 21:34:17,788 removing temp file /tmp/tmpxxz5df8w\n"
          ],
          "name": "stdout"
        },
        {
          "output_type": "stream",
          "text": [
            "\n"
          ],
          "name": "stderr"
        },
        {
          "output_type": "stream",
          "text": [
            "2021-05-03 21:34:19,766 ----------------------------------------------------------------------------------------------------\n",
            "2021-05-03 21:34:19,767 Model: \"SequenceTagger(\n",
            "  (embeddings): StackedEmbeddings(\n",
            "    (list_embedding_0): WordEmbeddings('id-crawl')\n",
            "    (list_embedding_1): WordEmbeddings('id')\n",
            "  )\n",
            "  (word_dropout): WordDropout(p=0.05)\n",
            "  (locked_dropout): LockedDropout(p=0.5)\n",
            "  (embedding2nn): Linear(in_features=600, out_features=600, bias=True)\n",
            "  (rnn): LSTM(600, 256, batch_first=True, bidirectional=True)\n",
            "  (linear): Linear(in_features=512, out_features=20, bias=True)\n",
            "  (beta): 1.0\n",
            "  (weights): None\n",
            "  (weight_tensor) None\n",
            ")\"\n",
            "2021-05-03 21:34:19,769 ----------------------------------------------------------------------------------------------------\n",
            "2021-05-03 21:34:19,779 Corpus: \"Corpus: 4477 train + 559 dev + 557 test sentences\"\n",
            "2021-05-03 21:34:19,790 ----------------------------------------------------------------------------------------------------\n",
            "2021-05-03 21:34:19,792 Parameters:\n",
            "2021-05-03 21:34:19,795  - learning_rate: \"0.1\"\n",
            "2021-05-03 21:34:19,798  - mini_batch_size: \"32\"\n",
            "2021-05-03 21:34:19,800  - patience: \"3\"\n",
            "2021-05-03 21:34:19,803  - anneal_factor: \"0.5\"\n",
            "2021-05-03 21:34:19,807  - max_epochs: \"10\"\n",
            "2021-05-03 21:34:19,808  - shuffle: \"True\"\n",
            "2021-05-03 21:34:19,810  - train_with_dev: \"False\"\n",
            "2021-05-03 21:34:19,811  - batch_growth_annealing: \"False\"\n",
            "2021-05-03 21:34:19,812 ----------------------------------------------------------------------------------------------------\n",
            "2021-05-03 21:34:19,813 Model training base path: \"resources/taggers/example-universal-pos\"\n",
            "2021-05-03 21:34:19,814 ----------------------------------------------------------------------------------------------------\n",
            "2021-05-03 21:34:19,816 Device: cpu\n",
            "2021-05-03 21:34:19,817 ----------------------------------------------------------------------------------------------------\n",
            "2021-05-03 21:34:19,818 Embeddings storage mode: cpu\n",
            "2021-05-03 21:34:19,820 ----------------------------------------------------------------------------------------------------\n",
            "2021-05-03 21:34:28,462 epoch 1 - iter 14/140 - loss 56.68356051 - samples/sec: 51.86 - lr: 0.100000\n",
            "2021-05-03 21:34:37,339 epoch 1 - iter 28/140 - loss 50.47243350 - samples/sec: 50.48 - lr: 0.100000\n",
            "2021-05-03 21:34:45,122 epoch 1 - iter 42/140 - loss 45.52784438 - samples/sec: 57.59 - lr: 0.100000\n",
            "2021-05-03 21:34:53,430 epoch 1 - iter 56/140 - loss 42.08205094 - samples/sec: 53.94 - lr: 0.100000\n",
            "2021-05-03 21:35:03,413 epoch 1 - iter 70/140 - loss 39.31289485 - samples/sec: 44.89 - lr: 0.100000\n",
            "2021-05-03 21:35:13,355 epoch 1 - iter 84/140 - loss 36.90465337 - samples/sec: 45.09 - lr: 0.100000\n",
            "2021-05-03 21:35:24,862 epoch 1 - iter 98/140 - loss 34.95632464 - samples/sec: 38.95 - lr: 0.100000\n",
            "2021-05-03 21:35:35,036 epoch 1 - iter 112/140 - loss 33.11061234 - samples/sec: 44.04 - lr: 0.100000\n",
            "2021-05-03 21:35:45,142 epoch 1 - iter 126/140 - loss 31.67543437 - samples/sec: 44.34 - lr: 0.100000\n",
            "2021-05-03 21:35:53,617 epoch 1 - iter 140/140 - loss 30.21385301 - samples/sec: 52.88 - lr: 0.100000\n",
            "2021-05-03 21:35:53,619 ----------------------------------------------------------------------------------------------------\n",
            "2021-05-03 21:35:53,620 EPOCH 1 done: loss 30.2139 - lr 0.1000000\n",
            "2021-05-03 21:35:56,507 DEV : loss 13.82058334350586 - score 0.7949\n",
            "2021-05-03 21:35:56,560 BAD EPOCHS (no improvement): 0\n",
            "saving best model\n",
            "2021-05-03 21:36:18,959 ----------------------------------------------------------------------------------------------------\n",
            "2021-05-03 21:36:41,303 epoch 2 - iter 14/140 - loss 17.10825178 - samples/sec: 20.11 - lr: 0.100000\n",
            "2021-05-03 21:36:51,764 epoch 2 - iter 28/140 - loss 16.94716896 - samples/sec: 42.85 - lr: 0.100000\n",
            "2021-05-03 21:37:04,899 epoch 2 - iter 42/140 - loss 16.32255711 - samples/sec: 34.12 - lr: 0.100000\n",
            "2021-05-03 21:37:12,396 epoch 2 - iter 56/140 - loss 15.68684050 - samples/sec: 59.79 - lr: 0.100000\n",
            "2021-05-03 21:37:24,904 epoch 2 - iter 70/140 - loss 15.29493663 - samples/sec: 35.83 - lr: 0.100000\n",
            "2021-05-03 21:37:35,529 epoch 2 - iter 84/140 - loss 15.17831573 - samples/sec: 42.18 - lr: 0.100000\n",
            "2021-05-03 21:37:43,276 epoch 2 - iter 98/140 - loss 14.88024262 - samples/sec: 57.86 - lr: 0.100000\n",
            "2021-05-03 21:37:56,351 epoch 2 - iter 112/140 - loss 14.75839069 - samples/sec: 34.28 - lr: 0.100000\n",
            "2021-05-03 21:38:06,689 epoch 2 - iter 126/140 - loss 14.60715398 - samples/sec: 43.35 - lr: 0.100000\n",
            "2021-05-03 21:38:19,451 epoch 2 - iter 140/140 - loss 14.45652313 - samples/sec: 35.11 - lr: 0.100000\n",
            "2021-05-03 21:38:19,453 ----------------------------------------------------------------------------------------------------\n",
            "2021-05-03 21:38:19,461 EPOCH 2 done: loss 14.4565 - lr 0.1000000\n",
            "2021-05-03 21:38:22,268 DEV : loss 8.361515045166016 - score 0.88\n",
            "2021-05-03 21:38:22,324 BAD EPOCHS (no improvement): 0\n",
            "saving best model\n",
            "2021-05-03 21:38:46,262 ----------------------------------------------------------------------------------------------------\n",
            "2021-05-03 21:39:00,914 epoch 3 - iter 14/140 - loss 12.74664688 - samples/sec: 30.63 - lr: 0.100000\n",
            "2021-05-03 21:39:24,135 epoch 3 - iter 28/140 - loss 12.44317842 - samples/sec: 19.30 - lr: 0.100000\n",
            "2021-05-03 21:39:39,392 epoch 3 - iter 42/140 - loss 12.07952663 - samples/sec: 29.37 - lr: 0.100000\n",
            "2021-05-03 21:40:07,021 epoch 3 - iter 56/140 - loss 12.09835998 - samples/sec: 16.22 - lr: 0.100000\n",
            "2021-05-03 21:40:17,764 epoch 3 - iter 70/140 - loss 11.96614520 - samples/sec: 41.71 - lr: 0.100000\n",
            "2021-05-03 21:40:36,917 epoch 3 - iter 84/140 - loss 11.95291338 - samples/sec: 23.39 - lr: 0.100000\n",
            "2021-05-03 21:40:53,636 epoch 3 - iter 98/140 - loss 11.87579619 - samples/sec: 26.80 - lr: 0.100000\n",
            "2021-05-03 21:41:15,798 epoch 3 - iter 112/140 - loss 11.81123319 - samples/sec: 20.22 - lr: 0.100000\n",
            "2021-05-03 21:41:24,210 epoch 3 - iter 126/140 - loss 11.68279474 - samples/sec: 53.28 - lr: 0.100000\n",
            "2021-05-03 21:41:40,990 epoch 3 - iter 140/140 - loss 11.57196338 - samples/sec: 26.71 - lr: 0.100000\n",
            "2021-05-03 21:41:40,996 ----------------------------------------------------------------------------------------------------\n",
            "2021-05-03 21:41:41,001 EPOCH 3 done: loss 11.5720 - lr 0.1000000\n",
            "2021-05-03 21:41:43,795 DEV : loss 7.485576152801514 - score 0.8916\n",
            "2021-05-03 21:41:43,851 BAD EPOCHS (no improvement): 0\n",
            "saving best model\n",
            "2021-05-03 21:42:03,015 ----------------------------------------------------------------------------------------------------\n",
            "2021-05-03 21:42:18,425 epoch 4 - iter 14/140 - loss 10.75609027 - samples/sec: 29.36 - lr: 0.100000\n",
            "2021-05-03 21:42:37,785 epoch 4 - iter 28/140 - loss 10.77105061 - samples/sec: 23.14 - lr: 0.100000\n",
            "2021-05-03 21:43:06,786 epoch 4 - iter 42/140 - loss 11.01019225 - samples/sec: 15.45 - lr: 0.100000\n",
            "2021-05-03 21:43:27,119 epoch 4 - iter 56/140 - loss 10.93228426 - samples/sec: 22.04 - lr: 0.100000\n",
            "2021-05-03 21:43:47,910 epoch 4 - iter 70/140 - loss 10.78295059 - samples/sec: 21.55 - lr: 0.100000\n",
            "2021-05-03 21:44:07,509 epoch 4 - iter 84/140 - loss 10.63361075 - samples/sec: 22.86 - lr: 0.100000\n",
            "2021-05-03 21:44:23,399 epoch 4 - iter 98/140 - loss 10.56861489 - samples/sec: 28.20 - lr: 0.100000\n",
            "2021-05-03 21:44:32,469 epoch 4 - iter 112/140 - loss 10.50812842 - samples/sec: 49.41 - lr: 0.100000\n",
            "2021-05-03 21:44:42,262 epoch 4 - iter 126/140 - loss 10.33008054 - samples/sec: 45.78 - lr: 0.100000\n",
            "2021-05-03 21:45:07,673 epoch 4 - iter 140/140 - loss 10.41340658 - samples/sec: 17.63 - lr: 0.100000\n",
            "2021-05-03 21:45:07,675 ----------------------------------------------------------------------------------------------------\n",
            "2021-05-03 21:45:07,684 EPOCH 4 done: loss 10.4134 - lr 0.1000000\n",
            "2021-05-03 21:45:10,490 DEV : loss 6.724477767944336 - score 0.9031\n",
            "2021-05-03 21:45:10,543 BAD EPOCHS (no improvement): 0\n",
            "saving best model\n",
            "2021-05-03 21:45:30,617 ----------------------------------------------------------------------------------------------------\n",
            "2021-05-03 21:45:47,658 epoch 5 - iter 14/140 - loss 9.92084428 - samples/sec: 26.30 - lr: 0.100000\n",
            "2021-05-03 21:46:21,656 epoch 5 - iter 28/140 - loss 9.94848088 - samples/sec: 13.18 - lr: 0.100000\n",
            "2021-05-03 21:46:56,560 epoch 5 - iter 42/140 - loss 10.18240361 - samples/sec: 12.84 - lr: 0.100000\n",
            "2021-05-03 21:47:21,667 epoch 5 - iter 56/140 - loss 10.15443430 - samples/sec: 17.85 - lr: 0.100000\n",
            "2021-05-03 21:47:33,788 epoch 5 - iter 70/140 - loss 10.03579726 - samples/sec: 36.97 - lr: 0.100000\n",
            "2021-05-03 21:47:46,591 epoch 5 - iter 84/140 - loss 10.03153669 - samples/sec: 35.01 - lr: 0.100000\n",
            "2021-05-03 21:48:03,259 epoch 5 - iter 98/140 - loss 10.04568319 - samples/sec: 26.88 - lr: 0.100000\n",
            "2021-05-03 21:48:21,585 epoch 5 - iter 112/140 - loss 10.01839627 - samples/sec: 24.45 - lr: 0.100000\n",
            "2021-05-03 21:48:43,086 epoch 5 - iter 126/140 - loss 9.99987716 - samples/sec: 20.84 - lr: 0.100000\n",
            "2021-05-03 21:48:51,795 epoch 5 - iter 140/140 - loss 9.92744339 - samples/sec: 51.48 - lr: 0.100000\n",
            "2021-05-03 21:48:51,797 ----------------------------------------------------------------------------------------------------\n",
            "2021-05-03 21:48:51,803 EPOCH 5 done: loss 9.9274 - lr 0.1000000\n",
            "2021-05-03 21:48:54,685 DEV : loss 6.3672919273376465 - score 0.9091\n",
            "2021-05-03 21:48:54,741 BAD EPOCHS (no improvement): 0\n",
            "saving best model\n",
            "2021-05-03 21:49:16,466 ----------------------------------------------------------------------------------------------------\n",
            "2021-05-03 21:49:33,428 epoch 6 - iter 14/140 - loss 10.50358438 - samples/sec: 26.44 - lr: 0.100000\n",
            "2021-05-03 21:49:59,335 epoch 6 - iter 28/140 - loss 10.02422108 - samples/sec: 17.29 - lr: 0.100000\n",
            "2021-05-03 21:50:18,805 epoch 6 - iter 42/140 - loss 9.83487784 - samples/sec: 23.02 - lr: 0.100000\n",
            "2021-05-03 21:50:43,663 epoch 6 - iter 56/140 - loss 9.84352472 - samples/sec: 18.03 - lr: 0.100000\n",
            "2021-05-03 21:51:06,091 epoch 6 - iter 70/140 - loss 9.69982598 - samples/sec: 19.98 - lr: 0.100000\n",
            "2021-05-03 21:51:26,898 epoch 6 - iter 84/140 - loss 9.72520852 - samples/sec: 21.53 - lr: 0.100000\n",
            "2021-05-03 21:51:36,812 epoch 6 - iter 98/140 - loss 9.65546366 - samples/sec: 45.20 - lr: 0.100000\n",
            "2021-05-03 21:51:51,713 epoch 6 - iter 112/140 - loss 9.60391368 - samples/sec: 30.07 - lr: 0.100000\n",
            "2021-05-03 21:52:02,753 epoch 6 - iter 126/140 - loss 9.53940518 - samples/sec: 40.60 - lr: 0.100000\n",
            "2021-05-03 21:52:24,728 epoch 6 - iter 140/140 - loss 9.50194751 - samples/sec: 20.39 - lr: 0.100000\n",
            "2021-05-03 21:52:24,734 ----------------------------------------------------------------------------------------------------\n",
            "2021-05-03 21:52:24,738 EPOCH 6 done: loss 9.5019 - lr 0.1000000\n",
            "2021-05-03 21:52:27,590 DEV : loss 6.677300453186035 - score 0.9041\n",
            "2021-05-03 21:52:27,649 BAD EPOCHS (no improvement): 1\n",
            "2021-05-03 21:52:27,655 ----------------------------------------------------------------------------------------------------\n",
            "2021-05-03 21:52:54,732 epoch 7 - iter 14/140 - loss 9.35859861 - samples/sec: 16.55 - lr: 0.100000\n",
            "2021-05-03 21:53:05,060 epoch 7 - iter 28/140 - loss 8.97358613 - samples/sec: 43.39 - lr: 0.100000\n",
            "2021-05-03 21:53:21,281 epoch 7 - iter 42/140 - loss 9.04516063 - samples/sec: 27.62 - lr: 0.100000\n",
            "2021-05-03 21:53:36,359 epoch 7 - iter 56/140 - loss 9.02354617 - samples/sec: 29.72 - lr: 0.100000\n",
            "2021-05-03 21:53:56,969 epoch 7 - iter 70/140 - loss 9.14283039 - samples/sec: 21.75 - lr: 0.100000\n",
            "2021-05-03 21:54:14,766 epoch 7 - iter 84/140 - loss 9.13736015 - samples/sec: 25.18 - lr: 0.100000\n",
            "2021-05-03 21:54:26,613 epoch 7 - iter 98/140 - loss 9.08069925 - samples/sec: 37.82 - lr: 0.100000\n",
            "2021-05-03 21:54:54,335 epoch 7 - iter 112/140 - loss 9.18234156 - samples/sec: 16.16 - lr: 0.100000\n",
            "2021-05-03 21:55:04,249 epoch 7 - iter 126/140 - loss 9.14198260 - samples/sec: 45.20 - lr: 0.100000\n",
            "2021-05-03 21:55:29,478 epoch 7 - iter 140/140 - loss 9.17642806 - samples/sec: 17.76 - lr: 0.100000\n",
            "2021-05-03 21:55:29,480 ----------------------------------------------------------------------------------------------------\n",
            "2021-05-03 21:55:29,486 EPOCH 7 done: loss 9.1764 - lr 0.1000000\n",
            "2021-05-03 21:55:32,319 DEV : loss 6.019268035888672 - score 0.9142\n",
            "2021-05-03 21:55:32,378 BAD EPOCHS (no improvement): 0\n",
            "saving best model\n",
            "2021-05-03 21:55:51,049 ----------------------------------------------------------------------------------------------------\n",
            "2021-05-03 21:56:25,579 epoch 8 - iter 14/140 - loss 8.99249492 - samples/sec: 13.11 - lr: 0.100000\n",
            "2021-05-03 21:56:51,078 epoch 8 - iter 28/140 - loss 8.91641911 - samples/sec: 17.57 - lr: 0.100000\n",
            "2021-05-03 21:57:12,695 epoch 8 - iter 42/140 - loss 8.78927931 - samples/sec: 20.73 - lr: 0.100000\n",
            "2021-05-03 21:57:33,984 epoch 8 - iter 56/140 - loss 8.88185715 - samples/sec: 21.05 - lr: 0.100000\n",
            "2021-05-03 21:57:52,080 epoch 8 - iter 70/140 - loss 8.96477416 - samples/sec: 24.76 - lr: 0.100000\n",
            "2021-05-03 21:58:18,275 epoch 8 - iter 84/140 - loss 8.93308117 - samples/sec: 17.10 - lr: 0.100000\n",
            "2021-05-03 21:58:41,181 epoch 8 - iter 98/140 - loss 8.93450839 - samples/sec: 19.56 - lr: 0.100000\n",
            "2021-05-03 21:59:05,234 epoch 8 - iter 112/140 - loss 8.98326979 - samples/sec: 18.63 - lr: 0.100000\n",
            "2021-05-03 21:59:14,584 epoch 8 - iter 126/140 - loss 8.92835140 - samples/sec: 47.93 - lr: 0.100000\n",
            "2021-05-03 21:59:35,044 epoch 8 - iter 140/140 - loss 8.88952162 - samples/sec: 21.90 - lr: 0.100000\n",
            "2021-05-03 21:59:35,046 ----------------------------------------------------------------------------------------------------\n",
            "2021-05-03 21:59:35,049 EPOCH 8 done: loss 8.8895 - lr 0.1000000\n",
            "2021-05-03 21:59:37,958 DEV : loss 5.89697265625 - score 0.9159\n",
            "2021-05-03 21:59:38,015 BAD EPOCHS (no improvement): 0\n",
            "saving best model\n",
            "2021-05-03 21:59:58,573 ----------------------------------------------------------------------------------------------------\n",
            "2021-05-03 22:00:14,294 epoch 9 - iter 14/140 - loss 8.30732799 - samples/sec: 28.53 - lr: 0.100000\n",
            "2021-05-03 22:00:45,520 epoch 9 - iter 28/140 - loss 8.59501752 - samples/sec: 14.35 - lr: 0.100000\n",
            "2021-05-03 22:00:57,426 epoch 9 - iter 42/140 - loss 8.62449045 - samples/sec: 37.64 - lr: 0.100000\n",
            "2021-05-03 22:01:12,798 epoch 9 - iter 56/140 - loss 8.54413578 - samples/sec: 29.15 - lr: 0.100000\n",
            "2021-05-03 22:01:48,763 epoch 9 - iter 70/140 - loss 8.61176338 - samples/sec: 12.46 - lr: 0.100000\n",
            "2021-05-03 22:02:09,199 epoch 9 - iter 84/140 - loss 8.63828441 - samples/sec: 21.93 - lr: 0.100000\n",
            "2021-05-03 22:02:26,494 epoch 9 - iter 98/140 - loss 8.66663051 - samples/sec: 25.91 - lr: 0.100000\n",
            "2021-05-03 22:02:47,962 epoch 9 - iter 112/140 - loss 8.68649995 - samples/sec: 20.87 - lr: 0.100000\n",
            "2021-05-03 22:03:02,788 epoch 9 - iter 126/140 - loss 8.68600248 - samples/sec: 30.22 - lr: 0.100000\n",
            "2021-05-03 22:03:25,158 epoch 9 - iter 140/140 - loss 8.73452243 - samples/sec: 20.03 - lr: 0.100000\n",
            "2021-05-03 22:03:25,161 ----------------------------------------------------------------------------------------------------\n",
            "2021-05-03 22:03:25,166 EPOCH 9 done: loss 8.7345 - lr 0.1000000\n",
            "2021-05-03 22:03:28,011 DEV : loss 5.892063140869141 - score 0.916\n",
            "2021-05-03 22:03:28,069 BAD EPOCHS (no improvement): 0\n",
            "saving best model\n",
            "2021-05-03 22:03:46,685 ----------------------------------------------------------------------------------------------------\n",
            "2021-05-03 22:04:06,732 epoch 10 - iter 14/140 - loss 8.14252254 - samples/sec: 22.48 - lr: 0.100000\n",
            "2021-05-03 22:04:34,743 epoch 10 - iter 28/140 - loss 8.63692614 - samples/sec: 16.00 - lr: 0.100000\n",
            "2021-05-03 22:04:53,122 epoch 10 - iter 42/140 - loss 8.54816391 - samples/sec: 24.38 - lr: 0.100000\n",
            "2021-05-03 22:05:20,066 epoch 10 - iter 56/140 - loss 8.51155340 - samples/sec: 16.63 - lr: 0.100000\n",
            "2021-05-03 22:05:39,548 epoch 10 - iter 70/140 - loss 8.41915267 - samples/sec: 23.00 - lr: 0.100000\n",
            "2021-05-03 22:05:58,438 epoch 10 - iter 84/140 - loss 8.47346515 - samples/sec: 23.72 - lr: 0.100000\n",
            "2021-05-03 22:06:10,656 epoch 10 - iter 98/140 - loss 8.41103050 - samples/sec: 36.68 - lr: 0.100000\n",
            "2021-05-03 22:06:37,595 epoch 10 - iter 112/140 - loss 8.46626032 - samples/sec: 16.63 - lr: 0.100000\n",
            "2021-05-03 22:07:13,091 epoch 10 - iter 126/140 - loss 8.51238854 - samples/sec: 12.62 - lr: 0.100000\n",
            "2021-05-03 22:07:27,395 epoch 10 - iter 140/140 - loss 8.44703487 - samples/sec: 31.34 - lr: 0.100000\n",
            "2021-05-03 22:07:27,397 ----------------------------------------------------------------------------------------------------\n",
            "2021-05-03 22:07:27,398 EPOCH 10 done: loss 8.4470 - lr 0.1000000\n",
            "2021-05-03 22:07:30,259 DEV : loss 5.773402690887451 - score 0.9156\n",
            "2021-05-03 22:07:30,317 BAD EPOCHS (no improvement): 1\n",
            "2021-05-03 22:07:51,276 ----------------------------------------------------------------------------------------------------\n",
            "2021-05-03 22:07:51,463 Testing using best model ...\n",
            "2021-05-03 22:07:51,471 loading file resources/taggers/example-universal-pos/best-model.pt\n",
            "2021-05-03 22:08:34,792 \t0.9215\n",
            "2021-05-03 22:08:34,799 \n",
            "Results:\n",
            "- F-score (micro): 0.9215\n",
            "- F-score (macro): 0.8511\n",
            "- Accuracy (incl. no class): 0.9215\n",
            "\n",
            "By class:\n",
            "              precision    recall  f1-score   support\n",
            "\n",
            "        NOUN     0.9043    0.8728    0.8883      2555\n",
            "       PROPN     0.8824    0.9498    0.9148      2211\n",
            "         ADP     0.9496    0.9644    0.9570      1153\n",
            "         NUM     0.9198    0.9582    0.9386       407\n",
            "        VERB     0.9193    0.9480    0.9334      1250\n",
            "       CCONJ     0.9582    0.9173    0.9373       375\n",
            "         ADJ     0.8476    0.6282    0.7216       425\n",
            "        PRON     0.9811    0.9398    0.9600       498\n",
            "       PUNCT     0.9960    0.9994    0.9977      1724\n",
            "         ADV     0.8468    0.8347    0.8407       490\n",
            "         AUX     0.9897    1.0000    0.9948        96\n",
            "         DET     0.9584    0.9251    0.9415       374\n",
            "       SCONJ     0.7500    0.8239    0.7852       142\n",
            "        PART     0.9333    0.8571    0.8936        49\n",
            "         SYM     0.9630    0.8667    0.9123        30\n",
            "           X     1.0000    0.0000    0.0000         1\n",
            "\n",
            "    accuracy                         0.9215     11780\n",
            "   macro avg     0.9250    0.8428    0.8511     11780\n",
            "weighted avg     0.9215    0.9215    0.9205     11780\n",
            "\n",
            "2021-05-03 22:08:34,805 ----------------------------------------------------------------------------------------------------\n"
          ],
          "name": "stdout"
        },
        {
          "output_type": "execute_result",
          "data": {
            "text/plain": [
              "{'dev_loss_history': [13.82058334350586,\n",
              "  8.361515045166016,\n",
              "  7.485576152801514,\n",
              "  6.724477767944336,\n",
              "  6.3672919273376465,\n",
              "  6.677300453186035,\n",
              "  6.019268035888672,\n",
              "  5.89697265625,\n",
              "  5.892063140869141,\n",
              "  5.773402690887451],\n",
              " 'dev_score_history': [0.7949,\n",
              "  0.88,\n",
              "  0.8916,\n",
              "  0.9031,\n",
              "  0.9091,\n",
              "  0.9041,\n",
              "  0.9142,\n",
              "  0.9159,\n",
              "  0.916,\n",
              "  0.9156],\n",
              " 'test_score': 0.9215,\n",
              " 'train_loss_history': [30.213853005000523,\n",
              "  14.456523132324218,\n",
              "  11.571963378361293,\n",
              "  10.413406579835074,\n",
              "  9.927443391936166,\n",
              "  9.501947508539473,\n",
              "  9.176428062575203,\n",
              "  8.889521619251797,\n",
              "  8.734522434643337,\n",
              "  8.447034869875226]}"
            ]
          },
          "metadata": {
            "tags": []
          },
          "execution_count": 3
        }
      ]
    },
    {
      "cell_type": "code",
      "metadata": {
        "id": "LqvmmuVf7cPs",
        "colab": {
          "base_uri": "https://localhost:8080/"
        },
        "outputId": "00962f64-130a-4a5b-a465-d629322809fd"
      },
      "source": [
        "from flair.data import Sentence\n",
        "\n",
        "sentence = Sentence('saya dan dia kemarin pergi ke pasar bersama untuk membeli jeruk')\n",
        "tag_pos = SequenceTagger.load('resources/taggers/example-universal-pos/best-model.pt')\n",
        "tag_pos.predict(sentence)\n",
        "print(sentence.to_tagged_string())"
      ],
      "execution_count": 4,
      "outputs": [
        {
          "output_type": "stream",
          "text": [
            "2021-05-03 22:09:52,930 loading file resources/taggers/example-universal-pos/best-model.pt\n",
            "saya <PRON> dan <CCONJ> dia <PRON> kemarin <ADV> pergi <VERB> ke <ADP> pasar <NOUN> bersama <ADP> untuk <ADP> membeli <VERB> jeruk <NOUN>\n"
          ],
          "name": "stdout"
        }
      ]
    },
    {
      "cell_type": "code",
      "metadata": {
        "colab": {
          "base_uri": "https://localhost:8080/"
        },
        "id": "TpZyUq_tVD3K",
        "outputId": "390aba9d-f925-4201-aaac-f44810963516"
      },
      "source": [
        "berita_1 = Sentence(txt_berita_1)\n",
        "tag_pos.predict(berita_1)\n",
        "print(berita_1.to_tagged_string())"
      ],
      "execution_count": 16,
      "outputs": [
        {
          "output_type": "stream",
          "text": [
            "Jakarta <PROPN> , <PUNCT> CNN <PROPN> Indonesia <PROPN> -- <PUNCT> Asnawi <PROPN> Mangkualam <PROPN> masuk <VERB> dalam <ADP> daftar <NOUN> Best <PROPN> 11 <NUM> K <PROPN> League <PROPN> 2 <NUM> pekan <NOUN> kedelapan <NUM> setelah <ADP> membuat <VERB> assist <NOUN> kemenangan <NOUN> Ansan <PROPN> Greeners <PROPN> atas <ADP> Daejeon <PROPN> Citizens <PROPN> , <PUNCT> Sabtu <PROPN> ( <PUNCT> 24 <NUM> / <SYM> 4 <NUM> ) <PUNCT> . <PUNCT> Mantan <NOUN> pemain <NOUN> PSM <PROPN> Makassar <PROPN> itu <DET> dipilih <VERB> masuk <VERB> dalam <ADP> tim <NOUN> terbaik <ADJ> oleh <ADP> Federasi <PROPN> Sepak <PROPN> bola <NOUN> Profesional <PROPN> Korea <PROPN> pada <ADP> 27 <NUM> April <PROPN> . <PUNCT> Ini <DET> merupakan <VERB> kali <NOUN> pertama <NUM> Asnawi <PROPN> masuk <VERB> dalam <ADP> tim <NOUN> terbaik <ADJ> setelah <ADP> empat <NUM> kali <NOUN> memperkuat <VERB> Ansan <PROPN> di <ADP> laga <NOUN> K <PROPN> League <PROPN> 2 <NUM> . <PUNCT> Dalam <ADP> pertandingan <NOUN> akhir <NOUN> pekan <NOUN> lalu <ADP> tersebut <DET> , <PUNCT> Asnawi <PROPN> tampil <VERB> cukup <ADV> militan <ADJ> . <PUNCT> Ketika <SCONJ> menjadi <VERB> penyerang <NOUN> sayap <NOUN> kanan <ADJ> pada <ADP> babak <NOUN> pertama <NUM> , <PUNCT> Asnawi <PROPN> beberapa <DET> kali <NOUN> mengirim <VERB> umpan <NOUN> ke <ADP> kotak <NOUN> penalti <NOUN> . <PUNCT> Selain <ADP> itu <DET> Asnawi <PROPN> juga <ADV> cukup <ADV> aktif <VERB> membantu <VERB> pertahanan <NOUN> . <PUNCT> Sempat <ADV> gagal <VERB> mencetak <VERB> gol <NOUN> ketika <SCONJ> mendapat <VERB> peluang <NOUN> yang <PRON> sangat <ADV> terbuka <ADJ> di <ADP> menit-menit <NOUN> akhir <NOUN> babak <NOUN> pertama <NUM> , <PUNCT> Asnawi <PROPN> yang <PRON> menjadi <VERB> bek <NOUN> kanan <ADJ> pada <ADP> babak <NOUN> kedua <NUM> kemudian <ADV> membuat <VERB> assist <NOUN> pada <ADP> 10 <NUM> menit <NOUN> akhir <NOUN> pertandingan <NOUN> . <PUNCT> Umpan <PROPN> Asnawi <PROPN> yang <PRON> dituntaskan <VERB> Shim <PROPN> Jae <PROPN> Min <PROPN> menjadi <VERB> gol <NOUN> kemenangan <NOUN> Ansan <PROPN> atas <ADP> Daejeon <PROPN> . <PUNCT> Sebelumnya <ADV> Ansan <PROPN> tidak <PART> pernah <ADV> menang <VERB> atas <ADP> Daejeon <PROPN> sejak <ADP> pertengahan <NOUN> 2019 <NUM> . <PUNCT> Ansan <PROPN> sempat <ADV> menempati <VERB> peringkat <NOUN> kedua <NUM> setelah <ADP> kemenangan <NOUN> atas <ADP> Daejeon <PROPN> , <PUNCT> namun <SCONJ> kini <ADV> klub <NOUN> berjuluk <VERB> Green <PROPN> Wolf <PROPN> itu <DET> merosot <VERB> ke <ADP> peringkat <NOUN> keempat <NUM> menyusul <ADP> tiga <NUM> poin <NOUN> yang <PRON> didapat <VERB> Jeonnam <PROPN> Dragons <PROPN> dan <CCONJ> FC <PROPN> Anyang <PROPN> . <PUNCT> Pada <ADP> pekan <NOUN> mendatang <VERB> , <PUNCT> Ansan <PROPN> akan <ADV> berhadapan <VERB> dengan <ADP> Seoul <PROPN> E-Land <PROPN> yang <PRON> menempati <VERB> peringkat <NOUN> kelima <NUM> . <PUNCT> Asnawi <PROPN> pun <ADV> berpeluang <VERB> kembali <ADV> dimainkan <VERB> , <PUNCT> namun <SCONJ> di <ADP> sisi <NOUN> lain <ADJ> pemain <NOUN> 21 <NUM> tahun <NOUN> itu <DET> juga <ADV> termasuk <VERB> dalam <ADP> pemain <NOUN> yang <PRON> dipanggil <VERB> ke <ADP> dalam <ADP> pemusatan <NOUN> latihan <NOUN> Timnas <PROPN> Indonesia <PROPN> jelang <PROPN> Kualifikasi <PROPN> Piala <PROPN> Dunia <PROPN> 2022 <NUM> . <PUNCT> Pelatnas <PROPN> akan <ADV> dimulai <VERB> pada <ADP> 1 <NUM> Mei <PROPN> hingga <ADP> 10 <NUM> Mei <PROPN> di <ADP> Jakarta <PROPN> , <PUNCT> setelah <ADP> itu <DET> pelatih <NOUN> Shin <PROPN> Tae <PROPN> Yong <PROPN> akan <ADV> membawa <VERB> anak <NOUN> asuhnya <NOUN> berlatih <VERB> di <ADP> Uni <PROPN> Emirat <PROPN> Arab <PROPN> sebelum <ADP> menghadapi <VERB> tiga <NUM> laga <NOUN> sisa <NOUN> Kualifikasi <PROPN> Piala <PROPN> Dunia <PROPN> pada <ADP> Juni <PROPN> . <PUNCT> Beberapa <DET> pekan <NOUN> lalu <CCONJ> Shin <PROPN> Tae <PROPN> Yong <PROPN> sudah <ADV> bertemu <VERB> dengan <ADP> perwakilan <NOUN> Ansan <PROPN> termasuk <VERB> membicarakan <VERB> perihal <ADP> pemanggilan <NOUN> Asnawi <PROPN> ke <ADP> Timnas <PROPN> Indonesia <PROPN> . <PUNCT>\n"
          ],
          "name": "stdout"
        }
      ]
    },
    {
      "cell_type": "code",
      "metadata": {
        "colab": {
          "base_uri": "https://localhost:8080/"
        },
        "id": "mhRC856KazT-",
        "outputId": "ea31f572-fe57-4661-e39c-bf9823dc6290"
      },
      "source": [
        "berita_2 = Sentence(txt_berita_2)\n",
        "tag_pos.predict(berita_2)\n",
        "print(berita_2.to_tagged_string())"
      ],
      "execution_count": 17,
      "outputs": [
        {
          "output_type": "stream",
          "text": [
            "BOLASPORT.COM <PROPN> - <PUNCT> Pemain <NOUN> muda <ADJ> Indonesia <PROPN> , <PUNCT> Egy <PROPN> Maulana <PROPN> Vikri <PROPN> menyumbang <VERB> assist <NOUN> dan <CCONJ> gol <NOUN> saat <ADP> membela <VERB> Lechia <PROPN> Gdansk <PROPN> II <NUM> melawan <VERB> Powisle <ADP> Dzierzgon <PROPN> , <PUNCT> Minggu <PROPN> ( <PUNCT> 2 <NUM> / <SYM> 5 <NUM> / <SYM> 2021 <NUM> ) <PUNCT> . <PUNCT> Setelah <SCONJ> hanya <ADV> berada <VERB> di <ADP> bench <NOUN> kala <NOUN> Lechia <PROPN> Gdansk <PROPN> menang <VERB> atas <ADP> Wisla <PROPN> Plock <PROPN> dalam <ADP> lanjutan <NOUN> Ekstraklasa <PROPN> Jumat <PROPN> ( <PUNCT> 30 <NUM> / <SYM> 4 <NUM> / <SYM> 2021 <NUM> ) <PUNCT> , <PUNCT> Egy <PROPN> Maulana <PROPN> Vikri <PROPN> membela <VERB> tim <NOUN> cadangan <NOUN> Lechia <PROPN> Gdansk <PROPN> pada <ADP> Minggu <NOUN> sore <NOUN> waktu <NOUN> setempat <ADJ> . <PUNCT> Laga <PROPN> antara <ADP> Lechia <PROPN> Gdansk <PROPN> II <NUM> Vs <PROPN> Powisle <PROPN> Dziergon <PROPN> merupakan <VERB> laga <NOUN> pekan <NOUN> ke-19 <NUM> di <ADP> IV <NUM> Liga <PROPN> ( <PUNCT> kasta <NOUN> kelima <NUM> ) <PUNCT> . <PUNCT> Menurut <ADP> laporan <NOUN> dari <ADP> Lechia.net <NOUN> , <PUNCT> laga <NOUN> ini <DET> sangat <ADV> penting <ADJ> dalam <ADP> penentuan <NOUN> grup <NOUN> championship <PROPN> dan <CCONJ> degradasi <NOUN> . <PUNCT> Egy <PROPN> Maulana <PROPN> Vikri <PROPN> tampil <VERB> sejak <ADP> awal <ADJ> dan <CCONJ> menggunakan <VERB> nomor <NOUN> punggung <NOUN> 10 <NUM> pada <ADP> laga <NOUN> ini <DET> , <PUNCT> seperti <ADP> laporan <NOUN> dari <ADP> jurnalis <NOUN> lokal <ADJ> , <PUNCT> @ <PROPN> KieroRyba <PROPN> . <PUNCT> Pemain <NOUN> asal <NOUN> Medan <PROPN> tersebut <DET> menyumbang <VERB> assist <NOUN> untuk <ADP> gol <NOUN> pertama <ADJ> Lechia <PROPN> Gdansk <PROPN> yang <PRON> tercipta <VERB> pada <ADP> menit <NOUN> ke-7 <NUM> . <PUNCT> Umpan <PROPN> Egy <PROPN> berhasil <VERB> dikonversikan <VERB> jadi <VERB> gol <NOUN> oleh <ADP> striker <NOUN> Lechia <PROPN> , <PUNCT> Mykola <PROPN> Musolitin <PROPN> . <PUNCT> Jakub <PROPN> Kaluzinski <PROPN> menggandakan <VERB> keunggulan <NOUN> Lechia <PROPN> Gdansk <PROPN> pada <ADP> menit <NOUN> ke-18 <NUM> . <PUNCT> Powisle <PROPN> sempat <ADV> memperkecil <VERB> keunggulan <NOUN> 5 <NUM> menit <NOUN> berselang <ADJ> , <PUNCT> membuat <VERB> skor <NOUN> jadi <VERB> 1-2 <NUM> . <PUNCT> Namun <SCONJ> Lechia <PROPN> Gdansk <PROPN> II <NUM> berhasil <VERB> menjauh <VERB> lagi <ADV> lewat <ADP> gol <NOUN> sang <DET> kapten <NOUN> , <PUNCT> Karol <PROPN> Landowski <PROPN> pada <ADP> menit <NOUN> ke-24 <NUM> . <PUNCT> Tiga <NUM> menit <NOUN> berselang <ADJ> , <PUNCT> Landowski <PROPN> gantian <PROPN> memberikan <VERB> umpan <NOUN> kepada <ADP> Mateusz <PROPN> Sadlo <PROPN> untuk <ADP> mencetak <VERB> gol <NOUN> yang <PRON> membuat <VERB> skor <NOUN> jadi <VERB> 4-1 <PROPN> . <PUNCT> Pada <ADP> menit <NOUN> ke-36 <NUM> , <PUNCT> Egy <PROPN> Maulana <PROPN> Vikri <PROPN> turut <ADV> menyumbang <VERB> gol <NOUN> . <PUNCT> Namun <SCONJ> tak <PART> sampai <ADP> semenit <NOUN> kemudian <ADV> , <PUNCT> tim <NOUN> lawan <NOUN> juga <ADV> mampu <ADV> mencetak <VERB> gol <NOUN> . <PUNCT> Skor <PROPN> 5-2 <PROPN> untuk <ADP> keunggulan <NOUN> Lechia <PROPN> Gdansk <PROPN> II <NUM> menutup <VERB> babak <NOUN> pertama <NUM> . <PUNCT> Di <ADP> babak <NOUN> kedua <NUM> , <PUNCT> Lechia <PROPN> Gdansk <PROPN> tetap <ADV> menampilkan <VERB> permainan <NOUN> menyerang <VERB> . <PUNCT> Egy <PROPN> Maulana <PROPN> Vikri <PROPN> mencetak <VERB> gol <NOUN> keduanya <ADJ> di <ADP> laga <NOUN> ini <DET> pada <ADP> menit <NOUN> ke-50 <NUM> sekaligus <ADV> menutup <VERB> pesta <NOUN> gol <NOUN> Lechia <PROPN> Gdansk <PROPN> II <NUM> . <PUNCT> Sedangkan <SCONJ> Powisle <PRON> mampu <ADV> mencetak <VERB> gol <NOUN> ketiga <NUM> pada <ADP> menit <NOUN> ke-65 <NUM> . <PUNCT> Laga <PROPN> berakhir <VERB> , <PUNCT> Lechia <PROPN> Gdansk <PROPN> menang <VERB> dengan <ADP> skor <NOUN> telak <ADJ> 6-3 <PROPN> atas <ADP> Powisle <PROPN> Dziergon <PROPN> . <PUNCT> Kemungkinan <NOUN> besar <ADJ> laga <NOUN> melawan <VERB> Powisle <PROPN> Dziergon <PROPN> merupakan <VERB> laga <NOUN> terakhir <ADJ> Egy <PROPN> Maulana <PROPN> Vikri <PROPN> untuk <ADP> Lechia <PROPN> Gdansk <PROPN> sebelum <ADP> ia <PRON> menghadap <VERB> Shin <PROPN> Tae-yong <PROPN> . <PUNCT> Nama <NOUN> Egy <PROPN> Maulana <PROPN> Vikri <PROPN> masuk <VERB> ke <ADP> daftar <NOUN> 34 <NUM> pemain <NOUN> yang <PRON> dipanggil <VERB> pemusatan <NOUN> latihan <NOUN> ( <PUNCT> TC <PROPN> ) <PUNCT> Timnas <PROPN> Indonesia <PROPN> per <ADP> 1 <NUM> Mei <PROPN> 2021 <NUM> . <PUNCT> Direktur <PROPN> Teknik <PROPN> PSSI <PROPN> , <PUNCT> Indra <PROPN> Sjafri <PROPN> memastikan <VERB> sang <DET> pemain <NOUN> bakal <ADV> datang <VERB> ke <ADP> Jakarta <PROPN> untuk <ADP> TC <PROPN> pada <ADP> 5 <NUM> Mei <PROPN> 2021 <NUM> . <PUNCT> \" <PUNCT> Macam-macam <PROPN> . <PUNCT> Jadi <SCONJ> Egy <PROPN> itu <DET> tanggal <NOUN> 5 <NUM> Mei <PROPN> , <PUNCT> kalau <SCONJ> Syahrian <ADP> Abimanyu <PROPN> 15 <NUM> Mei <PROPN> . <PUNCT> Saya <PRON> tidak <PART> hapal <VERB> ,\" <ADP> ujar <PROPN> Indra <PROPN> Sjafri <PROPN> saat <SCONJ> ditemui <VERB> di <ADP> kantor <NOUN> Kemenpora <PROPN> , <PUNCT> Senayan <PROPN> , <PUNCT> Jakarta <PROPN> Pusat <PROPN> , <PUNCT> Selasa <PROPN> ( <PUNCT> 27 <NUM> / <SYM> 4 <NUM> / <SYM> 2021 <NUM> ) <PUNCT> . <PUNCT> \" <PUNCT> Untuk <ADP> yang <PRON> di <ADP> Eropa <PROPN> itu <DET> karena <SCONJ> kompetisi <NOUN> lebih <ADV> cepat <ADJ> selesai <VERB> , <PUNCT> anak-anak <PRON> juga <ADV> lebih <ADV> cepat <ADJ> bisa <ADV> bergabung <VERB> . <PUNCT> Tanggal <NOUN> 31 <NUM> Mei <PROPN> itu <DET> periode <NOUN> FIFA <PROPN> Matchday <PROPN> , <PUNCT> jadi <ADV> kompetisi <NOUN> sudah <ADV> selesai <VERB> . <PUNCT> Mereka <PRON> bisa <ADV> cepat <ADJ> datang <VERB> ,\" <ADP> tambahnya <NOUN> . <PUNCT> Para <DET> pemain <NOUN> timnas <NOUN> Indonesia <PROPN> menjalani <VERB> TC <PROPN> di <ADP> Jakarta <PROPN> lalu <CCONJ> kemudian <ADV> akan <ADV> berangkat <VERB> ke <ADP> UEA <PROPN> pada <ADP> 10 <NUM> Mei <PROPN> mendatang <VERB> . <PUNCT> Selain <ADP> Egy <PROPN> , <PUNCT> ada <VERB> beberapa <DET> pemain <NOUN> timnas <PROPN> Indonesia <PROPN> yang <PRON> berkarier <VERB> di <ADP> luar <NOUN> negeri <NOUN> akan <ADV> langsung <ADV> bergabung <VERB> di <ADP> UEA <PROPN> . <PUNCT> \" <PUNCT> Pemain <PROPN> dari <ADP> luar <NOUN> negeri <NOUN> tidak <PART> semuanya <ADV> datang <VERB> ke <ADP> Jakarta <PROPN> . <PUNCT> Masih <ADV> ada <VERB> pertandingan <NOUN> untuk <ADP> klub <NOUN> mereka <PRON> . <PUNCT> Saya <PRON> hanya <ADV> bicara <VERB> tadi <ADV> Egy <PROPN> ke <ADP> Jakarta <PROPN> tanggal <NOUN> 5 <NUM> Mei <PROPN> ,\" <PUNCT> kata <NOUN> Indra <PROPN> Sjafri <PROPN> . <PUNCT> \" <PUNCT> Kalau <SCONJ> Abimanyu <PROPN> langsung <VERB> ke <ADP> Dubai <PROPN> , <PUNCT> Yanto <PROPN> Basna <PROPN> dan <CCONJ> Ryuji <PROPN> Utomo <PROPN> juga <ADV> sudah <ADV> di <ADP> sini <NOUN> . <PUNCT> Elkan <PROPN> Baggott <PUNCT> langsung <ADJ> ke <ADP> Dubai <PROPN> ,\" <PUNCT> tambahnya <NOUN> . <PUNCT> Timnas <PROPN> Indonesia <PROPN> dijadwalkan <VERB> akan <ADV> menjalani <VERB> tiga <NUM> laga <NOUN> sisa <NOUN> Kualifikasi <PROPN> Piala <PROPN> Dunia <PROPN> 2022 <NUM> , <PUNCT> yakni <ADV> melawan <VERB> Thailand <PROPN> pada <ADP> 3 <NUM> Juni <PROPN> , <PUNCT> Vietnam <PROPN> pada <ADP> 7 <NUM> Juni <PROPN> dan <CCONJ> Uni <PROPN> Emirat <PROPN> Arab <PROPN> pada <ADP> 11 <NUM> Juni <PROPN> . <PUNCT> Tetapi <SCONJ> pasukan <NOUN> Garuda <PROPN> akan <ADV> menjalani <VERB> laga <NOUN> ujicoba <ADJ> melawan <ADP> Afghanistan <PROPN> ( <PUNCT> 25 <NUM> Mei <PROPN> ) <PUNCT> dan <CCONJ> Oman <PROPN> ( <PUNCT> 29 <NUM> Mei <PROPN> ) <PUNCT> terlebih <ADV> dulu <ADV> . <PUNCT>\n"
          ],
          "name": "stdout"
        }
      ]
    }
  ]
}