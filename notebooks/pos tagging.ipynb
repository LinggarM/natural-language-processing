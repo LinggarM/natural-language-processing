{
  "nbformat": 4,
  "nbformat_minor": 0,
  "metadata": {
    "colab": {
      "provenance": []
    },
    "kernelspec": {
      "name": "python3",
      "display_name": "Python 3"
    }
  },
  "cells": [
    {
      "cell_type": "code",
      "metadata": {
        "id": "en9bUDg3P6Pm",
        "colab": {
          "base_uri": "https://localhost:8080/"
        },
        "outputId": "cd9298dc-7366-4727-b97a-62189395e494"
      },
      "source": [
        "!pip install flair"
      ],
      "execution_count": null,
      "outputs": [
        {
          "output_type": "stream",
          "text": [
            "Collecting flair\n",
            "\u001b[?25l  Downloading https://files.pythonhosted.org/packages/f0/3a/1b46a0220d6176b22bcb9336619d1731301bc2c75fa926a9ef953e6e4d58/flair-0.8.0.post1-py3-none-any.whl (284kB)\n",
            "\u001b[K     |████████████████████████████████| 286kB 7.6MB/s \n",
            "\u001b[?25hCollecting sentencepiece==0.1.95\n",
            "\u001b[?25l  Downloading https://files.pythonhosted.org/packages/f5/99/e0808cb947ba10f575839c43e8fafc9cc44e4a7a2c8f79c60db48220a577/sentencepiece-0.1.95-cp37-cp37m-manylinux2014_x86_64.whl (1.2MB)\n",
            "\u001b[K     |████████████████████████████████| 1.2MB 14.8MB/s \n",
            "\u001b[?25hCollecting gdown==3.12.2\n",
            "  Downloading https://files.pythonhosted.org/packages/50/21/92c3cfe56f5c0647145c4b0083d0733dd4890a057eb100a8eeddf949ffe9/gdown-3.12.2.tar.gz\n",
            "  Installing build dependencies ... \u001b[?25l\u001b[?25hdone\n",
            "  Getting requirements to build wheel ... \u001b[?25l\u001b[?25hdone\n",
            "    Preparing wheel metadata ... \u001b[?25l\u001b[?25hdone\n",
            "Requirement already satisfied: tqdm>=4.26.0 in /usr/local/lib/python3.7/dist-packages (from flair) (4.41.1)\n",
            "Collecting ftfy\n",
            "\u001b[?25l  Downloading https://files.pythonhosted.org/packages/af/da/d215a091986e5f01b80f5145cff6f22e2dc57c6b048aab2e882a07018473/ftfy-6.0.3.tar.gz (64kB)\n",
            "\u001b[K     |████████████████████████████████| 71kB 9.3MB/s \n",
            "\u001b[?25hCollecting mpld3==0.3\n",
            "\u001b[?25l  Downloading https://files.pythonhosted.org/packages/91/95/a52d3a83d0a29ba0d6898f6727e9858fe7a43f6c2ce81a5fe7e05f0f4912/mpld3-0.3.tar.gz (788kB)\n",
            "\u001b[K     |████████████████████████████████| 798kB 37.6MB/s \n",
            "\u001b[?25hCollecting konoha<5.0.0,>=4.0.0\n",
            "  Downloading https://files.pythonhosted.org/packages/71/70/48a0bd55f79c328504fe6fe7ae8ff651f77a2aadbb1911701385d9bb5ca3/konoha-4.6.5-py3-none-any.whl\n",
            "Collecting torch<=1.7.1,>=1.5.0\n",
            "\u001b[?25l  Downloading https://files.pythonhosted.org/packages/90/5d/095ddddc91c8a769a68c791c019c5793f9c4456a688ddd235d6670924ecb/torch-1.7.1-cp37-cp37m-manylinux1_x86_64.whl (776.8MB)\n",
            "\u001b[K     |████████████████████████████████| 776.8MB 23kB/s \n",
            "\u001b[?25hCollecting sqlitedict>=1.6.0\n",
            "  Downloading https://files.pythonhosted.org/packages/5c/2d/b1d99e9ad157dd7de9cd0d36a8a5876b13b55e4b75f7498bc96035fb4e96/sqlitedict-1.7.0.tar.gz\n",
            "Requirement already satisfied: scikit-learn>=0.21.3 in /usr/local/lib/python3.7/dist-packages (from flair) (0.22.2.post1)\n",
            "Requirement already satisfied: regex in /usr/local/lib/python3.7/dist-packages (from flair) (2019.12.20)\n",
            "Requirement already satisfied: hyperopt>=0.1.1 in /usr/local/lib/python3.7/dist-packages (from flair) (0.1.2)\n",
            "Requirement already satisfied: matplotlib>=2.2.3 in /usr/local/lib/python3.7/dist-packages (from flair) (3.2.2)\n",
            "Collecting segtok>=1.5.7\n",
            "  Downloading https://files.pythonhosted.org/packages/41/08/582dab5f4b1d5ca23bc6927b4bb977c8ff7f3a87a3b98844ef833e2f5623/segtok-1.5.10.tar.gz\n",
            "Requirement already satisfied: numpy<1.20.0 in /usr/local/lib/python3.7/dist-packages (from flair) (1.19.5)\n",
            "Collecting deprecated>=1.2.4\n",
            "  Downloading https://files.pythonhosted.org/packages/fb/73/994edfcba74443146c84b91921fcc269374354118d4f452fb0c54c1cbb12/Deprecated-1.2.12-py2.py3-none-any.whl\n",
            "Requirement already satisfied: gensim<=3.8.3,>=3.4.0 in /usr/local/lib/python3.7/dist-packages (from flair) (3.6.0)\n",
            "Collecting bpemb>=0.3.2\n",
            "  Downloading https://files.pythonhosted.org/packages/f2/6f/9191b85109772636a8f8accb122900c34db26c091d2793218aa94954524c/bpemb-0.3.3-py3-none-any.whl\n",
            "Collecting transformers>=4.0.0\n",
            "\u001b[?25l  Downloading https://files.pythonhosted.org/packages/00/92/6153f4912b84ee1ab53ab45663d23e7cf3704161cb5ef18b0c07e207cef2/transformers-4.7.0-py3-none-any.whl (2.5MB)\n",
            "\u001b[K     |████████████████████████████████| 2.5MB 29.2MB/s \n",
            "\u001b[?25hCollecting langdetect\n",
            "\u001b[?25l  Downloading https://files.pythonhosted.org/packages/0e/72/a3add0e4eec4eb9e2569554f7c70f4a3c27712f40e3284d483e88094cc0e/langdetect-1.0.9.tar.gz (981kB)\n",
            "\u001b[K     |████████████████████████████████| 983kB 27.3MB/s \n",
            "\u001b[?25hRequirement already satisfied: lxml in /usr/local/lib/python3.7/dist-packages (from flair) (4.2.6)\n",
            "Requirement already satisfied: tabulate in /usr/local/lib/python3.7/dist-packages (from flair) (0.8.9)\n",
            "Collecting huggingface-hub\n",
            "  Downloading https://files.pythonhosted.org/packages/3c/e3/fb7b6aefaf0fc7b792cebbbd590b1895c022ab0ff27f389e1019c6f2e68a/huggingface_hub-0.0.10-py3-none-any.whl\n",
            "Requirement already satisfied: python-dateutil>=2.6.1 in /usr/local/lib/python3.7/dist-packages (from flair) (2.8.1)\n",
            "Collecting janome\n",
            "\u001b[?25l  Downloading https://files.pythonhosted.org/packages/a8/63/98858cbead27df7536c7e300c169da0999e9704d02220dc6700b804eeff0/Janome-0.4.1-py2.py3-none-any.whl (19.7MB)\n",
            "\u001b[K     |████████████████████████████████| 19.7MB 9.2MB/s \n",
            "\u001b[?25hRequirement already satisfied: requests[socks] in /usr/local/lib/python3.7/dist-packages (from gdown==3.12.2->flair) (2.23.0)\n",
            "Requirement already satisfied: six in /usr/local/lib/python3.7/dist-packages (from gdown==3.12.2->flair) (1.15.0)\n",
            "Requirement already satisfied: filelock in /usr/local/lib/python3.7/dist-packages (from gdown==3.12.2->flair) (3.0.12)\n",
            "Requirement already satisfied: wcwidth in /usr/local/lib/python3.7/dist-packages (from ftfy->flair) (0.2.5)\n",
            "Collecting importlib-metadata<4.0.0,>=3.7.0\n",
            "  Downloading https://files.pythonhosted.org/packages/52/d0/bdb31463f2d9ca111e39b268518e9baa3542ef73ca449b711a7b4da69764/importlib_metadata-3.10.1-py3-none-any.whl\n",
            "Collecting overrides<4.0.0,>=3.0.0\n",
            "  Downloading https://files.pythonhosted.org/packages/ff/b1/10f69c00947518e6676bbd43e739733048de64b8dd998e9c2d5a71f44c5d/overrides-3.1.0.tar.gz\n",
            "Requirement already satisfied: typing-extensions in /usr/local/lib/python3.7/dist-packages (from torch<=1.7.1,>=1.5.0->flair) (3.7.4.3)\n",
            "Requirement already satisfied: joblib>=0.11 in /usr/local/lib/python3.7/dist-packages (from scikit-learn>=0.21.3->flair) (1.0.1)\n",
            "Requirement already satisfied: scipy>=0.17.0 in /usr/local/lib/python3.7/dist-packages (from scikit-learn>=0.21.3->flair) (1.4.1)\n",
            "Requirement already satisfied: pymongo in /usr/local/lib/python3.7/dist-packages (from hyperopt>=0.1.1->flair) (3.11.4)\n",
            "Requirement already satisfied: networkx in /usr/local/lib/python3.7/dist-packages (from hyperopt>=0.1.1->flair) (2.5.1)\n",
            "Requirement already satisfied: future in /usr/local/lib/python3.7/dist-packages (from hyperopt>=0.1.1->flair) (0.16.0)\n",
            "Requirement already satisfied: kiwisolver>=1.0.1 in /usr/local/lib/python3.7/dist-packages (from matplotlib>=2.2.3->flair) (1.3.1)\n",
            "Requirement already satisfied: cycler>=0.10 in /usr/local/lib/python3.7/dist-packages (from matplotlib>=2.2.3->flair) (0.10.0)\n",
            "Requirement already satisfied: pyparsing!=2.0.4,!=2.1.2,!=2.1.6,>=2.0.1 in /usr/local/lib/python3.7/dist-packages (from matplotlib>=2.2.3->flair) (2.4.7)\n",
            "Requirement already satisfied: wrapt<2,>=1.10 in /usr/local/lib/python3.7/dist-packages (from deprecated>=1.2.4->flair) (1.12.1)\n",
            "Requirement already satisfied: smart-open>=1.2.1 in /usr/local/lib/python3.7/dist-packages (from gensim<=3.8.3,>=3.4.0->flair) (5.1.0)\n",
            "Requirement already satisfied: pyyaml in /usr/local/lib/python3.7/dist-packages (from transformers>=4.0.0->flair) (3.13)\n",
            "Collecting tokenizers<0.11,>=0.10.1\n",
            "\u001b[?25l  Downloading https://files.pythonhosted.org/packages/d4/e2/df3543e8ffdab68f5acc73f613de9c2b155ac47f162e725dcac87c521c11/tokenizers-0.10.3-cp37-cp37m-manylinux_2_5_x86_64.manylinux1_x86_64.manylinux_2_12_x86_64.manylinux2010_x86_64.whl (3.3MB)\n",
            "\u001b[K     |████████████████████████████████| 3.3MB 23.8MB/s \n",
            "\u001b[?25hCollecting sacremoses\n",
            "\u001b[?25l  Downloading https://files.pythonhosted.org/packages/75/ee/67241dc87f266093c533a2d4d3d69438e57d7a90abb216fa076e7d475d4a/sacremoses-0.0.45-py3-none-any.whl (895kB)\n",
            "\u001b[K     |████████████████████████████████| 901kB 48.8MB/s \n",
            "\u001b[?25hRequirement already satisfied: packaging in /usr/local/lib/python3.7/dist-packages (from transformers>=4.0.0->flair) (20.9)\n",
            "Requirement already satisfied: certifi>=2017.4.17 in /usr/local/lib/python3.7/dist-packages (from requests[socks]->gdown==3.12.2->flair) (2021.5.30)\n",
            "Requirement already satisfied: idna<3,>=2.5 in /usr/local/lib/python3.7/dist-packages (from requests[socks]->gdown==3.12.2->flair) (2.10)\n",
            "Requirement already satisfied: chardet<4,>=3.0.2 in /usr/local/lib/python3.7/dist-packages (from requests[socks]->gdown==3.12.2->flair) (3.0.4)\n",
            "Requirement already satisfied: urllib3!=1.25.0,!=1.25.1,<1.26,>=1.21.1 in /usr/local/lib/python3.7/dist-packages (from requests[socks]->gdown==3.12.2->flair) (1.24.3)\n",
            "Requirement already satisfied: PySocks!=1.5.7,>=1.5.6; extra == \"socks\" in /usr/local/lib/python3.7/dist-packages (from requests[socks]->gdown==3.12.2->flair) (1.7.1)\n",
            "Requirement already satisfied: zipp>=0.5 in /usr/local/lib/python3.7/dist-packages (from importlib-metadata<4.0.0,>=3.7.0->konoha<5.0.0,>=4.0.0->flair) (3.4.1)\n",
            "Requirement already satisfied: decorator<5,>=4.3 in /usr/local/lib/python3.7/dist-packages (from networkx->hyperopt>=0.1.1->flair) (4.4.2)\n",
            "Requirement already satisfied: click in /usr/local/lib/python3.7/dist-packages (from sacremoses->transformers>=4.0.0->flair) (7.1.2)\n",
            "Building wheels for collected packages: gdown\n",
            "  Building wheel for gdown (PEP 517) ... \u001b[?25l\u001b[?25hdone\n",
            "  Created wheel for gdown: filename=gdown-3.12.2-cp37-none-any.whl size=9705 sha256=22093c35beb04f7625878db2e135e0f83192f53a6c2c51ca57e653c52bfc7c5b\n",
            "  Stored in directory: /root/.cache/pip/wheels/81/d0/d7/d9983facc6f2775411803e0e2d30ebf98efbf2fc6e57701e09\n",
            "Successfully built gdown\n",
            "Building wheels for collected packages: ftfy, mpld3, sqlitedict, segtok, langdetect, overrides\n",
            "  Building wheel for ftfy (setup.py) ... \u001b[?25l\u001b[?25hdone\n",
            "  Created wheel for ftfy: filename=ftfy-6.0.3-cp37-none-any.whl size=41935 sha256=4344b05cd771f132ccfa9e9723f783379e771ab90bf545d0ed185aede0bef341\n",
            "  Stored in directory: /root/.cache/pip/wheels/99/2c/e6/109c8a28fef7a443f67ba58df21fe1d0067ac3322e75e6b0b7\n",
            "  Building wheel for mpld3 (setup.py) ... \u001b[?25l\u001b[?25hdone\n",
            "  Created wheel for mpld3: filename=mpld3-0.3-cp37-none-any.whl size=116704 sha256=4a6cf8a34b6ba342f02f0a64b23410386438a11adec906541dcdd4bf0f9d77fa\n",
            "  Stored in directory: /root/.cache/pip/wheels/c0/47/fb/8a64f89aecfe0059830479308ad42d62e898a3e3cefdf6ba28\n",
            "  Building wheel for sqlitedict (setup.py) ... \u001b[?25l\u001b[?25hdone\n",
            "  Created wheel for sqlitedict: filename=sqlitedict-1.7.0-cp37-none-any.whl size=14393 sha256=e05bf22b465cca13bfdae3d32dc939b1a87291a7c1cbcf73256f8664ca20d579\n",
            "  Stored in directory: /root/.cache/pip/wheels/cf/c6/4f/2c64a43f041415eb8b8740bd80e15e92f0d46c5e464d8e4b9b\n",
            "  Building wheel for segtok (setup.py) ... \u001b[?25l\u001b[?25hdone\n",
            "  Created wheel for segtok: filename=segtok-1.5.10-cp37-none-any.whl size=25031 sha256=f8777eb392819622e219dfb9e122b61c2e869753655d36af7f7a76b2daaf45f8\n",
            "  Stored in directory: /root/.cache/pip/wheels/b4/39/f6/9ca1c5cabde964d728023b5751c3a206a5c8cc40252321fb6b\n",
            "  Building wheel for langdetect (setup.py) ... \u001b[?25l\u001b[?25hdone\n",
            "  Created wheel for langdetect: filename=langdetect-1.0.9-cp37-none-any.whl size=993242 sha256=a3210f65e783762c235e2f48adead95b4e43d7802ad830072ce5c3074e3d3bc9\n",
            "  Stored in directory: /root/.cache/pip/wheels/7e/18/13/038c34057808931c7ddc6c92d3aa015cf1a498df5a70268996\n",
            "  Building wheel for overrides (setup.py) ... \u001b[?25l\u001b[?25hdone\n",
            "  Created wheel for overrides: filename=overrides-3.1.0-cp37-none-any.whl size=10187 sha256=ab023fcb18bee359e5729622c1c0342364d1903f014a98733c1e519380b85747\n",
            "  Stored in directory: /root/.cache/pip/wheels/5c/24/13/6ef8600e6f147c95e595f1289a86a3cc82ed65df57582c65a9\n",
            "Successfully built ftfy mpld3 sqlitedict segtok langdetect overrides\n",
            "\u001b[31mERROR: torchvision 0.9.1+cu101 has requirement torch==1.8.1, but you'll have torch 1.7.1 which is incompatible.\u001b[0m\n",
            "\u001b[31mERROR: torchtext 0.9.1 has requirement torch==1.8.1, but you'll have torch 1.7.1 which is incompatible.\u001b[0m\n",
            "\u001b[31mERROR: konoha 4.6.5 has requirement requests<3.0.0,>=2.25.1, but you'll have requests 2.23.0 which is incompatible.\u001b[0m\n",
            "\u001b[31mERROR: transformers 4.7.0 has requirement huggingface-hub==0.0.8, but you'll have huggingface-hub 0.0.10 which is incompatible.\u001b[0m\n",
            "Installing collected packages: sentencepiece, gdown, ftfy, mpld3, importlib-metadata, overrides, konoha, torch, sqlitedict, segtok, deprecated, bpemb, huggingface-hub, tokenizers, sacremoses, transformers, langdetect, janome, flair\n",
            "  Found existing installation: gdown 3.6.4\n",
            "    Uninstalling gdown-3.6.4:\n",
            "      Successfully uninstalled gdown-3.6.4\n",
            "  Found existing installation: importlib-metadata 4.5.0\n",
            "    Uninstalling importlib-metadata-4.5.0:\n",
            "      Successfully uninstalled importlib-metadata-4.5.0\n",
            "  Found existing installation: torch 1.8.1+cu101\n",
            "    Uninstalling torch-1.8.1+cu101:\n",
            "      Successfully uninstalled torch-1.8.1+cu101\n",
            "Successfully installed bpemb-0.3.3 deprecated-1.2.12 flair-0.8.0.post1 ftfy-6.0.3 gdown-3.12.2 huggingface-hub-0.0.10 importlib-metadata-3.10.1 janome-0.4.1 konoha-4.6.5 langdetect-1.0.9 mpld3-0.3 overrides-3.1.0 sacremoses-0.0.45 segtok-1.5.10 sentencepiece-0.1.95 sqlitedict-1.7.0 tokenizers-0.10.3 torch-1.7.1 transformers-4.7.0\n"
          ],
          "name": "stdout"
        }
      ]
    },
    {
      "cell_type": "code",
      "metadata": {
        "id": "Byjn8iEai1gu"
      },
      "source": [
        "from flair.data_fetcher import NLPTaskDataFetcher, NLPTask\n",
        "from flair.embeddings import TokenEmbeddings, WordEmbeddings, StackedEmbeddings, BertEmbeddings\n",
        "from typing import List"
      ],
      "execution_count": null,
      "outputs": []
    },
    {
      "cell_type": "code",
      "metadata": {
        "id": "-N8O7y3ezxH2",
        "colab": {
          "base_uri": "https://localhost:8080/"
        },
        "outputId": "155aa5ea-9b4e-4e32-83b7-1ff221c0cebd"
      },
      "source": [
        "# 1. get the corpus\n",
        "corpus = NLPTaskDataFetcher.load_corpus(NLPTask.UD_INDONESIAN)\n",
        "\n",
        "# 2. what tag do we want to predict?\n",
        "tag_type = 'upos'\n",
        "\n",
        "# 3. make the tag dictionary from the corpus\n",
        "tag_dictionary = corpus.make_tag_dictionary(tag_type=tag_type)\n",
        "print(tag_dictionary.idx2item)\n",
        "\n",
        "# 4. initialize embeddings\n",
        "embedding_types: List[TokenEmbeddings] = [\n",
        "    WordEmbeddings('id-crawl'),\n",
        "    WordEmbeddings('id'),\n",
        "    #WordEmbeddings('glove'),\n",
        "    #BertEmbeddings('bert-base-multilingual-cased')\n",
        "]\n",
        "\n",
        "embeddings: StackedEmbeddings = StackedEmbeddings(embeddings=embedding_types)\n",
        "\n",
        "# 5. initialize sequence tagger\n",
        "from flair.models import SequenceTagger\n",
        "tagger: SequenceTagger = SequenceTagger(hidden_size=256,\n",
        "                                        embeddings=embeddings,\n",
        "                                        tag_dictionary=tag_dictionary,\n",
        "                                        tag_type=tag_type,\n",
        "                                        use_crf=True)\n",
        "\n",
        "from flair.trainers import ModelTrainer\n",
        "\n",
        "trainer: ModelTrainer = ModelTrainer(tagger, corpus)\n",
        "\n",
        "# 7. start training\n",
        "trainer.train('resources/taggers/example-universal-pos',\n",
        "              learning_rate=0.1,\n",
        "              mini_batch_size=32,\n",
        "              max_epochs=10)"
      ],
      "execution_count": null,
      "outputs": [
        {
          "output_type": "stream",
          "text": [
            "/usr/local/lib/python3.7/dist-packages/ipykernel_launcher.py:2: DeprecationWarning: Call to deprecated function (or staticmethod) load_corpus. (Use 'flair.datasets' instead.) -- Deprecated since version 0.4.1.\n",
            "  \n"
          ],
          "name": "stderr"
        },
        {
          "output_type": "stream",
          "text": [
            "2021-06-18 04:28:33,868 https://raw.githubusercontent.com/UniversalDependencies/UD_Indonesian-GSD/master/id_gsd-ud-dev.conllu not found in cache, downloading to /tmp/tmp0qrgk1d5\n"
          ],
          "name": "stdout"
        },
        {
          "output_type": "stream",
          "text": [
            "971025B [00:00, 39072998.91B/s]          "
          ],
          "name": "stderr"
        },
        {
          "output_type": "stream",
          "text": [
            "2021-06-18 04:28:33,941 copying /tmp/tmp0qrgk1d5 to cache at /root/.flair/datasets/ud_indonesian/id_gsd-ud-dev.conllu\n",
            "2021-06-18 04:28:33,946 removing temp file /tmp/tmp0qrgk1d5\n"
          ],
          "name": "stdout"
        },
        {
          "output_type": "stream",
          "text": [
            "\n"
          ],
          "name": "stderr"
        },
        {
          "output_type": "stream",
          "text": [
            "2021-06-18 04:28:34,219 https://raw.githubusercontent.com/UniversalDependencies/UD_Indonesian-GSD/master/id_gsd-ud-test.conllu not found in cache, downloading to /tmp/tmpgyngfro_\n"
          ],
          "name": "stdout"
        },
        {
          "output_type": "stream",
          "text": [
            "906905B [00:00, 37429745.04B/s]          "
          ],
          "name": "stderr"
        },
        {
          "output_type": "stream",
          "text": [
            "2021-06-18 04:28:34,292 copying /tmp/tmpgyngfro_ to cache at /root/.flair/datasets/ud_indonesian/id_gsd-ud-test.conllu\n",
            "2021-06-18 04:28:34,296 removing temp file /tmp/tmpgyngfro_\n"
          ],
          "name": "stdout"
        },
        {
          "output_type": "stream",
          "text": [
            "\n"
          ],
          "name": "stderr"
        },
        {
          "output_type": "stream",
          "text": [
            "2021-06-18 04:28:35,085 https://raw.githubusercontent.com/UniversalDependencies/UD_Indonesian-GSD/master/id_gsd-ud-train.conllu not found in cache, downloading to /tmp/tmp5_zzqm_s\n"
          ],
          "name": "stdout"
        },
        {
          "output_type": "stream",
          "text": [
            "7527224B [00:00, 80316738.36B/s]          "
          ],
          "name": "stderr"
        },
        {
          "output_type": "stream",
          "text": [
            "2021-06-18 04:28:35,230 copying /tmp/tmp5_zzqm_s to cache at /root/.flair/datasets/ud_indonesian/id_gsd-ud-train.conllu\n",
            "2021-06-18 04:28:35,243 removing temp file /tmp/tmp5_zzqm_s\n"
          ],
          "name": "stdout"
        },
        {
          "output_type": "stream",
          "text": [
            "\n"
          ],
          "name": "stderr"
        },
        {
          "output_type": "stream",
          "text": [
            "2021-06-18 04:28:35,437 Reading data from /root/.flair/datasets/ud_indonesian\n",
            "2021-06-18 04:28:35,439 Train: /root/.flair/datasets/ud_indonesian/id_gsd-ud-train.conllu\n",
            "2021-06-18 04:28:35,441 Dev: /root/.flair/datasets/ud_indonesian/id_gsd-ud-dev.conllu\n",
            "2021-06-18 04:28:35,443 Test: /root/.flair/datasets/ud_indonesian/id_gsd-ud-test.conllu\n",
            "[b'<unk>', b'O', b'PROPN', b'AUX', b'DET', b'NOUN', b'PRON', b'VERB', b'ADP', b'PUNCT', b'ADV', b'CCONJ', b'SCONJ', b'NUM', b'ADJ', b'PART', b'SYM', b'X', b'<START>', b'<STOP>']\n",
            "2021-06-18 04:28:40,762 https://flair.informatik.hu-berlin.de/resources/embeddings/token/id-crawl-fasttext-300d-1M.vectors.npy not found in cache, downloading to /tmp/tmp8c7gonwb\n"
          ],
          "name": "stdout"
        },
        {
          "output_type": "stream",
          "text": [
            "100%|██████████| 1199998928/1199998928 [01:12<00:00, 16566481.06B/s]"
          ],
          "name": "stderr"
        },
        {
          "output_type": "stream",
          "text": [
            "2021-06-18 04:29:53,718 copying /tmp/tmp8c7gonwb to cache at /root/.flair/embeddings/id-crawl-fasttext-300d-1M.vectors.npy\n"
          ],
          "name": "stdout"
        },
        {
          "output_type": "stream",
          "text": [
            "\n"
          ],
          "name": "stderr"
        },
        {
          "output_type": "stream",
          "text": [
            "2021-06-18 04:29:58,082 removing temp file /tmp/tmp8c7gonwb\n",
            "2021-06-18 04:29:58,757 https://flair.informatik.hu-berlin.de/resources/embeddings/token/id-crawl-fasttext-300d-1M not found in cache, downloading to /tmp/tmpuxdafpft\n"
          ],
          "name": "stdout"
        },
        {
          "output_type": "stream",
          "text": [
            "100%|██████████| 39636845/39636845 [00:03<00:00, 11901688.76B/s]"
          ],
          "name": "stderr"
        },
        {
          "output_type": "stream",
          "text": [
            "2021-06-18 04:30:02,778 copying /tmp/tmpuxdafpft to cache at /root/.flair/embeddings/id-crawl-fasttext-300d-1M\n"
          ],
          "name": "stdout"
        },
        {
          "output_type": "stream",
          "text": [
            "\n"
          ],
          "name": "stderr"
        },
        {
          "output_type": "stream",
          "text": [
            "2021-06-18 04:30:02,834 removing temp file /tmp/tmpuxdafpft\n",
            "2021-06-18 04:30:08,797 https://flair.informatik.hu-berlin.de/resources/embeddings/token/id-wiki-fasttext-300d-1M.vectors.npy not found in cache, downloading to /tmp/tmpdcbguq24\n"
          ],
          "name": "stdout"
        },
        {
          "output_type": "stream",
          "text": [
            "100%|██████████| 360822128/360822128 [00:21<00:00, 17024767.36B/s]"
          ],
          "name": "stderr"
        },
        {
          "output_type": "stream",
          "text": [
            "2021-06-18 04:30:30,529 copying /tmp/tmpdcbguq24 to cache at /root/.flair/embeddings/id-wiki-fasttext-300d-1M.vectors.npy\n"
          ],
          "name": "stdout"
        },
        {
          "output_type": "stream",
          "text": [
            "\n"
          ],
          "name": "stderr"
        },
        {
          "output_type": "stream",
          "text": [
            "2021-06-18 04:30:31,425 removing temp file /tmp/tmpdcbguq24\n",
            "2021-06-18 04:30:31,986 https://flair.informatik.hu-berlin.de/resources/embeddings/token/id-wiki-fasttext-300d-1M not found in cache, downloading to /tmp/tmpcmbmi1ol\n"
          ],
          "name": "stdout"
        },
        {
          "output_type": "stream",
          "text": [
            "100%|██████████| 11638719/11638719 [00:01<00:00, 7172522.68B/s]"
          ],
          "name": "stderr"
        },
        {
          "output_type": "stream",
          "text": [
            "2021-06-18 04:30:34,173 copying /tmp/tmpcmbmi1ol to cache at /root/.flair/embeddings/id-wiki-fasttext-300d-1M\n"
          ],
          "name": "stdout"
        },
        {
          "output_type": "stream",
          "text": [
            "\n"
          ],
          "name": "stderr"
        },
        {
          "output_type": "stream",
          "text": [
            "2021-06-18 04:30:34,201 removing temp file /tmp/tmpcmbmi1ol\n",
            "2021-06-18 04:30:36,244 ----------------------------------------------------------------------------------------------------\n",
            "2021-06-18 04:30:36,247 Model: \"SequenceTagger(\n",
            "  (embeddings): StackedEmbeddings(\n",
            "    (list_embedding_0): WordEmbeddings('id-crawl')\n",
            "    (list_embedding_1): WordEmbeddings('id')\n",
            "  )\n",
            "  (word_dropout): WordDropout(p=0.05)\n",
            "  (locked_dropout): LockedDropout(p=0.5)\n",
            "  (embedding2nn): Linear(in_features=600, out_features=600, bias=True)\n",
            "  (rnn): LSTM(600, 256, batch_first=True, bidirectional=True)\n",
            "  (linear): Linear(in_features=512, out_features=20, bias=True)\n",
            "  (beta): 1.0\n",
            "  (weights): None\n",
            "  (weight_tensor) None\n",
            ")\"\n",
            "2021-06-18 04:30:36,249 ----------------------------------------------------------------------------------------------------\n",
            "2021-06-18 04:30:36,251 Corpus: \"Corpus: 4477 train + 559 dev + 557 test sentences\"\n",
            "2021-06-18 04:30:36,254 ----------------------------------------------------------------------------------------------------\n",
            "2021-06-18 04:30:36,255 Parameters:\n",
            "2021-06-18 04:30:36,257  - learning_rate: \"0.1\"\n",
            "2021-06-18 04:30:36,258  - mini_batch_size: \"32\"\n",
            "2021-06-18 04:30:36,260  - patience: \"3\"\n",
            "2021-06-18 04:30:36,261  - anneal_factor: \"0.5\"\n",
            "2021-06-18 04:30:36,262  - max_epochs: \"10\"\n",
            "2021-06-18 04:30:36,264  - shuffle: \"True\"\n",
            "2021-06-18 04:30:36,265  - train_with_dev: \"False\"\n",
            "2021-06-18 04:30:36,267  - batch_growth_annealing: \"False\"\n",
            "2021-06-18 04:30:36,268 ----------------------------------------------------------------------------------------------------\n",
            "2021-06-18 04:30:36,269 Model training base path: \"resources/taggers/example-universal-pos\"\n",
            "2021-06-18 04:30:36,271 ----------------------------------------------------------------------------------------------------\n",
            "2021-06-18 04:30:36,272 Device: cpu\n",
            "2021-06-18 04:30:36,274 ----------------------------------------------------------------------------------------------------\n",
            "2021-06-18 04:30:36,275 Embeddings storage mode: cpu\n",
            "2021-06-18 04:30:36,278 ----------------------------------------------------------------------------------------------------\n",
            "2021-06-18 04:30:43,933 epoch 1 - iter 14/140 - loss 54.18749619 - samples/sec: 58.54 - lr: 0.100000\n",
            "2021-06-18 04:30:51,627 epoch 1 - iter 28/140 - loss 47.34748813 - samples/sec: 58.25 - lr: 0.100000\n",
            "2021-06-18 04:30:58,314 epoch 1 - iter 42/140 - loss 42.75286030 - samples/sec: 67.02 - lr: 0.100000\n",
            "2021-06-18 04:31:05,959 epoch 1 - iter 56/140 - loss 39.47603556 - samples/sec: 58.62 - lr: 0.100000\n",
            "2021-06-18 04:31:15,004 epoch 1 - iter 70/140 - loss 36.95558711 - samples/sec: 49.54 - lr: 0.100000\n",
            "2021-06-18 04:31:24,080 epoch 1 - iter 84/140 - loss 34.84457790 - samples/sec: 49.37 - lr: 0.100000\n",
            "2021-06-18 04:31:34,496 epoch 1 - iter 98/140 - loss 33.14894777 - samples/sec: 43.02 - lr: 0.100000\n",
            "2021-06-18 04:31:43,482 epoch 1 - iter 112/140 - loss 31.51169424 - samples/sec: 49.87 - lr: 0.100000\n",
            "2021-06-18 04:31:52,292 epoch 1 - iter 126/140 - loss 30.14170647 - samples/sec: 50.87 - lr: 0.100000\n",
            "2021-06-18 04:31:59,366 epoch 1 - iter 140/140 - loss 28.75970039 - samples/sec: 63.35 - lr: 0.100000\n",
            "2021-06-18 04:31:59,368 ----------------------------------------------------------------------------------------------------\n",
            "2021-06-18 04:31:59,369 EPOCH 1 done: loss 28.7597 - lr 0.1000000\n",
            "2021-06-18 04:32:01,991 DEV : loss 13.045567512512207 - score 0.8058\n",
            "2021-06-18 04:32:02,047 BAD EPOCHS (no improvement): 0\n",
            "saving best model\n",
            "2021-06-18 04:32:26,018 ----------------------------------------------------------------------------------------------------\n",
            "2021-06-18 04:32:35,045 epoch 2 - iter 14/140 - loss 16.65677943 - samples/sec: 54.90 - lr: 0.100000\n",
            "2021-06-18 04:32:44,422 epoch 2 - iter 28/140 - loss 16.40795956 - samples/sec: 47.79 - lr: 0.100000\n",
            "2021-06-18 04:33:11,098 epoch 2 - iter 42/140 - loss 15.90982719 - samples/sec: 16.80 - lr: 0.100000\n",
            "2021-06-18 04:33:18,669 epoch 2 - iter 56/140 - loss 15.42516197 - samples/sec: 59.20 - lr: 0.100000\n",
            "2021-06-18 04:33:30,730 epoch 2 - iter 70/140 - loss 14.94324954 - samples/sec: 37.15 - lr: 0.100000\n",
            "2021-06-18 04:33:54,187 epoch 2 - iter 84/140 - loss 14.74222245 - samples/sec: 19.10 - lr: 0.100000\n",
            "2021-06-18 04:34:12,930 epoch 2 - iter 98/140 - loss 14.46384118 - samples/sec: 23.91 - lr: 0.100000\n",
            "2021-06-18 04:34:39,922 epoch 2 - iter 112/140 - loss 14.28529344 - samples/sec: 16.60 - lr: 0.100000\n",
            "2021-06-18 04:35:07,787 epoch 2 - iter 126/140 - loss 14.09212766 - samples/sec: 16.08 - lr: 0.100000\n",
            "2021-06-18 04:35:28,131 epoch 2 - iter 140/140 - loss 13.88453113 - samples/sec: 22.02 - lr: 0.100000\n",
            "2021-06-18 04:35:28,133 ----------------------------------------------------------------------------------------------------\n",
            "2021-06-18 04:35:28,136 EPOCH 2 done: loss 13.8845 - lr 0.1000000\n",
            "2021-06-18 04:35:30,619 DEV : loss 8.462606430053711 - score 0.8755\n",
            "2021-06-18 04:35:30,675 BAD EPOCHS (no improvement): 0\n",
            "saving best model\n",
            "2021-06-18 04:35:54,525 ----------------------------------------------------------------------------------------------------\n",
            "2021-06-18 04:36:43,045 epoch 3 - iter 14/140 - loss 12.94915458 - samples/sec: 10.03 - lr: 0.100000\n",
            "2021-06-18 04:37:15,779 epoch 3 - iter 28/140 - loss 12.28021220 - samples/sec: 13.69 - lr: 0.100000\n",
            "2021-06-18 04:38:00,407 epoch 3 - iter 42/140 - loss 11.93447828 - samples/sec: 10.04 - lr: 0.100000\n",
            "2021-06-18 04:38:37,598 epoch 3 - iter 56/140 - loss 11.76188576 - samples/sec: 12.05 - lr: 0.100000\n",
            "2021-06-18 04:39:05,158 epoch 3 - iter 70/140 - loss 11.46080437 - samples/sec: 16.26 - lr: 0.100000\n",
            "2021-06-18 04:39:52,504 epoch 3 - iter 84/140 - loss 11.57518657 - samples/sec: 9.46 - lr: 0.100000\n",
            "2021-06-18 04:40:26,976 epoch 3 - iter 98/140 - loss 11.43964064 - samples/sec: 13.00 - lr: 0.100000\n",
            "2021-06-18 04:40:58,682 epoch 3 - iter 112/140 - loss 11.34729105 - samples/sec: 14.13 - lr: 0.100000\n",
            "2021-06-18 04:41:50,584 epoch 3 - iter 126/140 - loss 11.42412328 - samples/sec: 8.63 - lr: 0.100000\n",
            "2021-06-18 04:42:20,293 epoch 3 - iter 140/140 - loss 11.30232826 - samples/sec: 15.08 - lr: 0.100000\n",
            "2021-06-18 04:42:20,295 ----------------------------------------------------------------------------------------------------\n",
            "2021-06-18 04:42:20,297 EPOCH 3 done: loss 11.3023 - lr 0.1000000\n",
            "2021-06-18 04:42:23,077 DEV : loss 7.124936580657959 - score 0.9001\n",
            "2021-06-18 04:42:23,129 BAD EPOCHS (no improvement): 0\n",
            "saving best model\n",
            "2021-06-18 04:42:45,952 ----------------------------------------------------------------------------------------------------\n",
            "2021-06-18 04:43:22,746 epoch 4 - iter 14/140 - loss 9.32173923 - samples/sec: 12.25 - lr: 0.100000\n",
            "2021-06-18 04:44:30,578 epoch 4 - iter 28/140 - loss 10.52351841 - samples/sec: 6.60 - lr: 0.100000\n",
            "2021-06-18 04:45:14,937 epoch 4 - iter 42/140 - loss 10.74021445 - samples/sec: 10.10 - lr: 0.100000\n",
            "2021-06-18 04:45:48,955 epoch 4 - iter 56/140 - loss 10.70842052 - samples/sec: 13.17 - lr: 0.100000\n",
            "2021-06-18 04:46:20,942 epoch 4 - iter 70/140 - loss 10.54655247 - samples/sec: 14.01 - lr: 0.100000\n",
            "2021-06-18 04:47:04,467 epoch 4 - iter 84/140 - loss 10.45997180 - samples/sec: 10.29 - lr: 0.100000\n",
            "2021-06-18 04:48:04,061 epoch 4 - iter 98/140 - loss 10.55865868 - samples/sec: 7.52 - lr: 0.100000\n",
            "2021-06-18 04:48:48,872 epoch 4 - iter 112/140 - loss 10.48298076 - samples/sec: 10.00 - lr: 0.100000\n",
            "2021-06-18 04:49:45,414 epoch 4 - iter 126/140 - loss 10.47197758 - samples/sec: 7.92 - lr: 0.100000\n",
            "2021-06-18 04:50:16,124 epoch 4 - iter 140/140 - loss 10.42747680 - samples/sec: 14.59 - lr: 0.100000\n",
            "2021-06-18 04:50:16,126 ----------------------------------------------------------------------------------------------------\n",
            "2021-06-18 04:50:16,133 EPOCH 4 done: loss 10.4275 - lr 0.1000000\n",
            "2021-06-18 04:50:18,827 DEV : loss 6.926558971405029 - score 0.8999\n",
            "2021-06-18 04:50:18,878 BAD EPOCHS (no improvement): 1\n",
            "2021-06-18 04:50:18,881 ----------------------------------------------------------------------------------------------------\n",
            "2021-06-18 04:51:00,131 epoch 5 - iter 14/140 - loss 9.92323882 - samples/sec: 10.86 - lr: 0.100000\n",
            "2021-06-18 04:51:42,258 epoch 5 - iter 28/140 - loss 9.87672291 - samples/sec: 10.64 - lr: 0.100000\n",
            "2021-06-18 04:52:44,522 epoch 5 - iter 42/140 - loss 10.24989405 - samples/sec: 7.20 - lr: 0.100000\n",
            "2021-06-18 04:53:31,123 epoch 5 - iter 56/140 - loss 9.94735977 - samples/sec: 9.61 - lr: 0.100000\n",
            "2021-06-18 04:54:38,721 epoch 5 - iter 70/140 - loss 10.12223836 - samples/sec: 6.63 - lr: 0.100000\n",
            "2021-06-18 04:55:22,608 epoch 5 - iter 84/140 - loss 10.05740854 - samples/sec: 10.21 - lr: 0.100000\n",
            "2021-06-18 04:56:23,113 epoch 5 - iter 98/140 - loss 10.01680368 - samples/sec: 7.40 - lr: 0.100000\n",
            "2021-06-18 04:57:23,226 epoch 5 - iter 112/140 - loss 10.00999605 - samples/sec: 7.45 - lr: 0.100000\n",
            "2021-06-18 04:58:01,669 epoch 5 - iter 126/140 - loss 9.93993135 - samples/sec: 11.65 - lr: 0.100000\n",
            "2021-06-18 04:58:49,093 epoch 5 - iter 140/140 - loss 9.87425316 - samples/sec: 9.45 - lr: 0.100000\n",
            "2021-06-18 04:58:49,095 ----------------------------------------------------------------------------------------------------\n",
            "2021-06-18 04:58:49,096 EPOCH 5 done: loss 9.8743 - lr 0.1000000\n",
            "2021-06-18 04:58:51,882 DEV : loss 6.425859451293945 - score 0.9068\n",
            "2021-06-18 04:58:51,934 BAD EPOCHS (no improvement): 0\n",
            "saving best model\n",
            "2021-06-18 04:59:15,027 ----------------------------------------------------------------------------------------------------\n",
            "2021-06-18 05:00:15,974 epoch 6 - iter 14/140 - loss 9.46938191 - samples/sec: 7.62 - lr: 0.100000\n",
            "2021-06-18 05:01:02,253 epoch 6 - iter 28/140 - loss 8.94937522 - samples/sec: 9.68 - lr: 0.100000\n",
            "2021-06-18 05:02:06,891 epoch 6 - iter 42/140 - loss 9.26705542 - samples/sec: 6.93 - lr: 0.100000\n",
            "2021-06-18 05:03:14,484 epoch 6 - iter 56/140 - loss 9.28804576 - samples/sec: 6.63 - lr: 0.100000\n",
            "2021-06-18 05:04:11,683 epoch 6 - iter 70/140 - loss 9.42250266 - samples/sec: 7.83 - lr: 0.100000\n",
            "2021-06-18 05:04:58,448 epoch 6 - iter 84/140 - loss 9.39975014 - samples/sec: 9.58 - lr: 0.100000\n",
            "2021-06-18 05:05:49,918 epoch 6 - iter 98/140 - loss 9.37820038 - samples/sec: 8.70 - lr: 0.100000\n",
            "2021-06-18 05:06:55,086 epoch 6 - iter 112/140 - loss 9.39637771 - samples/sec: 6.87 - lr: 0.100000\n",
            "2021-06-18 05:08:00,404 epoch 6 - iter 126/140 - loss 9.40052921 - samples/sec: 6.86 - lr: 0.100000\n",
            "2021-06-18 05:08:52,777 epoch 6 - iter 140/140 - loss 9.37543179 - samples/sec: 8.55 - lr: 0.100000\n",
            "2021-06-18 05:08:52,778 ----------------------------------------------------------------------------------------------------\n",
            "2021-06-18 05:08:52,780 EPOCH 6 done: loss 9.3754 - lr 0.1000000\n",
            "2021-06-18 05:08:55,643 DEV : loss 6.310302734375 - score 0.9096\n",
            "2021-06-18 05:08:55,697 BAD EPOCHS (no improvement): 0\n",
            "saving best model\n",
            "2021-06-18 05:09:14,887 ----------------------------------------------------------------------------------------------------\n",
            "2021-06-18 05:10:25,218 epoch 7 - iter 14/140 - loss 9.49374304 - samples/sec: 6.37 - lr: 0.100000\n",
            "2021-06-18 05:11:15,177 epoch 7 - iter 28/140 - loss 9.18763929 - samples/sec: 8.97 - lr: 0.100000\n",
            "2021-06-18 05:12:06,146 epoch 7 - iter 42/140 - loss 9.26561588 - samples/sec: 8.79 - lr: 0.100000\n",
            "2021-06-18 05:12:48,654 epoch 7 - iter 56/140 - loss 8.98713507 - samples/sec: 10.54 - lr: 0.100000\n",
            "2021-06-18 05:13:39,428 epoch 7 - iter 70/140 - loss 9.11218219 - samples/sec: 8.82 - lr: 0.100000\n",
            "2021-06-18 05:14:04,175 epoch 7 - iter 84/140 - loss 9.24128707 - samples/sec: 18.10 - lr: 0.100000\n",
            "2021-06-18 05:14:13,138 epoch 7 - iter 98/140 - loss 9.25347119 - samples/sec: 50.00 - lr: 0.100000\n",
            "2021-06-18 05:14:22,092 epoch 7 - iter 112/140 - loss 9.24365338 - samples/sec: 50.05 - lr: 0.100000\n",
            "2021-06-18 05:14:29,985 epoch 7 - iter 126/140 - loss 9.18913183 - samples/sec: 56.78 - lr: 0.100000\n",
            "2021-06-18 05:14:36,481 epoch 7 - iter 140/140 - loss 9.14566773 - samples/sec: 69.01 - lr: 0.100000\n",
            "2021-06-18 05:14:36,483 ----------------------------------------------------------------------------------------------------\n",
            "2021-06-18 05:14:36,485 EPOCH 7 done: loss 9.1457 - lr 0.1000000\n",
            "2021-06-18 05:14:38,997 DEV : loss 6.045574188232422 - score 0.9138\n",
            "2021-06-18 05:14:39,053 BAD EPOCHS (no improvement): 0\n",
            "saving best model\n",
            "2021-06-18 05:14:58,084 ----------------------------------------------------------------------------------------------------\n",
            "2021-06-18 05:15:07,161 epoch 8 - iter 14/140 - loss 9.08502480 - samples/sec: 52.58 - lr: 0.100000\n",
            "2021-06-18 05:15:15,298 epoch 8 - iter 28/140 - loss 9.27849994 - samples/sec: 55.09 - lr: 0.100000\n",
            "2021-06-18 05:15:22,648 epoch 8 - iter 42/140 - loss 9.03086871 - samples/sec: 60.98 - lr: 0.100000\n",
            "2021-06-18 05:15:30,755 epoch 8 - iter 56/140 - loss 9.04782254 - samples/sec: 55.28 - lr: 0.100000\n",
            "2021-06-18 05:15:40,231 epoch 8 - iter 70/140 - loss 9.00502206 - samples/sec: 47.31 - lr: 0.100000\n",
            "2021-06-18 05:15:49,227 epoch 8 - iter 84/140 - loss 8.94250818 - samples/sec: 49.81 - lr: 0.100000\n",
            "2021-06-18 05:15:56,363 epoch 8 - iter 98/140 - loss 8.86482849 - samples/sec: 62.83 - lr: 0.100000\n",
            "2021-06-18 05:16:07,660 epoch 8 - iter 112/140 - loss 8.92394429 - samples/sec: 39.67 - lr: 0.100000\n",
            "2021-06-18 05:16:15,734 epoch 8 - iter 126/140 - loss 8.85814626 - samples/sec: 55.50 - lr: 0.100000\n",
            "2021-06-18 05:16:23,746 epoch 8 - iter 140/140 - loss 8.82352921 - samples/sec: 55.93 - lr: 0.100000\n",
            "2021-06-18 05:16:23,748 ----------------------------------------------------------------------------------------------------\n",
            "2021-06-18 05:16:23,749 EPOCH 8 done: loss 8.8235 - lr 0.1000000\n",
            "2021-06-18 05:16:26,204 DEV : loss 5.946325302124023 - score 0.9131\n",
            "2021-06-18 05:16:26,261 BAD EPOCHS (no improvement): 1\n",
            "2021-06-18 05:16:26,263 ----------------------------------------------------------------------------------------------------\n",
            "2021-06-18 05:16:38,263 epoch 9 - iter 14/140 - loss 9.47447545 - samples/sec: 37.35 - lr: 0.100000\n",
            "2021-06-18 05:16:46,271 epoch 9 - iter 28/140 - loss 8.88163504 - samples/sec: 55.97 - lr: 0.100000\n",
            "2021-06-18 05:16:54,474 epoch 9 - iter 42/140 - loss 8.69345445 - samples/sec: 54.63 - lr: 0.100000\n",
            "2021-06-18 05:17:04,544 epoch 9 - iter 56/140 - loss 8.90008681 - samples/sec: 44.51 - lr: 0.100000\n",
            "2021-06-18 05:17:12,967 epoch 9 - iter 70/140 - loss 8.86877425 - samples/sec: 53.20 - lr: 0.100000\n",
            "2021-06-18 05:17:21,238 epoch 9 - iter 84/140 - loss 8.81222353 - samples/sec: 54.19 - lr: 0.100000\n",
            "2021-06-18 05:17:30,527 epoch 9 - iter 98/140 - loss 8.74372033 - samples/sec: 48.24 - lr: 0.100000\n",
            "2021-06-18 05:17:38,167 epoch 9 - iter 112/140 - loss 8.64228894 - samples/sec: 58.66 - lr: 0.100000\n",
            "2021-06-18 05:17:46,111 epoch 9 - iter 126/140 - loss 8.63976753 - samples/sec: 56.41 - lr: 0.100000\n",
            "2021-06-18 05:17:55,132 epoch 9 - iter 140/140 - loss 8.67383628 - samples/sec: 49.67 - lr: 0.100000\n",
            "2021-06-18 05:17:55,135 ----------------------------------------------------------------------------------------------------\n",
            "2021-06-18 05:17:55,137 EPOCH 9 done: loss 8.6738 - lr 0.1000000\n",
            "2021-06-18 05:17:57,504 DEV : loss 5.819674968719482 - score 0.9159\n",
            "2021-06-18 05:17:57,555 BAD EPOCHS (no improvement): 0\n",
            "saving best model\n",
            "2021-06-18 05:18:16,241 ----------------------------------------------------------------------------------------------------\n",
            "2021-06-18 05:18:24,716 epoch 10 - iter 14/140 - loss 8.58549224 - samples/sec: 53.48 - lr: 0.100000\n",
            "2021-06-18 05:18:35,362 epoch 10 - iter 28/140 - loss 8.72101302 - samples/sec: 42.09 - lr: 0.100000\n",
            "2021-06-18 05:18:44,169 epoch 10 - iter 42/140 - loss 8.83058778 - samples/sec: 50.88 - lr: 0.100000\n",
            "2021-06-18 05:18:52,728 epoch 10 - iter 56/140 - loss 8.78384351 - samples/sec: 52.38 - lr: 0.100000\n",
            "2021-06-18 05:19:00,762 epoch 10 - iter 70/140 - loss 8.81124080 - samples/sec: 55.79 - lr: 0.100000\n",
            "2021-06-18 05:19:08,284 epoch 10 - iter 84/140 - loss 8.67573372 - samples/sec: 59.58 - lr: 0.100000\n",
            "2021-06-18 05:19:15,405 epoch 10 - iter 98/140 - loss 8.56452290 - samples/sec: 62.96 - lr: 0.100000\n",
            "2021-06-18 05:19:23,391 epoch 10 - iter 112/140 - loss 8.55833828 - samples/sec: 56.11 - lr: 0.100000\n",
            "2021-06-18 05:19:31,057 epoch 10 - iter 126/140 - loss 8.49990861 - samples/sec: 58.46 - lr: 0.100000\n",
            "2021-06-18 05:19:40,085 epoch 10 - iter 140/140 - loss 8.46117798 - samples/sec: 49.63 - lr: 0.100000\n",
            "2021-06-18 05:19:40,087 ----------------------------------------------------------------------------------------------------\n",
            "2021-06-18 05:19:40,093 EPOCH 10 done: loss 8.4612 - lr 0.1000000\n",
            "2021-06-18 05:19:42,468 DEV : loss 6.105001449584961 - score 0.908\n",
            "2021-06-18 05:19:42,522 BAD EPOCHS (no improvement): 1\n",
            "2021-06-18 05:20:00,261 ----------------------------------------------------------------------------------------------------\n",
            "2021-06-18 05:20:02,398 Testing using best model ...\n",
            "2021-06-18 05:20:02,402 loading file resources/taggers/example-universal-pos/best-model.pt\n",
            "2021-06-18 05:20:47,175 \t0.918\n",
            "2021-06-18 05:20:47,180 \n",
            "Results:\n",
            "- F-score (micro): 0.918\n",
            "- F-score (macro): 0.8517\n",
            "- Accuracy (incl. no class): 0.918\n",
            "\n",
            "By class:\n",
            "              precision    recall  f1-score   support\n",
            "\n",
            "        NOUN     0.8444    0.9164    0.8790      2488\n",
            "       PROPN     0.9186    0.9003    0.9094      2207\n",
            "         ADP     0.9598    0.9532    0.9565      1153\n",
            "         NUM     0.9211    0.9459    0.9333       407\n",
            "        VERB     0.9368    0.9368    0.9368      1250\n",
            "       CCONJ     0.9912    0.8987    0.9427       375\n",
            "         ADJ     0.8581    0.6161    0.7172       422\n",
            "        PRON     0.9811    0.9378    0.9589       498\n",
            "       PUNCT     0.9982    0.9994    0.9988      1645\n",
            "         ADV     0.8450    0.8398    0.8424       487\n",
            "         AUX     0.9897    1.0000    0.9948        96\n",
            "         DET     0.9399    0.9247    0.9322       372\n",
            "       SCONJ     0.7531    0.8592    0.8026       142\n",
            "        PART     0.9333    0.8571    0.8936        49\n",
            "         SYM     1.0000    0.8667    0.9286        30\n",
            "           X     1.0000    0.0000    0.0000         1\n",
            "\n",
            "    accuracy                         0.9180     11622\n",
            "   macro avg     0.9294    0.8408    0.8517     11622\n",
            "weighted avg     0.9194    0.9180    0.9174     11622\n",
            "\n",
            "2021-06-18 05:20:47,184 ----------------------------------------------------------------------------------------------------\n"
          ],
          "name": "stdout"
        },
        {
          "output_type": "execute_result",
          "data": {
            "text/plain": [
              "{'dev_loss_history': [13.045567512512207,\n",
              "  8.462606430053711,\n",
              "  7.124936580657959,\n",
              "  6.926558971405029,\n",
              "  6.425859451293945,\n",
              "  6.310302734375,\n",
              "  6.045574188232422,\n",
              "  5.946325302124023,\n",
              "  5.819674968719482,\n",
              "  6.105001449584961],\n",
              " 'dev_score_history': [0.8058,\n",
              "  0.8755,\n",
              "  0.9001,\n",
              "  0.8999,\n",
              "  0.9068,\n",
              "  0.9096,\n",
              "  0.9138,\n",
              "  0.9131,\n",
              "  0.9159,\n",
              "  0.908],\n",
              " 'test_score': 0.918,\n",
              " 'train_loss_history': [28.759700386864797,\n",
              "  13.884531130109515,\n",
              "  11.302328263010297,\n",
              "  10.427476797785078,\n",
              "  9.874253160612923,\n",
              "  9.375431793076652,\n",
              "  9.145667730058943,\n",
              "  8.823529206003462,\n",
              "  8.673836275509425,\n",
              "  8.461177975790841]}"
            ]
          },
          "metadata": {
            "tags": []
          },
          "execution_count": 3
        }
      ]
    },
    {
      "cell_type": "code",
      "metadata": {
        "id": "LqvmmuVf7cPs",
        "colab": {
          "base_uri": "https://localhost:8080/"
        },
        "outputId": "6114e0d0-9b3d-47c5-b1ba-eb39b9cabfd6"
      },
      "source": [
        "from flair.data import Sentence\n",
        "\n",
        "sentence = Sentence('saya dan dia kemarin pergi ke pasar bersama untuk membeli jeruk')\n",
        "tag_pos = SequenceTagger.load('resources/taggers/example-universal-pos/best-model.pt')\n",
        "tag_pos.predict(sentence)\n",
        "print(sentence.to_tagged_string())"
      ],
      "execution_count": null,
      "outputs": [
        {
          "output_type": "stream",
          "text": [
            "2021-06-18 05:20:47,281 loading file resources/taggers/example-universal-pos/best-model.pt\n",
            "saya <PRON> dan <CCONJ> dia <PRON> kemarin <ADV> pergi <VERB> ke <ADP> pasar <NOUN> bersama <ADP> untuk <ADP> membeli <VERB> jeruk <NOUN>\n"
          ],
          "name": "stdout"
        }
      ]
    },
    {
      "cell_type": "code",
      "metadata": {
        "id": "bGA-_6yRXhBt"
      },
      "source": [
        "txt_berita_1 = \"\"\"\n",
        "Bulan Juni 2021, Indonesia mengalami lonjakan kasus aktif Covid-19. Ada 3 hal menurut Kemenkes yang menjadi penyebabnya. Pertama, interaksi sosial yang cukup tinggi. Kedua, pelanggaran protokol kesehatan. Ketiga, hadirnya varian virus baru yakni Varian Delta yang penyebarannya sangat cepat. Ketua Tim Peneliti WGS SARS-CoV-2 dari UGM, dr Gunadi mengimbau masyarakat untuk perketat kembali protokol kesehatan. \"Disiplin memakai masker, menjaga jarak, serta menjauhi kerumunan. Serta rutin mencuci tangan,\" tuturnya. (Sumber: https://www.cnbcindonesia.com/news/20210617070501-4-253749/akhirnya-terungkap-ini-3-sebab-covid-19-ri-meledak-lagi/2)\n",
        "\"\"\""
      ],
      "execution_count": null,
      "outputs": []
    },
    {
      "cell_type": "code",
      "metadata": {
        "colab": {
          "base_uri": "https://localhost:8080/"
        },
        "id": "TpZyUq_tVD3K",
        "outputId": "999ba2c1-ef05-4331-a5ef-2cf121795858"
      },
      "source": [
        "berita_1 = Sentence(txt_berita_1)\n",
        "tag_pos.predict(berita_1)\n",
        "print(berita_1.to_tagged_string())"
      ],
      "execution_count": null,
      "outputs": [
        {
          "output_type": "stream",
          "text": [
            "Bulan <PROPN> Juni <PROPN> 2021 <NUM> , <PUNCT> Indonesia <PROPN> mengalami <VERB> lonjakan <NOUN> kasus <NOUN> aktif <ADJ> Covid-19 <NOUN> . <PUNCT> Ada <VERB> 3 <NUM> hal <NOUN> menurut <VERB> Kemenkes <NOUN> yang <PRON> menjadi <VERB> penyebabnya <NOUN> . <PUNCT> Pertama <NUM> , <PUNCT> interaksi <NOUN> sosial <NOUN> yang <PRON> cukup <ADV> tinggi <ADJ> . <PUNCT> Kedua <NUM> , <PUNCT> pelanggaran <NOUN> protokol <NOUN> kesehatan <NOUN> . <PUNCT> Ketiga <NUM> , <PUNCT> hadirnya <NOUN> varian <NOUN> virus <NOUN> baru <ADJ> yakni <ADP> Varian <NOUN> Delta <PROPN> yang <PRON> penyebarannya <NOUN> sangat <ADV> cepat <ADJ> . <PUNCT> Ketua <PROPN> Tim <PROPN> Peneliti <PROPN> WGS <PROPN> SARS-CoV-2 <PROPN> dari <ADP> UGM <PROPN> , <PUNCT> dr <PROPN> Gunadi <PROPN> mengimbau <VERB> masyarakat <NOUN> untuk <ADP> perketat <NOUN> kembali <VERB> protokol <NOUN> kesehatan <NOUN> . <PUNCT> \" <PUNCT> Disiplin <NOUN> memakai <VERB> masker <NOUN> , <PUNCT> menjaga <VERB> jarak <NOUN> , <PUNCT> serta <CCONJ> menjauhi <VERB> kerumunan <NOUN> . <PUNCT> Serta <CCONJ> rutin <ADV> mencuci <VERB> tangan <NOUN> ,\" <NOUN> tuturnya <NOUN> . <PUNCT> ( <PUNCT> Sumber <PROPN> : <PUNCT> https <PROPN> :// <PROPN> www.cnbcindonesia.com <PROPN> / <SYM> news <PROPN> / <SYM> 20210617070501-4-253749 <PROPN> / <SYM> akhirnya-terungkap-ini-3-sebab-covid-19-ri-meledak-lagi <NUM> / <SYM> 2 <NUM> ) <PUNCT>\n"
          ],
          "name": "stdout"
        }
      ]
    }
  ]
}