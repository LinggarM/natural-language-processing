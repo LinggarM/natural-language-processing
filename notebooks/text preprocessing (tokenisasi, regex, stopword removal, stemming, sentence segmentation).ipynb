{
  "nbformat": 4,
  "nbformat_minor": 0,
  "metadata": {
    "colab": {
      "name": "pba_text_preprocessing (tokenisasi, regex, stopword removal, stemming, sentence segmentation).ipynb",
      "provenance": []
    },
    "kernelspec": {
      "name": "python3",
      "display_name": "Python 3"
    },
    "language_info": {
      "name": "python"
    }
  },
  "cells": [
    {
      "cell_type": "markdown",
      "metadata": {
        "id": "BhMhJv1HXdAD"
      },
      "source": [
        "## **Basic Text Preprocessing**\n",
        "Penjelasan pra-pemrosesan text menggunakan library NLTK (Natural Language Toolkit)"
      ]
    },
    {
      "cell_type": "markdown",
      "metadata": {
        "id": "9wzqQeocXNpG"
      },
      "source": [
        "### **Tokenisasi**"
      ]
    },
    {
      "cell_type": "code",
      "metadata": {
        "colab": {
          "base_uri": "https://localhost:8080/"
        },
        "id": "88AfS6WGW0jB",
        "outputId": "33f0ee3e-aee6-415c-9005-7cb27c0f58f8"
      },
      "source": [
        "import nltk\n",
        "nltk.download('punkt')\n",
        "\n",
        "from nltk import word_tokenize\n",
        "\n",
        "kalimat = \"Jogging adalah aktivitas lari santai yang bermanfaat bagi kesehatan tubuh jika rutin dijalani. Meski terlihat sederhana, olahraga jogging perlu dilakukan dengan benar untuk mengurangi risiko cedera. Oleh karena itu, pahami dulu persiapan dan teknik jogging yang benar sebelum Anda melakukannya.\"\n",
        "\n",
        "tokens = nltk.tokenize.word_tokenize(kalimat)\n",
        "print(tokens)"
      ],
      "execution_count": 1,
      "outputs": [
        {
          "output_type": "stream",
          "text": [
            "[nltk_data] Downloading package punkt to /root/nltk_data...\n",
            "[nltk_data]   Unzipping tokenizers/punkt.zip.\n",
            "['Jogging', 'adalah', 'aktivitas', 'lari', 'santai', 'yang', 'bermanfaat', 'bagi', 'kesehatan', 'tubuh', 'jika', 'rutin', 'dijalani', '.', 'Meski', 'terlihat', 'sederhana', ',', 'olahraga', 'jogging', 'perlu', 'dilakukan', 'dengan', 'benar', 'untuk', 'mengurangi', 'risiko', 'cedera', '.', 'Oleh', 'karena', 'itu', ',', 'pahami', 'dulu', 'persiapan', 'dan', 'teknik', 'jogging', 'yang', 'benar', 'sebelum', 'Anda', 'melakukannya', '.']\n"
          ],
          "name": "stdout"
        }
      ]
    },
    {
      "cell_type": "markdown",
      "metadata": {
        "id": "nft7VnwpXlKW"
      },
      "source": [
        "### **Frekuensi Kemunculan Kata**"
      ]
    },
    {
      "cell_type": "code",
      "metadata": {
        "colab": {
          "base_uri": "https://localhost:8080/"
        },
        "id": "zQdZRAlYXpt9",
        "outputId": "a7781f4a-eeb2-4540-9448-5e623d1bbcf3"
      },
      "source": [
        "from nltk import FreqDist\n",
        "\n",
        "kemunculan = nltk.FreqDist(tokens)\n",
        "print(kemunculan.most_common())"
      ],
      "execution_count": 2,
      "outputs": [
        {
          "output_type": "stream",
          "text": [
            "[('.', 3), ('yang', 2), (',', 2), ('jogging', 2), ('benar', 2), ('Jogging', 1), ('adalah', 1), ('aktivitas', 1), ('lari', 1), ('santai', 1), ('bermanfaat', 1), ('bagi', 1), ('kesehatan', 1), ('tubuh', 1), ('jika', 1), ('rutin', 1), ('dijalani', 1), ('Meski', 1), ('terlihat', 1), ('sederhana', 1), ('olahraga', 1), ('perlu', 1), ('dilakukan', 1), ('dengan', 1), ('untuk', 1), ('mengurangi', 1), ('risiko', 1), ('cedera', 1), ('Oleh', 1), ('karena', 1), ('itu', 1), ('pahami', 1), ('dulu', 1), ('persiapan', 1), ('dan', 1), ('teknik', 1), ('sebelum', 1), ('Anda', 1), ('melakukannya', 1)]\n"
          ],
          "name": "stdout"
        }
      ]
    },
    {
      "cell_type": "markdown",
      "metadata": {
        "id": "FL48rUU-X1Cx"
      },
      "source": [
        "### **Tokenisasi dengan Menghilangkan Tanda Baca dan Karakter Non Alfabet (Menggunakan Regex)**"
      ]
    },
    {
      "cell_type": "code",
      "metadata": {
        "colab": {
          "base_uri": "https://localhost:8080/"
        },
        "id": "VqVyBRCnX775",
        "outputId": "3b51699d-528a-4bd7-d8c0-4b020b2b7cb9"
      },
      "source": [
        "import re\n",
        "\n",
        "kalimat = kalimat.lower() #mengubah menjadi lower case\n",
        "kalimat_nontb = re.sub(r'[^\\w\\s]','',kalimat)\n",
        "\n",
        "tokens_nontb = nltk.tokenize.word_tokenize(kalimat_nontb)\n",
        "\n",
        "kemunculan_nontb = nltk.FreqDist(tokens_nontb)\n",
        "print(kemunculan_nontb.most_common())"
      ],
      "execution_count": 5,
      "outputs": [
        {
          "output_type": "stream",
          "text": [
            "[('jogging', 3), ('yang', 2), ('benar', 2), ('adalah', 1), ('aktivitas', 1), ('lari', 1), ('santai', 1), ('bermanfaat', 1), ('bagi', 1), ('kesehatan', 1), ('tubuh', 1), ('jika', 1), ('rutin', 1), ('dijalani', 1), ('meski', 1), ('terlihat', 1), ('sederhana', 1), ('olahraga', 1), ('perlu', 1), ('dilakukan', 1), ('dengan', 1), ('untuk', 1), ('mengurangi', 1), ('risiko', 1), ('cedera', 1), ('oleh', 1), ('karena', 1), ('itu', 1), ('pahami', 1), ('dulu', 1), ('persiapan', 1), ('dan', 1), ('teknik', 1), ('sebelum', 1), ('anda', 1), ('melakukannya', 1)]\n"
          ],
          "name": "stdout"
        }
      ]
    },
    {
      "cell_type": "markdown",
      "metadata": {
        "id": "F3sAmHYQYnM6"
      },
      "source": [
        "### **Visualisasi Kemunculan Kata**"
      ]
    },
    {
      "cell_type": "code",
      "metadata": {
        "colab": {
          "base_uri": "https://localhost:8080/",
          "height": 330
        },
        "id": "tsXF3_JuYrE5",
        "outputId": "7dfa423e-6152-4dab-a71e-31a34ac4ffb8"
      },
      "source": [
        "import matplotlib.pyplot as plt\n",
        "\n",
        "kemunculan_nontb.plot(30, cumulative=False)\n",
        "\n",
        "plt.figure\n",
        "plt.show()"
      ],
      "execution_count": 6,
      "outputs": [
        {
          "output_type": "display_data",
          "data": {
            "image/png": "[encoded data removed]",
            "text/plain": [
              "<Figure size 432x288 with 1 Axes>"
            ]
          },
          "metadata": {
            "tags": [],
            "needs_background": "light"
          }
        }
      ]
    },
    {
      "cell_type": "markdown",
      "metadata": {
        "id": "4cRouu55Y6kp"
      },
      "source": [
        "## **Stopword Removal**"
      ]
    },
    {
      "cell_type": "markdown",
      "metadata": {
        "id": "nQu5AYRzY9HI"
      },
      "source": [
        "### **Menggunakan NLTK**"
      ]
    },
    {
      "cell_type": "code",
      "metadata": {
        "colab": {
          "base_uri": "https://localhost:8080/"
        },
        "id": "mENNkmHeY_h5",
        "outputId": "1f9ea3ad-7ccd-4a4b-a4c2-2715f304147e"
      },
      "source": [
        "nltk.download('stopwords')\n",
        "\n",
        "from nltk.corpus import stopwords\n",
        "\n",
        "listStopwords = set(stopwords.words('indonesian'))\n",
        "\n",
        "removed_nltk = []\n",
        "for t in tokens_nontb:\n",
        "  if t not in listStopwords:\n",
        "    removed_nltk.append(t)\n",
        "\n",
        "print (removed_nltk)"
      ],
      "execution_count": 7,
      "outputs": [
        {
          "output_type": "stream",
          "text": [
            "[nltk_data] Downloading package stopwords to /root/nltk_data...\n",
            "[nltk_data]   Unzipping corpora/stopwords.zip.\n",
            "['jogging', 'aktivitas', 'lari', 'santai', 'bermanfaat', 'kesehatan', 'tubuh', 'rutin', 'dijalani', 'sederhana', 'olahraga', 'jogging', 'mengurangi', 'risiko', 'cedera', 'pahami', 'persiapan', 'teknik', 'jogging', 'melakukannya']\n"
          ],
          "name": "stdout"
        }
      ]
    },
    {
      "cell_type": "code",
      "metadata": {
        "colab": {
          "base_uri": "https://localhost:8080/",
          "height": 342
        },
        "id": "vhz290RNZYZo",
        "outputId": "53ced463-d094-405a-9a66-c1bccdb8d580"
      },
      "source": [
        "kemunculan_nonstopwords = nltk.FreqDist(removed_nltk)\n",
        "kemunculan_nonstopwords.plot(30, cumulative=False)\n",
        "\n",
        "plt.figure\n",
        "plt.show()"
      ],
      "execution_count": 8,
      "outputs": [
        {
          "output_type": "display_data",
          "data": {
            "image/png": "[encoded data removed]",
            "text/plain": [
              "<Figure size 432x288 with 1 Axes>"
            ]
          },
          "metadata": {
            "tags": [],
            "needs_background": "light"
          }
        }
      ]
    },
    {
      "cell_type": "markdown",
      "metadata": {
        "id": "WE2R7q5hZzOB"
      },
      "source": [
        "### **Menggunakan Library Sastrawi**"
      ]
    },
    {
      "cell_type": "code",
      "metadata": {
        "colab": {
          "base_uri": "https://localhost:8080/"
        },
        "id": "Rnb1sZ2fZ10w",
        "outputId": "e75c2b6d-db45-4040-9255-bfcfafc9abf8"
      },
      "source": [
        "!pip install Sastrawi"
      ],
      "execution_count": 9,
      "outputs": [
        {
          "output_type": "stream",
          "text": [
            "Collecting Sastrawi\n",
            "\u001b[?25l  Downloading https://files.pythonhosted.org/packages/6f/4b/bab676953da3103003730b8fcdfadbdd20f333d4add10af949dd5c51e6ed/Sastrawi-1.0.1-py2.py3-none-any.whl (209kB)\n",
            "\r\u001b[K     |█▋                              | 10kB 13.8MB/s eta 0:00:01\r\u001b[K     |███▏                            | 20kB 14.2MB/s eta 0:00:01\r\u001b[K     |████▊                           | 30kB 10.0MB/s eta 0:00:01\r\u001b[K     |██████▎                         | 40kB 8.2MB/s eta 0:00:01\r\u001b[K     |███████▉                        | 51kB 5.4MB/s eta 0:00:01\r\u001b[K     |█████████▍                      | 61kB 6.1MB/s eta 0:00:01\r\u001b[K     |███████████                     | 71kB 6.1MB/s eta 0:00:01\r\u001b[K     |████████████▌                   | 81kB 6.2MB/s eta 0:00:01\r\u001b[K     |██████████████                  | 92kB 5.6MB/s eta 0:00:01\r\u001b[K     |███████████████▋                | 102kB 6.1MB/s eta 0:00:01\r\u001b[K     |█████████████████▏              | 112kB 6.1MB/s eta 0:00:01\r\u001b[K     |██████████████████▊             | 122kB 6.1MB/s eta 0:00:01\r\u001b[K     |████████████████████▎           | 133kB 6.1MB/s eta 0:00:01\r\u001b[K     |█████████████████████▉          | 143kB 6.1MB/s eta 0:00:01\r\u001b[K     |███████████████████████▍        | 153kB 6.1MB/s eta 0:00:01\r\u001b[K     |█████████████████████████       | 163kB 6.1MB/s eta 0:00:01\r\u001b[K     |██████████████████████████▋     | 174kB 6.1MB/s eta 0:00:01\r\u001b[K     |████████████████████████████▏   | 184kB 6.1MB/s eta 0:00:01\r\u001b[K     |█████████████████████████████▊  | 194kB 6.1MB/s eta 0:00:01\r\u001b[K     |███████████████████████████████▎| 204kB 6.1MB/s eta 0:00:01\r\u001b[K     |████████████████████████████████| 215kB 6.1MB/s \n",
            "\u001b[?25hInstalling collected packages: Sastrawi\n",
            "Successfully installed Sastrawi-1.0.1\n"
          ],
          "name": "stdout"
        }
      ]
    },
    {
      "cell_type": "code",
      "metadata": {
        "colab": {
          "base_uri": "https://localhost:8080/"
        },
        "id": "r68WwW71Z9i_",
        "outputId": "aea68948-57ee-458d-8c88-cc442e8df78f"
      },
      "source": [
        "import Sastrawi\n",
        "\n",
        "from Sastrawi.StopWordRemover.StopWordRemoverFactory import StopWordRemoverFactory\n",
        "\n",
        "factory = StopWordRemoverFactory()\n",
        "stopwords = factory.get_stop_words()\n",
        "print(stopwords)\n"
      ],
      "execution_count": 10,
      "outputs": [
        {
          "output_type": "stream",
          "text": [
            "['yang', 'untuk', 'pada', 'ke', 'para', 'namun', 'menurut', 'antara', 'dia', 'dua', 'ia', 'seperti', 'jika', 'jika', 'sehingga', 'kembali', 'dan', 'tidak', 'ini', 'karena', 'kepada', 'oleh', 'saat', 'harus', 'sementara', 'setelah', 'belum', 'kami', 'sekitar', 'bagi', 'serta', 'di', 'dari', 'telah', 'sebagai', 'masih', 'hal', 'ketika', 'adalah', 'itu', 'dalam', 'bisa', 'bahwa', 'atau', 'hanya', 'kita', 'dengan', 'akan', 'juga', 'ada', 'mereka', 'sudah', 'saya', 'terhadap', 'secara', 'agar', 'lain', 'anda', 'begitu', 'mengapa', 'kenapa', 'yaitu', 'yakni', 'daripada', 'itulah', 'lagi', 'maka', 'tentang', 'demi', 'dimana', 'kemana', 'pula', 'sambil', 'sebelum', 'sesudah', 'supaya', 'guna', 'kah', 'pun', 'sampai', 'sedangkan', 'selagi', 'sementara', 'tetapi', 'apakah', 'kecuali', 'sebab', 'selain', 'seolah', 'seraya', 'seterusnya', 'tanpa', 'agak', 'boleh', 'dapat', 'dsb', 'dst', 'dll', 'dahulu', 'dulunya', 'anu', 'demikian', 'tapi', 'ingin', 'juga', 'nggak', 'mari', 'nanti', 'melainkan', 'oh', 'ok', 'seharusnya', 'sebetulnya', 'setiap', 'setidaknya', 'sesuatu', 'pasti', 'saja', 'toh', 'ya', 'walau', 'tolong', 'tentu', 'amat', 'apalagi', 'bagaimanapun']\n"
          ],
          "name": "stdout"
        }
      ]
    },
    {
      "cell_type": "code",
      "metadata": {
        "colab": {
          "base_uri": "https://localhost:8080/"
        },
        "id": "-MQURPwxaNlw",
        "outputId": "3a5ac468-84c4-473d-da4e-bcc620137d5e"
      },
      "source": [
        "factory = StopWordRemoverFactory()\n",
        "stopword = factory.create_stop_word_remover()\n",
        "\n",
        "#Contoh Kalimat Lain\n",
        "kalimat2 = \"Aku tidak pandai dalam mengungkapkan perasaan. Aku lebih sering memendam perasaanku. Sebenarnya tidak hanya perasaan suka terhadap orang lain, tapi hampir semua masalah yang kualami jarang aku ceritakan ke orang lain. Aku lebih suka memendamnya sendiri. Apalagi yang berhubungan dengan perasaan suka terhadap lawan jenis. Aku pasti tidak berani mengungkapkannya terhadap orang tersebut.\"\n",
        "stop = stopword.remove(kalimat2)\n",
        "print(stop)"
      ],
      "execution_count": 11,
      "outputs": [
        {
          "output_type": "stream",
          "text": [
            "Aku pandai mengungkapkan perasaan. Aku lebih sering memendam perasaanku. Sebenarnya hanya perasaan suka orang lain, hampir semua masalah kualami jarang aku ceritakan orang lain. Aku lebih suka memendamnya sendiri. Apalagi berhubungan perasaan suka lawan jenis. Aku tidak berani mengungkapkannya orang tersebut.\n"
          ],
          "name": "stdout"
        }
      ]
    },
    {
      "cell_type": "code",
      "metadata": {
        "colab": {
          "base_uri": "https://localhost:8080/"
        },
        "id": "khyexosZax4f",
        "outputId": "ae841e93-8be9-44d3-97fd-bf47efef2c84"
      },
      "source": [
        "from Sastrawi.StopWordRemover.StopWordRemoverFactory import StopWordRemoverFactory, StopWordRemover, ArrayDictionary\n",
        "\n",
        "kalimat3 = \"Aku tidak pandai dalam mengungkapkan perasaan. Aku lebih sering memendam perasaanku. Sebenarnya tidak hanya perasaan suka terhadap orang lain, tapi hampir semua masalah yang kualami jarang aku ceritakan ke orang lain. Aku lebih suka memendamnya sendiri. Apalagi yang berhubungan dengan perasaan suka terhadap lawan jenis. Aku pasti tidak berani mengungkapkannya terhadap orang tersebut.\"\n",
        "\n",
        "stop_factory = StopWordRemoverFactory()\n",
        "\n",
        "more_stopword = ['Aku', 'tidak']\n",
        "data = stop_factory.get_stop_words() + more_stopword\n",
        "new_dictionary = ArrayDictionary(data)\n",
        "#print(new_dictionary.words)\n",
        "\n",
        "new_stop_factory = StopWordRemover(new_dictionary)\n",
        "\n",
        "tokens2 = nltk.tokenize.word_tokenize(new_stop_factory.remove(kalimat3))\n",
        "print(tokens2)"
      ],
      "execution_count": 16,
      "outputs": [
        {
          "output_type": "stream",
          "text": [
            "['pandai', 'mengungkapkan', 'perasaan', '.', 'lebih', 'sering', 'memendam', 'perasaanku', '.', 'Sebenarnya', 'hanya', 'perasaan', 'suka', 'orang', 'lain', ',', 'hampir', 'semua', 'masalah', 'kualami', 'jarang', 'aku', 'ceritakan', 'orang', 'lain', '.', 'lebih', 'suka', 'memendamnya', 'sendiri', '.', 'Apalagi', 'berhubungan', 'perasaan', 'suka', 'lawan', 'jenis', '.', 'pasti', 'tidak', 'berani', 'mengungkapkannya', 'orang', 'tersebut', '.']\n"
          ],
          "name": "stdout"
        }
      ]
    },
    {
      "cell_type": "code",
      "metadata": {
        "colab": {
          "base_uri": "https://localhost:8080/",
          "height": 391
        },
        "id": "UVoMdhoAb-K3",
        "outputId": "6f09ea23-7980-4835-ebdf-f802419055b1"
      },
      "source": [
        "kemunculan2 = nltk.FreqDist(tokens2)\n",
        "print(kemunculan2.most_common())\n",
        "\n",
        "kemunculan2.plot(30, cumulative=False)\n",
        "\n",
        "plt.figure\n",
        "plt.show()"
      ],
      "execution_count": 19,
      "outputs": [
        {
          "output_type": "stream",
          "text": [
            "[('.', 6), ('perasaan', 3), ('suka', 3), ('orang', 3), ('lebih', 2), ('lain', 2), ('pandai', 1), ('mengungkapkan', 1), ('sering', 1), ('memendam', 1), ('perasaanku', 1), ('Sebenarnya', 1), ('hanya', 1), (',', 1), ('hampir', 1), ('semua', 1), ('masalah', 1), ('kualami', 1), ('jarang', 1), ('aku', 1), ('ceritakan', 1), ('memendamnya', 1), ('sendiri', 1), ('Apalagi', 1), ('berhubungan', 1), ('lawan', 1), ('jenis', 1), ('pasti', 1), ('tidak', 1), ('berani', 1), ('mengungkapkannya', 1), ('tersebut', 1)]\n"
          ],
          "name": "stdout"
        },
        {
          "output_type": "display_data",
          "data": {
            "image/png": "[encoded data removed]",
            "text/plain": [
              "<Figure size 432x288 with 1 Axes>"
            ]
          },
          "metadata": {
            "tags": [],
            "needs_background": "light"
          }
        }
      ]
    },
    {
      "cell_type": "markdown",
      "metadata": {
        "id": "fsU9X1R2eM_l"
      },
      "source": [
        "## **Stemming**"
      ]
    },
    {
      "cell_type": "code",
      "metadata": {
        "colab": {
          "base_uri": "https://localhost:8080/"
        },
        "id": "nLSWsLwIeMCu",
        "outputId": "d210c078-b03e-4b13-8736-b0188ae737e4"
      },
      "source": [
        "from nltk.stem import PorterStemmer\n",
        "\n",
        "english = 'For a long time weather monitoring was largely a pastime of enthusiastic amateurs.'\n",
        "\n",
        "tokens_english = nltk.tokenize.word_tokenize(english)\n",
        "\n",
        "st = PorterStemmer()\n",
        "\n",
        "for t in tokens_english:\n",
        "  print(st.stem(t))"
      ],
      "execution_count": 20,
      "outputs": [
        {
          "output_type": "stream",
          "text": [
            "for\n",
            "a\n",
            "long\n",
            "time\n",
            "weather\n",
            "monitor\n",
            "wa\n",
            "larg\n",
            "a\n",
            "pastim\n",
            "of\n",
            "enthusiast\n",
            "amateur\n",
            ".\n"
          ],
          "name": "stdout"
        }
      ]
    },
    {
      "cell_type": "code",
      "metadata": {
        "colab": {
          "base_uri": "https://localhost:8080/"
        },
        "id": "Xx-3bPBoez3N",
        "outputId": "c597b4c5-f778-4ea7-ce07-74d2ce393aa1"
      },
      "source": [
        "from Sastrawi.Stemmer.StemmerFactory import StemmerFactory\n",
        "factory = StemmerFactory()\n",
        "stemmer = factory.create_stemmer()\n",
        "\n",
        "kalimat3 = \"Aku tidak pandai dalam mengungkapkan perasaan. Aku lebih sering memendam perasaanku. Sebenarnya tidak hanya perasaan suka terhadap orang lain, tapi hampir semua masalah yang kualami jarang aku ceritakan ke orang lain. Aku lebih suka memendamnya sendiri. Apalagi yang berhubungan dengan perasaan suka terhadap lawan jenis. Aku pasti tidak berani mengungkapkannya terhadap orang tersebut.\"\n",
        "katadasar = stemmer.stem(kalimat3)\n",
        "\n",
        "print(katadasar)"
      ],
      "execution_count": 21,
      "outputs": [
        {
          "output_type": "stream",
          "text": [
            "aku tidak pandai dalam ungkap asa aku lebih sering pendam asa benar tidak hanya asa suka hadap orang lain tapi hampir semua masalah yang alam jarang aku cerita ke orang lain aku lebih suka pendam sendiri apalagi yang hubung dengan asa suka hadap lawan jenis aku pasti tidak berani ungkap hadap orang sebut\n"
          ],
          "name": "stdout"
        }
      ]
    },
    {
      "cell_type": "markdown",
      "metadata": {
        "id": "phgi3UfIfJHI"
      },
      "source": [
        "## **Sentence Segmentation**"
      ]
    },
    {
      "cell_type": "code",
      "metadata": {
        "colab": {
          "base_uri": "https://localhost:8080/"
        },
        "id": "ZCZEkbz7fLeN",
        "outputId": "976a15a6-b453-48ea-b72a-a27fd8aadd6e"
      },
      "source": [
        "from nltk import sent_tokenize\n",
        "\n",
        "multi_kalimat = \"Mari belajar Python. Terus belajar dan jangan mudah menyerah!\"\n",
        "\n",
        "sent_seg = nltk.sent_tokenize(multi_kalimat)\n",
        "print(sent_seg)"
      ],
      "execution_count": 22,
      "outputs": [
        {
          "output_type": "stream",
          "text": [
            "['Mari belajar Python.', 'Terus belajar dan jangan mudah menyerah!']\n"
          ],
          "name": "stdout"
        }
      ]
    },
    {
      "cell_type": "markdown",
      "metadata": {
        "id": "9DXcbcQzfmQj"
      },
      "source": [
        "## **Minimum Edit Distance**"
      ]
    },
    {
      "cell_type": "code",
      "metadata": {
        "id": "mU8fU65mfl0c"
      },
      "source": [
        "  #Character Based Distance\n",
        "  def Calculate_Minimum_edit_distance(source,target):    \n",
        "      n= len(source)\n",
        "      m= len(target)\n",
        "      MED_Matrix= np.zeros((n+1,m+1), dtype='int32')\n",
        "      for i in range(1,n+1):\n",
        "          MED_Matrix[i][0]=MED_Matrix[i-1][0]+del_cost\n",
        "      for i in range(1,m+1):\n",
        "          MED_Matrix[0][i]=MED_Matrix[0][i-1]+del_cost   \n",
        "      for i in range(1,n+1):\n",
        "          for j in range(1,m+1):\n",
        "              if(source[i-1]==target[j-1]):\n",
        "                  MED_Matrix[i][j]=min([MED_Matrix[i-1][j]+del_cost,MED_Matrix[i-1][j-1]+0,MED_Matrix[i][j-1]+ins_cost])\n",
        "              else:\n",
        "                  MED_Matrix[i][j]=min([MED_Matrix[i-1][j]+del_cost,MED_Matrix[i-1][j-1]+sub_cost,MED_Matrix[i][j-1]+ins_cost])\n",
        "      #print(np.matrix(MED_Matrix))\n",
        "      #print(MED_Matrix[n][m])\n",
        "      return MED_Matrix[n][m]"
      ],
      "execution_count": null,
      "outputs": []
    }
  ]
}