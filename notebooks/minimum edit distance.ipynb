{
  "nbformat": 4,
  "nbformat_minor": 0,
  "metadata": {
    "colab": {
      "name": "pba_minimum_edit_distance.ipynb",
      "provenance": []
    },
    "kernelspec": {
      "name": "python3",
      "display_name": "Python 3"
    },
    "language_info": {
      "name": "python"
    }
  },
  "cells": [
    {
      "cell_type": "markdown",
      "metadata": {
        "id": "9DXcbcQzfmQj"
      },
      "source": [
        "## **Minimum Edit Distance**"
      ]
    },
    {
      "cell_type": "code",
      "metadata": {
        "id": "8uWF-YZAgwLD"
      },
      "source": [
        "import numpy as np"
      ],
      "execution_count": 1,
      "outputs": []
    },
    {
      "cell_type": "code",
      "metadata": {
        "id": "JNcTWoyAg0-M"
      },
      "source": [
        "del_cost = 1\n",
        "ins_cost = 1\n",
        "sub_cost = 2"
      ],
      "execution_count": 2,
      "outputs": []
    },
    {
      "cell_type": "code",
      "metadata": {
        "id": "T_6l05kAgo4I"
      },
      "source": [
        "  #Character Based Distance\n",
        "  def Calculate_Minimum_edit_distance(source,target):    \n",
        "      n= len(source)\n",
        "      m= len(target)\n",
        "      MED_Matrix= np.zeros((n+1,m+1), dtype='int32')\n",
        "      for i in range(1,n+1):\n",
        "          MED_Matrix[i][0]=MED_Matrix[i-1][0]+del_cost\n",
        "      for i in range(1,m+1):\n",
        "          MED_Matrix[0][i]=MED_Matrix[0][i-1]+del_cost   \n",
        "      for i in range(1,n+1):\n",
        "          for j in range(1,m+1):\n",
        "              if(source[i-1]==target[j-1]):\n",
        "                  MED_Matrix[i][j]=min([MED_Matrix[i-1][j]+del_cost,MED_Matrix[i-1][j-1]+0,MED_Matrix[i][j-1]+ins_cost])\n",
        "              else:\n",
        "                  MED_Matrix[i][j]=min([MED_Matrix[i-1][j]+del_cost,MED_Matrix[i-1][j-1]+sub_cost,MED_Matrix[i][j-1]+ins_cost])\n",
        "      #print(np.matrix(MED_Matrix))\n",
        "      #print(MED_Matrix[n][m])\n",
        "      return MED_Matrix[n][m]"
      ],
      "execution_count": 3,
      "outputs": []
    },
    {
      "cell_type": "code",
      "metadata": {
        "colab": {
          "base_uri": "https://localhost:8080/"
        },
        "id": "wFbu-RhUg8jz",
        "outputId": "6fd07fb3-9062-40c1-a30f-253a0c8a5b79"
      },
      "source": [
        "source = 'INSENTIF'\n",
        "target = 'INTENSIF'\n",
        "\n",
        "Calculate_Minimum_edit_distance(source, target)"
      ],
      "execution_count": 4,
      "outputs": [
        {
          "output_type": "execute_result",
          "data": {
            "text/plain": [
              "4"
            ]
          },
          "metadata": {
            "tags": []
          },
          "execution_count": 4
        }
      ]
    }
  ]
}