{
  "nbformat": 4,
  "nbformat_minor": 0,
  "metadata": {
    "colab": {
      "provenance": []
    },
    "kernelspec": {
      "name": "python3",
      "display_name": "Python 3"
    },
    "language_info": {
      "name": "python"
    }
  },
  "cells": [
    {
      "cell_type": "markdown",
      "source": [
        "Bigram Percentage Counter from 2 Sentences (ROUGE Metric : Recall-Oriented Understudy for Gisting Evaluation)"
      ],
      "metadata": {
        "id": "TMYsQZ3Mbpm1"
      }
    },
    {
      "cell_type": "code",
      "metadata": {
        "colab": {
          "base_uri": "https://localhost:8080/",
          "height": 35
        },
        "id": "OQ7vvW0ZmSoL",
        "outputId": "88b930db-5cbb-4d32-e083-7b6936233273"
      },
      "source": [
        "import nltk\n",
        "nltk.__version__"
      ],
      "execution_count": null,
      "outputs": [
        {
          "output_type": "execute_result",
          "data": {
            "application/vnd.google.colaboratory.intrinsic+json": {
              "type": "string"
            },
            "text/plain": [
              "'3.2.5'"
            ]
          },
          "metadata": {
            "tags": []
          },
          "execution_count": 1
        }
      ]
    },
    {
      "cell_type": "code",
      "metadata": {
        "colab": {
          "base_uri": "https://localhost:8080/"
        },
        "id": "QPWovHQRm2E9",
        "outputId": "c010d178-f47f-4d6a-cf77-2ed389f3cd9f"
      },
      "source": [
        "from nltk import ngrams\n",
        "\n",
        "ref_sentence = \"\"\"\n",
        "\n",
        "  Tempe sangat populer untuk dimasak. Selain digoreng, tempe juga dapat dibuat menjadi gulai atau tumisan.\n",
        "\n",
        "  Tempe mengandung protein, mineral, vitamin B dan B12, lemak, dan lain - lain.\n",
        "\n",
        "  Dewasa ini, tempe sudah mendunia dikarenakan makanan berbahan dasar kacang kedelai mulai digunakan di berbagai belahan dunia.\n",
        "\n",
        "  Banyak berita di media yang mengkisahkan orang Indonesia yang memperkenalkan tempe di negara lain.\n",
        "\n",
        "  Salah satunya adalah Rustono yang menjalankan bisnis Rusto's Tempeh di Jepang.\n",
        "\n",
        "  Selain itu, di Australia juga muncul banyak penggemar tempe baru. Amita Bussink adalah seorang warga Australia yang mencitai tempe dan akhirnya memproduksi tempe di Margaret River Tempeh.\n",
        "\n",
        "\"\"\"\n",
        "\n",
        "sentence = \"\"\"\n",
        "\n",
        "  Makanan berbahan kedelai ini sangat populer untuk dimasak. Tak hanya enak digoreng dengan bumbu, namun juga enak dimasak menjadi gulai atau tumisan.\n",
        "\n",
        "  Kisah masyarakat Indonesia yang mengenalkan tempe ke dunia internasional telah banyak muncul di berbagai media.\n",
        "\n",
        "  Tak hanya itu, bule juga banyak yang datang ke Indonesia untuk mencicipi enaknya tempe.\n",
        "\n",
        "  Rustono adalah contoh salah satu orang yang menjalankan bisnis tempe di Jepang.\n",
        "\n",
        "  Amita Bussink adalah warga negara Australia yang mencintai tempe. Dari kecintaannya tersebut, ia pun memproduksi tempe di Margaret River Tempeh.\n",
        "\n",
        "  \"Tempe begitu diganderungi di tingkat dunia, ini menjadi peluang bagus mengangkat nasional brand sekaligus menarik wisatawan berkunjung ke Indonesia. Saya bangga sebagai bangsa tempe. Salam tempe! Salam Pesona Indonesia,\" tuturnya.\n",
        "\n",
        "\"\"\"\n",
        "\n",
        "# 2 = bigram\n",
        "n = 2\n",
        "\n",
        "#bigram for sentence & ref_sentence\n",
        "bigrams = list(ngrams(sentence.split(), n))\n",
        "ref_bigrams = list(ngrams(ref_sentence.split(), n))\n",
        "\n",
        "#mencari bigram yang sama\n",
        "sum = 0 #bigram yang sama\n",
        "bigrams_sum = 0 #total bigram pada sentence\n",
        "\n",
        "print(\"Bigram yang sama :\")\n",
        "for grams in bigrams:\n",
        "  bigrams_sum +=1\n",
        "  for ref_grams in ref_bigrams:\n",
        "    if (grams == ref_grams):\n",
        "      print(\" \", grams, ref_grams)\n",
        "      sum +=1\n",
        "      break\n",
        "print(\"\\nJumlah bigram yang sama :\", sum, \"\\nJumlah bigram pada sentence :\", bigrams_sum)"
      ],
      "execution_count": null,
      "outputs": [
        {
          "output_type": "stream",
          "text": [
            "Bigram yang sama :\n",
            "  ('sangat', 'populer') ('sangat', 'populer')\n",
            "  ('populer', 'untuk') ('populer', 'untuk')\n",
            "  ('untuk', 'dimasak.') ('untuk', 'dimasak.')\n",
            "  ('menjadi', 'gulai') ('menjadi', 'gulai')\n",
            "  ('gulai', 'atau') ('gulai', 'atau')\n",
            "  ('atau', 'tumisan.') ('atau', 'tumisan.')\n",
            "  ('Indonesia', 'yang') ('Indonesia', 'yang')\n",
            "  ('di', 'berbagai') ('di', 'berbagai')\n",
            "  ('yang', 'menjalankan') ('yang', 'menjalankan')\n",
            "  ('menjalankan', 'bisnis') ('menjalankan', 'bisnis')\n",
            "  ('tempe', 'di') ('tempe', 'di')\n",
            "  ('di', 'Jepang.') ('di', 'Jepang.')\n",
            "  ('Amita', 'Bussink') ('Amita', 'Bussink')\n",
            "  ('Bussink', 'adalah') ('Bussink', 'adalah')\n",
            "  ('Australia', 'yang') ('Australia', 'yang')\n",
            "  ('memproduksi', 'tempe') ('memproduksi', 'tempe')\n",
            "  ('tempe', 'di') ('tempe', 'di')\n",
            "  ('di', 'Margaret') ('di', 'Margaret')\n",
            "  ('Margaret', 'River') ('Margaret', 'River')\n",
            "  ('River', 'Tempeh.') ('River', 'Tempeh.')\n",
            "\n",
            "Jumlah bigram yang sama : 20 \n",
            "Jumlah bigram pada sentence : 112\n"
          ],
          "name": "stdout"
        }
      ]
    },
    {
      "cell_type": "code",
      "metadata": {
        "colab": {
          "base_uri": "https://localhost:8080/"
        },
        "id": "KB--2u6m5edC",
        "outputId": "34fb7776-ede7-441c-c30a-da0b17425c6c"
      },
      "source": [
        "# presentase bigram yang sama dengan jumlah bigram\n",
        "\n",
        "percentage = (round((sum / bigrams_sum) * 100, 1))\n",
        "print(\"Percentage : \", percentage,\"%\")"
      ],
      "execution_count": null,
      "outputs": [
        {
          "output_type": "stream",
          "text": [
            "Percentage :  17.9 %\n"
          ],
          "name": "stdout"
        }
      ]
    }
  ]
}