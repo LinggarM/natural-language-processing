{
 "cells": [
  {
   "cell_type": "code",
   "execution_count": 1,
   "metadata": {},
   "outputs": [],
   "source": [
    "from sklearn.feature_extraction.text import TfidfVectorizer"
   ]
  },
  {
   "cell_type": "code",
   "execution_count": 2,
   "metadata": {},
   "outputs": [],
   "source": [
    "data = [\"Publikasi artikel ilmiah wajib mahasiswa dosen\",\n",
    "\"Dosen membimbing mahasiswa penulisan artikel ilmiah\",\n",
    "\"Artikel ilmiah dipublikasikan jurnal nasional internasional\",\n",
    "\"Workshop penulisan artikel jurnal nasional wajib mahasiswa\",\n",
    "\"Dosen diwajibkan publikasi jurnal internasional\"]"
   ]
  },
  {
   "cell_type": "code",
   "execution_count": 4,
   "metadata": {},
   "outputs": [],
   "source": [
    "vectorizer = TfidfVectorizer()\n",
    "features = vectorizer.fit_transform(data)"
   ]
  },
  {
   "cell_type": "code",
   "execution_count": 5,
   "metadata": {},
   "outputs": [
    {
     "name": "stdout",
     "output_type": "stream",
     "text": [
      "  (0, 3)\t0.3889485180822039\n",
      "  (0, 7)\t0.3889485180822039\n",
      "  (0, 12)\t0.46856167611325056\n",
      "  (0, 4)\t0.3889485180822039\n",
      "  (0, 0)\t0.32719575516937127\n",
      "  (0, 11)\t0.46856167611325056\n",
      "-------------------------------\n",
      "  (0, 10)\t0.4431957760772619\n",
      "  (0, 8)\t0.5493297408757738\n",
      "  (0, 3)\t0.3678925296568199\n",
      "  (0, 7)\t0.3678925296568199\n",
      "  (0, 4)\t0.3678925296568199\n",
      "  (0, 0)\t0.30948279390742617\n",
      "-------------------------------\n",
      "  (0, 5)\t0.4302511531798322\n",
      "  (0, 9)\t0.4302511531798322\n",
      "  (0, 6)\t0.3571473233163181\n",
      "  (0, 1)\t0.5332852144479316\n",
      "  (0, 4)\t0.3571473233163181\n",
      "  (0, 0)\t0.3004435875868402\n",
      "-------------------------------\n",
      "  (0, 13)\t0.48986803544193724\n",
      "  (0, 9)\t0.3952224465345851\n",
      "  (0, 6)\t0.32807033252821083\n",
      "  (0, 10)\t0.3952224465345851\n",
      "  (0, 7)\t0.32807033252821083\n",
      "  (0, 12)\t0.3952224465345851\n",
      "  (0, 0)\t0.2759831062720435\n",
      "-------------------------------\n",
      "  (0, 2)\t0.5591166343026757\n",
      "  (0, 5)\t0.4510917800707943\n",
      "  (0, 6)\t0.3744469262466795\n",
      "  (0, 3)\t0.3744469262466795\n",
      "  (0, 11)\t0.4510917800707943\n",
      "-------------------------------\n"
     ]
    }
   ],
   "source": [
    "for i in features:\n",
    "    print(i)\n",
    "    print('-------------------------------')"
   ]
  },
  {
   "cell_type": "code",
   "execution_count": 11,
   "metadata": {},
   "outputs": [
    {
     "name": "stdout",
     "output_type": "stream",
     "text": [
      "artikel\n",
      "dipublikasikan\n",
      "diwajibkan\n",
      "dosen\n",
      "ilmiah\n",
      "internasional\n",
      "jurnal\n",
      "mahasiswa\n",
      "membimbing\n",
      "nasional\n",
      "penulisan\n",
      "publikasi\n",
      "wajib\n",
      "workshop\n"
     ]
    }
   ],
   "source": [
    "for i in vectorizer.get_feature_names():\n",
    "    print(i)"
   ]
  },
  {
   "cell_type": "code",
   "execution_count": 27,
   "metadata": {},
   "outputs": [
    {
     "data": {
      "text/plain": [
       "array([[0.12284493]])"
      ]
     },
     "execution_count": 27,
     "metadata": {},
     "output_type": "execute_result"
    }
   ],
   "source": [
    "from sklearn.metrics.pairwise import cosine_similarity\n",
    "\n",
    "cosine_similarity(features[3], features[4])"
   ]
  },
  {
   "cell_type": "code",
   "execution_count": null,
   "metadata": {},
   "outputs": [],
   "source": []
  }
 ],
 "metadata": {
  "kernelspec": {
   "display_name": "Python 3",
   "language": "python",
   "name": "python3"
  },
  "language_info": {
   "codemirror_mode": {
    "name": "ipython",
    "version": 3
   },
   "file_extension": ".py",
   "mimetype": "text/x-python",
   "name": "python",
   "nbconvert_exporter": "python",
   "pygments_lexer": "ipython3",
   "version": "3.8.5"
  }
 },
 "nbformat": 4,
 "nbformat_minor": 4
}
