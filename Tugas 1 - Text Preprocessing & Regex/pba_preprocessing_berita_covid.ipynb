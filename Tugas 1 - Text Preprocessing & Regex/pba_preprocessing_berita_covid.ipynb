{
  "nbformat": 4,
  "nbformat_minor": 0,
  "metadata": {
    "colab": {
      "name": "pba_preprocessing_berita covid.ipynb",
      "provenance": []
    },
    "kernelspec": {
      "name": "python3",
      "display_name": "Python 3"
    }
  },
  "cells": [
    {
      "cell_type": "markdown",
      "metadata": {
        "id": "nfZIQeefHPJS"
      },
      "source": [
        "### **MEMBACA FILE BERITA**"
      ]
    },
    {
      "cell_type": "code",
      "metadata": {
        "colab": {
          "base_uri": "https://localhost:8080/"
        },
        "id": "3y1uYlfYCPhN",
        "outputId": "2ca899e6-a62e-4b48-ad23-b9b4f9c3157c"
      },
      "source": [
        "#mounting Google Drive\r\n",
        "from google.colab import drive\r\n",
        "drive.mount('/content/drive')"
      ],
      "execution_count": 15,
      "outputs": [
        {
          "output_type": "stream",
          "text": [
            "Drive already mounted at /content/drive; to attempt to forcibly remount, call drive.mount(\"/content/drive\", force_remount=True).\n"
          ],
          "name": "stdout"
        }
      ]
    },
    {
      "cell_type": "code",
      "metadata": {
        "colab": {
          "base_uri": "https://localhost:8080/"
        },
        "id": "u6xib5B2E0On",
        "outputId": "1e9b04ec-be59-4e87-f18f-b38759d1ba75"
      },
      "source": [
        "#read file\r\n",
        "txt_berita = open('/content/drive/MyDrive/Upload/Akademik/Tugas1_PBA_Linggar_24060117120031/11 ASN di Banjarnegara Positif Corona, Sebagian di Antaranya Tenaga Medis Puskesmas.txt', 'r').read()\r\n",
        "print(txt_berita)"
      ],
      "execution_count": 18,
      "outputs": [
        {
          "output_type": "stream",
          "text": [
            "11 ASN di Banjarnegara Positif Corona, Sebagian di Antaranya Tenaga Medis Puskesmas\n",
            "\n",
            "BANJARNEGARA, KOMPAS.com - Sebanyak 11 aparatur sipil negara (ASN) di lingkungan Pemerintah Kabupaten (Pemkab) Banjarnegara, Jawa Tengah, terkonfirmasi positif virus corona ( Covid-19).\n",
            "\n",
            "Bupati Banjarnegara Budhi Sarwono mengungkapkan, sebagian di antaranya merupakan tenaga medis di sejumlah puskesmas.\n",
            "\n",
            "\"Mereka akan dirawat dalam perawatan khusus. Dari 11 orang itu, ada beberapa tenaga kesehatan dan ASN,\" kata Budhi saat konferensi pers di rumah dinas, Senin (6/7/2020) malam.\n",
            "\n",
            "Menurut Budhi, tenaga kesehatan yang terkonfirmasi positif Covid-19 diduga terpapar dari pasien.\n",
            "\n",
            "Sedangkan ASN diduga terpapar dari warga lokal.\n",
            "\n",
            "Akibat adanya tenaga kesehatan yang positif Covid-19, lanjut Budhi, pihaknya sempat menutup lima puskesmas, Senin (6/7/2020).\n",
            "\n",
            "Puskesmas tersebut kembali beroperasi hari ini.\n",
            "\n",
            "\"Sementara waktu kami bersihkan, kami sterilisasi, yang kita cek ada lima puskesmas. Hanya beberapa saja (tenaga kesehatan) yang lain ASN, karena kontak erat dengan pasien,\" ujar Budhi.\n",
            "\n",
            "Dengan penambahan tersebut, hingga saat ini tercatat sebanyak 54 kasus Covid-19.\n",
            "\n",
            "Rinciannya, sebanyak 41 orang sembuh, 22 orang masih dalam perawatan, dan satu orang meninggal dunia.\n",
            "\n",
            "Budhi menambahkan, tes swab akan kembali dilanjutkan terhadap warga yang berisiko terpapar Covid-19.\n",
            "\n",
            "\"Kita sudah swab 200 lebih, kita sengaja lakukan seperti itu, kita lebih awal, kita lakukan agar bisa deteksi lebih dini. Kita akan swab 800 lagi, kalau kurang ditambah lagi,\" kata Budhi.\n"
          ],
          "name": "stdout"
        }
      ]
    },
    {
      "cell_type": "markdown",
      "metadata": {
        "id": "9VZ-jkkkHfYf"
      },
      "source": [
        "### **PROSES TOKENISASI**"
      ]
    },
    {
      "cell_type": "code",
      "metadata": {
        "colab": {
          "base_uri": "https://localhost:8080/"
        },
        "id": "MTmLWRR_FhRx",
        "outputId": "492d2647-4f12-4122-9bfe-557bd136e218"
      },
      "source": [
        "#import library\r\n",
        "import nltk\r\n",
        "nltk.download('punkt')\r\n",
        "\r\n",
        "#proses tokenisasi\r\n",
        "from nltk import word_tokenize\r\n",
        "hasil_tokenisasi = nltk.tokenize.word_tokenize(txt_berita)\r\n",
        "print(hasil_tokenisasi)"
      ],
      "execution_count": 19,
      "outputs": [
        {
          "output_type": "stream",
          "text": [
            "[nltk_data] Downloading package punkt to /root/nltk_data...\n",
            "[nltk_data]   Unzipping tokenizers/punkt.zip.\n",
            "['11', 'ASN', 'di', 'Banjarnegara', 'Positif', 'Corona', ',', 'Sebagian', 'di', 'Antaranya', 'Tenaga', 'Medis', 'Puskesmas', 'BANJARNEGARA', ',', 'KOMPAS.com', '-', 'Sebanyak', '11', 'aparatur', 'sipil', 'negara', '(', 'ASN', ')', 'di', 'lingkungan', 'Pemerintah', 'Kabupaten', '(', 'Pemkab', ')', 'Banjarnegara', ',', 'Jawa', 'Tengah', ',', 'terkonfirmasi', 'positif', 'virus', 'corona', '(', 'Covid-19', ')', '.', 'Bupati', 'Banjarnegara', 'Budhi', 'Sarwono', 'mengungkapkan', ',', 'sebagian', 'di', 'antaranya', 'merupakan', 'tenaga', 'medis', 'di', 'sejumlah', 'puskesmas', '.', '``', 'Mereka', 'akan', 'dirawat', 'dalam', 'perawatan', 'khusus', '.', 'Dari', '11', 'orang', 'itu', ',', 'ada', 'beberapa', 'tenaga', 'kesehatan', 'dan', 'ASN', ',', \"''\", 'kata', 'Budhi', 'saat', 'konferensi', 'pers', 'di', 'rumah', 'dinas', ',', 'Senin', '(', '6/7/2020', ')', 'malam', '.', 'Menurut', 'Budhi', ',', 'tenaga', 'kesehatan', 'yang', 'terkonfirmasi', 'positif', 'Covid-19', 'diduga', 'terpapar', 'dari', 'pasien', '.', 'Sedangkan', 'ASN', 'diduga', 'terpapar', 'dari', 'warga', 'lokal', '.', 'Akibat', 'adanya', 'tenaga', 'kesehatan', 'yang', 'positif', 'Covid-19', ',', 'lanjut', 'Budhi', ',', 'pihaknya', 'sempat', 'menutup', 'lima', 'puskesmas', ',', 'Senin', '(', '6/7/2020', ')', '.', 'Puskesmas', 'tersebut', 'kembali', 'beroperasi', 'hari', 'ini', '.', '``', 'Sementara', 'waktu', 'kami', 'bersihkan', ',', 'kami', 'sterilisasi', ',', 'yang', 'kita', 'cek', 'ada', 'lima', 'puskesmas', '.', 'Hanya', 'beberapa', 'saja', '(', 'tenaga', 'kesehatan', ')', 'yang', 'lain', 'ASN', ',', 'karena', 'kontak', 'erat', 'dengan', 'pasien', ',', \"''\", 'ujar', 'Budhi', '.', 'Dengan', 'penambahan', 'tersebut', ',', 'hingga', 'saat', 'ini', 'tercatat', 'sebanyak', '54', 'kasus', 'Covid-19', '.', 'Rinciannya', ',', 'sebanyak', '41', 'orang', 'sembuh', ',', '22', 'orang', 'masih', 'dalam', 'perawatan', ',', 'dan', 'satu', 'orang', 'meninggal', 'dunia', '.', 'Budhi', 'menambahkan', ',', 'tes', 'swab', 'akan', 'kembali', 'dilanjutkan', 'terhadap', 'warga', 'yang', 'berisiko', 'terpapar', 'Covid-19', '.', '``', 'Kita', 'sudah', 'swab', '200', 'lebih', ',', 'kita', 'sengaja', 'lakukan', 'seperti', 'itu', ',', 'kita', 'lebih', 'awal', ',', 'kita', 'lakukan', 'agar', 'bisa', 'deteksi', 'lebih', 'dini', '.', 'Kita', 'akan', 'swab', '800', 'lagi', ',', 'kalau', 'kurang', 'ditambah', 'lagi', ',', \"''\", 'kata', 'Budhi', '.']\n"
          ],
          "name": "stdout"
        }
      ]
    },
    {
      "cell_type": "code",
      "metadata": {
        "colab": {
          "base_uri": "https://localhost:8080/"
        },
        "id": "EFcY2jdwGb8e",
        "outputId": "998dcc28-1925-4481-e139-59c6b44707e6"
      },
      "source": [
        "import re\r\n",
        "\r\n",
        "#membuat semua text menjadi lower case\r\n",
        "txt_berita_lowercase = txt_berita.lower()\r\n",
        "\r\n",
        "#menghilangkan tandabaca\r\n",
        "txt_berita_non_tandabaca = re.sub(r'[^\\w\\s]','',txt_berita_lowercase)\r\n",
        "\r\n",
        "#proses tokenisasi\r\n",
        "hasil_tokenisasi_txt_berita_non_tandabaca = nltk.tokenize.word_tokenize(txt_berita_non_tandabaca)\r\n",
        "\r\n",
        "#menghitung kemunculan\r\n",
        "kemunculan = nltk.FreqDist(hasil_tokenisasi_txt_berita_non_tandabaca)\r\n",
        "print(kemunculan.most_common())"
      ],
      "execution_count": 23,
      "outputs": [
        {
          "output_type": "stream",
          "text": [
            "[('budhi', 7), ('di', 6), ('tenaga', 6), ('kita', 6), ('asn', 5), ('puskesmas', 5), ('covid19', 5), ('yang', 5), ('banjarnegara', 4), ('positif', 4), ('orang', 4), ('kesehatan', 4), ('11', 3), ('sebanyak', 3), ('akan', 3), ('dari', 3), ('terpapar', 3), ('swab', 3), ('lebih', 3), ('corona', 2), ('sebagian', 2), ('antaranya', 2), ('medis', 2), ('terkonfirmasi', 2), ('dalam', 2), ('perawatan', 2), ('itu', 2), ('ada', 2), ('beberapa', 2), ('dan', 2), ('kata', 2), ('saat', 2), ('senin', 2), ('672020', 2), ('diduga', 2), ('pasien', 2), ('warga', 2), ('lima', 2), ('tersebut', 2), ('kembali', 2), ('ini', 2), ('kami', 2), ('dengan', 2), ('lakukan', 2), ('lagi', 2), ('kompascom', 1), ('aparatur', 1), ('sipil', 1), ('negara', 1), ('lingkungan', 1), ('pemerintah', 1), ('kabupaten', 1), ('pemkab', 1), ('jawa', 1), ('tengah', 1), ('virus', 1), ('bupati', 1), ('sarwono', 1), ('mengungkapkan', 1), ('merupakan', 1), ('sejumlah', 1), ('mereka', 1), ('dirawat', 1), ('khusus', 1), ('konferensi', 1), ('pers', 1), ('rumah', 1), ('dinas', 1), ('malam', 1), ('menurut', 1), ('sedangkan', 1), ('lokal', 1), ('akibat', 1), ('adanya', 1), ('lanjut', 1), ('pihaknya', 1), ('sempat', 1), ('menutup', 1), ('beroperasi', 1), ('hari', 1), ('sementara', 1), ('waktu', 1), ('bersihkan', 1), ('sterilisasi', 1), ('cek', 1), ('hanya', 1), ('saja', 1), ('lain', 1), ('karena', 1), ('kontak', 1), ('erat', 1), ('ujar', 1), ('penambahan', 1), ('hingga', 1), ('tercatat', 1), ('54', 1), ('kasus', 1), ('rinciannya', 1), ('41', 1), ('sembuh', 1), ('22', 1), ('masih', 1), ('satu', 1), ('meninggal', 1), ('dunia', 1), ('menambahkan', 1), ('tes', 1), ('dilanjutkan', 1), ('terhadap', 1), ('berisiko', 1), ('sudah', 1), ('200', 1), ('sengaja', 1), ('seperti', 1), ('awal', 1), ('agar', 1), ('bisa', 1), ('deteksi', 1), ('dini', 1), ('800', 1), ('kalau', 1), ('kurang', 1), ('ditambah', 1)]\n"
          ],
          "name": "stdout"
        }
      ]
    },
    {
      "cell_type": "markdown",
      "metadata": {
        "id": "d_PNsrW5HxsF"
      },
      "source": [
        "### **MELAKUKAN PLOTTING**"
      ]
    },
    {
      "cell_type": "code",
      "metadata": {
        "colab": {
          "base_uri": "https://localhost:8080/",
          "height": 336
        },
        "id": "vUIogy2hHgsA",
        "outputId": "f5e532a4-b5f5-4f3e-cca9-54be0758097f"
      },
      "source": [
        "import matplotlib.pyplot as plt\r\n",
        "\r\n",
        "#proses plotting\r\n",
        "kemunculan.plot(25, cumulative = False)\r\n",
        "plt.figure\r\n",
        "plt.show()"
      ],
      "execution_count": 24,
      "outputs": [
        {
          "output_type": "display_data",
          "data": {
            "image/png": "[encoded data removed]",
            "text/plain": [
              "<Figure size 432x288 with 1 Axes>"
            ]
          },
          "metadata": {
            "tags": [],
            "needs_background": "light"
          }
        }
      ]
    },
    {
      "cell_type": "markdown",
      "metadata": {
        "id": "6Q3AMlmnKRm8"
      },
      "source": [
        "### **MELAKUKAN STEMMING**"
      ]
    },
    {
      "cell_type": "code",
      "metadata": {
        "colab": {
          "base_uri": "https://localhost:8080/"
        },
        "id": "KZJi-BUKKYNb",
        "outputId": "127c652b-9231-4d28-ab98-a6a4daf4e427"
      },
      "source": [
        "from Sastrawi.Stemmer.StemmerFactory import StemmerFactory\r\n",
        "factory = StemmerFactory()\r\n",
        "stemmer = factory.create_stemmer()\r\n",
        "\r\n",
        "hasil_stemming = stemmer.stem(txt_berita_non_tandabaca)\r\n",
        "print(hasil_stemming)"
      ],
      "execution_count": 30,
      "outputs": [
        {
          "output_type": "stream",
          "text": [
            "11 asn di banjarnegara positif corona bagi di antara tenaga medis puskesmas banjarnegara kompascom banyak 11 aparatur sipil negara asn di lingkung perintah kabupaten pemkab banjarnegara jawa tengah konfirmasi positif virus corona covid19 bupati banjarnegara budhi sarwono ungkap bagi di antara rupa tenaga medis di jumlah puskesmas mereka akan rawat dalam awat khusus dari 11 orang itu ada beberapa tenaga sehat dan asn kata budhi saat konferensi pers di rumah dinas senin 672020 malam turut budhi tenaga sehat yang konfirmasi positif covid19 duga papar dari pasien sedang asn duga papar dari warga lokal akibat ada tenaga sehat yang positif covid19 lanjut budhi pihak sempat tutup lima puskesmas senin 672020 puskesmas sebut kembali operasi hari ini sementara waktu kami sih kami sterilisasi yang kita cek ada lima puskesmas hanya beberapa saja tenaga sehat yang lain asn karena kontak erat dengan pasien ujar budhi dengan tambah sebut hingga saat ini catat banyak 54 kasus covid19 rinciannya banyak 41 orang sembuh 22 orang masih dalam awat dan satu orang tinggal dunia budhi tambah tes swab akan kembali lanjut hadap warga yang risiko papar covid19 kita sudah swab 200 lebih kita sengaja laku seperti itu kita lebih awal kita laku agar bisa deteksi lebih dini kita akan swab 800 lagi kalau kurang tambah lagi kata budhi\n"
          ],
          "name": "stdout"
        }
      ]
    },
    {
      "cell_type": "markdown",
      "metadata": {
        "id": "r92X4y-cH8HH"
      },
      "source": [
        "### **PROSES STOPWORD REMOVAL**"
      ]
    },
    {
      "cell_type": "code",
      "metadata": {
        "colab": {
          "base_uri": "https://localhost:8080/"
        },
        "id": "4XsedmsJH_Bc",
        "outputId": "8f99847b-6791-4c87-df67-27a4d7a2b7b3"
      },
      "source": [
        "#install library\r\n",
        "!pip install Sastrawi"
      ],
      "execution_count": 25,
      "outputs": [
        {
          "output_type": "stream",
          "text": [
            "Collecting Sastrawi\n",
            "\u001b[?25l  Downloading https://files.pythonhosted.org/packages/6f/4b/bab676953da3103003730b8fcdfadbdd20f333d4add10af949dd5c51e6ed/Sastrawi-1.0.1-py2.py3-none-any.whl (209kB)\n",
            "\r\u001b[K     |█▋                              | 10kB 14.7MB/s eta 0:00:01\r\u001b[K     |███▏                            | 20kB 12.3MB/s eta 0:00:01\r\u001b[K     |████▊                           | 30kB 9.9MB/s eta 0:00:01\r\u001b[K     |██████▎                         | 40kB 9.0MB/s eta 0:00:01\r\u001b[K     |███████▉                        | 51kB 4.3MB/s eta 0:00:01\r\u001b[K     |█████████▍                      | 61kB 4.6MB/s eta 0:00:01\r\u001b[K     |███████████                     | 71kB 5.0MB/s eta 0:00:01\r\u001b[K     |████████████▌                   | 81kB 5.1MB/s eta 0:00:01\r\u001b[K     |██████████████                  | 92kB 5.4MB/s eta 0:00:01\r\u001b[K     |███████████████▋                | 102kB 5.8MB/s eta 0:00:01\r\u001b[K     |█████████████████▏              | 112kB 5.8MB/s eta 0:00:01\r\u001b[K     |██████████████████▊             | 122kB 5.8MB/s eta 0:00:01\r\u001b[K     |████████████████████▎           | 133kB 5.8MB/s eta 0:00:01\r\u001b[K     |█████████████████████▉          | 143kB 5.8MB/s eta 0:00:01\r\u001b[K     |███████████████████████▍        | 153kB 5.8MB/s eta 0:00:01\r\u001b[K     |█████████████████████████       | 163kB 5.8MB/s eta 0:00:01\r\u001b[K     |██████████████████████████▋     | 174kB 5.8MB/s eta 0:00:01\r\u001b[K     |████████████████████████████▏   | 184kB 5.8MB/s eta 0:00:01\r\u001b[K     |█████████████████████████████▊  | 194kB 5.8MB/s eta 0:00:01\r\u001b[K     |███████████████████████████████▎| 204kB 5.8MB/s eta 0:00:01\r\u001b[K     |████████████████████████████████| 215kB 5.8MB/s \n",
            "\u001b[?25hInstalling collected packages: Sastrawi\n",
            "Successfully installed Sastrawi-1.0.1\n"
          ],
          "name": "stdout"
        }
      ]
    },
    {
      "cell_type": "code",
      "metadata": {
        "colab": {
          "base_uri": "https://localhost:8080/"
        },
        "id": "bZjEu75fIPZ8",
        "outputId": "51c21e09-a122-44e6-b8bc-458fefaf299c"
      },
      "source": [
        "import Sastrawi\r\n",
        "\r\n",
        "from Sastrawi.StopWordRemover.StopWordRemoverFactory import StopWordRemoverFactory, StopWordRemover, ArrayDictionary\r\n",
        "\r\n",
        "#menampilkan stopwords original dari library Sastrawi\r\n",
        "factory = StopWordRemoverFactory()\r\n",
        "stopwords = factory.get_stop_words()\r\n",
        "print(stopwords)"
      ],
      "execution_count": 26,
      "outputs": [
        {
          "output_type": "stream",
          "text": [
            "['yang', 'untuk', 'pada', 'ke', 'para', 'namun', 'menurut', 'antara', 'dia', 'dua', 'ia', 'seperti', 'jika', 'jika', 'sehingga', 'kembali', 'dan', 'tidak', 'ini', 'karena', 'kepada', 'oleh', 'saat', 'harus', 'sementara', 'setelah', 'belum', 'kami', 'sekitar', 'bagi', 'serta', 'di', 'dari', 'telah', 'sebagai', 'masih', 'hal', 'ketika', 'adalah', 'itu', 'dalam', 'bisa', 'bahwa', 'atau', 'hanya', 'kita', 'dengan', 'akan', 'juga', 'ada', 'mereka', 'sudah', 'saya', 'terhadap', 'secara', 'agar', 'lain', 'anda', 'begitu', 'mengapa', 'kenapa', 'yaitu', 'yakni', 'daripada', 'itulah', 'lagi', 'maka', 'tentang', 'demi', 'dimana', 'kemana', 'pula', 'sambil', 'sebelum', 'sesudah', 'supaya', 'guna', 'kah', 'pun', 'sampai', 'sedangkan', 'selagi', 'sementara', 'tetapi', 'apakah', 'kecuali', 'sebab', 'selain', 'seolah', 'seraya', 'seterusnya', 'tanpa', 'agak', 'boleh', 'dapat', 'dsb', 'dst', 'dll', 'dahulu', 'dulunya', 'anu', 'demikian', 'tapi', 'ingin', 'juga', 'nggak', 'mari', 'nanti', 'melainkan', 'oh', 'ok', 'seharusnya', 'sebetulnya', 'setiap', 'setidaknya', 'sesuatu', 'pasti', 'saja', 'toh', 'ya', 'walau', 'tolong', 'tentu', 'amat', 'apalagi', 'bagaimanapun']\n"
          ],
          "name": "stdout"
        }
      ]
    },
    {
      "cell_type": "code",
      "metadata": {
        "colab": {
          "base_uri": "https://localhost:8080/"
        },
        "id": "pJTaya6wItyd",
        "outputId": "b0cb0387-72b7-40ef-9b27-90a1e674d73f"
      },
      "source": [
        "#menambah stopwords\r\n",
        "stopword_tambahan = ['budhi','sarwono','merupakan']\r\n",
        "stopwords_lengkap = factory.get_stop_words() + stopword_tambahan\r\n",
        "new_dictionary = ArrayDictionary(stopwords_lengkap)\r\n",
        "print(new_dictionary.words)"
      ],
      "execution_count": 28,
      "outputs": [
        {
          "output_type": "stream",
          "text": [
            "['yang', 'untuk', 'pada', 'ke', 'para', 'namun', 'menurut', 'antara', 'dia', 'dua', 'ia', 'seperti', 'jika', 'jika', 'sehingga', 'kembali', 'dan', 'tidak', 'ini', 'karena', 'kepada', 'oleh', 'saat', 'harus', 'sementara', 'setelah', 'belum', 'kami', 'sekitar', 'bagi', 'serta', 'di', 'dari', 'telah', 'sebagai', 'masih', 'hal', 'ketika', 'adalah', 'itu', 'dalam', 'bisa', 'bahwa', 'atau', 'hanya', 'kita', 'dengan', 'akan', 'juga', 'ada', 'mereka', 'sudah', 'saya', 'terhadap', 'secara', 'agar', 'lain', 'anda', 'begitu', 'mengapa', 'kenapa', 'yaitu', 'yakni', 'daripada', 'itulah', 'lagi', 'maka', 'tentang', 'demi', 'dimana', 'kemana', 'pula', 'sambil', 'sebelum', 'sesudah', 'supaya', 'guna', 'kah', 'pun', 'sampai', 'sedangkan', 'selagi', 'sementara', 'tetapi', 'apakah', 'kecuali', 'sebab', 'selain', 'seolah', 'seraya', 'seterusnya', 'tanpa', 'agak', 'boleh', 'dapat', 'dsb', 'dst', 'dll', 'dahulu', 'dulunya', 'anu', 'demikian', 'tapi', 'ingin', 'juga', 'nggak', 'mari', 'nanti', 'melainkan', 'oh', 'ok', 'seharusnya', 'sebetulnya', 'setiap', 'setidaknya', 'sesuatu', 'pasti', 'saja', 'toh', 'ya', 'walau', 'tolong', 'tentu', 'amat', 'apalagi', 'bagaimanapun', 'budhi', 'sarwono', 'merupakan']\n"
          ],
          "name": "stdout"
        }
      ]
    },
    {
      "cell_type": "markdown",
      "metadata": {
        "id": "wYSYb3_rLaRi"
      },
      "source": [
        "### **Melakukan StopWord Removal pada Hasil Stemming**"
      ]
    },
    {
      "cell_type": "code",
      "metadata": {
        "colab": {
          "base_uri": "https://localhost:8080/"
        },
        "id": "r0XaeVBoLdtS",
        "outputId": "1a9ce4fa-e20e-4e54-c065-52bab781cd73"
      },
      "source": [
        "factory_new = StopWordRemover(new_dictionary)\r\n",
        "hasil_stopword_removal = factory_new.remove(hasil_stemming)\r\n",
        "print(hasil_stopword_removal)"
      ],
      "execution_count": 32,
      "outputs": [
        {
          "output_type": "stream",
          "text": [
            "11 asn banjarnegara positif corona tenaga medis puskesmas banjarnegara kompascom banyak 11 aparatur sipil negara asn lingkung perintah kabupaten pemkab banjarnegara jawa tengah konfirmasi positif virus corona covid19 bupati banjarnegara sarwono ungkap rupa tenaga medis di jumlah puskesmas rawat awat khusus 11 orang beberapa tenaga sehat asn kata konferensi pers di rumah dinas senin 672020 malam turut tenaga sehat konfirmasi positif covid19 duga papar pasien sedang asn duga papar warga lokal akibat tenaga sehat positif covid19 lanjut pihak sempat tutup lima puskesmas senin 672020 puskesmas sebut operasi hari sementara waktu sih sterilisasi cek ada lima puskesmas beberapa tenaga sehat lain asn kontak erat pasien ujar dengan tambah sebut hingga saat ini catat banyak 54 kasus covid19 rinciannya banyak 41 orang sembuh 22 orang dalam awat satu orang tinggal dunia tambah tes swab akan kembali lanjut hadap warga risiko papar covid19 sudah swab 200 lebih sengaja laku itu lebih awal laku bisa deteksi lebih dini kita akan swab 800 kalau kurang tambah kata\n"
          ],
          "name": "stdout"
        }
      ]
    },
    {
      "cell_type": "markdown",
      "metadata": {
        "id": "tP2c4jiZLOj8"
      },
      "source": [
        "### **Melakukan Tokenisasi Kembali Pada StopWord Removal**"
      ]
    },
    {
      "cell_type": "code",
      "metadata": {
        "colab": {
          "base_uri": "https://localhost:8080/"
        },
        "id": "MkTO7dCZJYOk",
        "outputId": "d0a1afc4-28ae-4329-b9ae-62abaaab8b61"
      },
      "source": [
        "#proses tokenisasi\r\n",
        "hasil_tokenisasi_stopword = nltk.tokenize.word_tokenize(hasil_stopword_removal)\r\n",
        "\r\n",
        "#menghitung kemunculan\r\n",
        "kemunculan = nltk.FreqDist(hasil_tokenisasi_stopword)\r\n",
        "print(kemunculan.most_common())"
      ],
      "execution_count": 35,
      "outputs": [
        {
          "output_type": "stream",
          "text": [
            "[('tenaga', 6), ('asn', 5), ('puskesmas', 5), ('covid19', 5), ('banjarnegara', 4), ('positif', 4), ('orang', 4), ('sehat', 4), ('11', 3), ('banyak', 3), ('papar', 3), ('tambah', 3), ('swab', 3), ('lebih', 3), ('corona', 2), ('medis', 2), ('konfirmasi', 2), ('di', 2), ('awat', 2), ('beberapa', 2), ('kata', 2), ('senin', 2), ('672020', 2), ('duga', 2), ('pasien', 2), ('warga', 2), ('lanjut', 2), ('lima', 2), ('sebut', 2), ('akan', 2), ('laku', 2), ('kompascom', 1), ('aparatur', 1), ('sipil', 1), ('negara', 1), ('lingkung', 1), ('perintah', 1), ('kabupaten', 1), ('pemkab', 1), ('jawa', 1), ('tengah', 1), ('virus', 1), ('bupati', 1), ('sarwono', 1), ('ungkap', 1), ('rupa', 1), ('jumlah', 1), ('rawat', 1), ('khusus', 1), ('konferensi', 1), ('pers', 1), ('rumah', 1), ('dinas', 1), ('malam', 1), ('turut', 1), ('sedang', 1), ('lokal', 1), ('akibat', 1), ('pihak', 1), ('sempat', 1), ('tutup', 1), ('operasi', 1), ('hari', 1), ('sementara', 1), ('waktu', 1), ('sih', 1), ('sterilisasi', 1), ('cek', 1), ('ada', 1), ('lain', 1), ('kontak', 1), ('erat', 1), ('ujar', 1), ('dengan', 1), ('hingga', 1), ('saat', 1), ('ini', 1), ('catat', 1), ('54', 1), ('kasus', 1), ('rinciannya', 1), ('41', 1), ('sembuh', 1), ('22', 1), ('dalam', 1), ('satu', 1), ('tinggal', 1), ('dunia', 1), ('tes', 1), ('kembali', 1), ('hadap', 1), ('risiko', 1), ('sudah', 1), ('200', 1), ('sengaja', 1), ('itu', 1), ('awal', 1), ('bisa', 1), ('deteksi', 1), ('dini', 1), ('kita', 1), ('800', 1), ('kalau', 1), ('kurang', 1)]\n"
          ],
          "name": "stdout"
        }
      ]
    },
    {
      "cell_type": "markdown",
      "metadata": {
        "id": "NqavO-xwL_th"
      },
      "source": [
        "### **Melakukan Plotting Visualisasi Hasil Akhir**"
      ]
    },
    {
      "cell_type": "code",
      "metadata": {
        "colab": {
          "base_uri": "https://localhost:8080/",
          "height": 336
        },
        "id": "GLzBxb6SL8U8",
        "outputId": "02754fd9-a054-41cd-dc5c-ade1cd6e0abc"
      },
      "source": [
        "#proses plotting\r\n",
        "kemunculan.plot(25, cumulative = False)\r\n",
        "plt.figure\r\n",
        "plt.show()"
      ],
      "execution_count": 36,
      "outputs": [
        {
          "output_type": "display_data",
          "data": {
            "image/png": "[encoded data removed]",
            "text/plain": [
              "<Figure size 432x288 with 1 Axes>"
            ]
          },
          "metadata": {
            "tags": [],
            "needs_background": "light"
          }
        }
      ]
    }
  ]
}