{
  "nbformat": 4,
  "nbformat_minor": 0,
  "metadata": {
    "colab": {
      "name": "pba_tugas_regex.ipynb",
      "provenance": []
    },
    "kernelspec": {
      "name": "python3",
      "display_name": "Python 3"
    },
    "language_info": {
      "name": "python"
    }
  },
  "cells": [
    {
      "cell_type": "code",
      "metadata": {
        "colab": {
          "base_uri": "https://localhost:8080/"
        },
        "id": "S_5hWZrtdMLS",
        "outputId": "c567a198-b20e-4184-c87f-4a7cb10c85af"
      },
      "source": [
        "import re\n",
        "\n",
        "text = \"The cat in the hat. The other hand in there, the blithe one.\"\n",
        "hasil = re.findall(r'(?i)\\w*the\\w*', text)\n",
        "print(hasil)\n",
        "hasil_the = re.findall(r'(?i)\\bthe\\b', text)\n",
        "print(hasil_the)"
      ],
      "execution_count": 1,
      "outputs": [
        {
          "output_type": "stream",
          "text": [
            "['The', 'the', 'The', 'other', 'there', 'the', 'blithe']\n",
            "['The', 'the', 'The', 'the']\n"
          ],
          "name": "stdout"
        }
      ]
    }
  ]
}